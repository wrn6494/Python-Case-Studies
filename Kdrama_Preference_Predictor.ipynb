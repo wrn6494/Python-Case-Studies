{
  "nbformat": 4,
  "nbformat_minor": 0,
  "metadata": {
    "colab": {
      "provenance": []
    },
    "kernelspec": {
      "name": "python3",
      "display_name": "Python 3"
    },
    "language_info": {
      "name": "python"
    }
  },
  "cells": [
    {
      "cell_type": "markdown",
      "source": [
        "# Introduction"
      ],
      "metadata": {
        "id": "8lysINZEawO_"
      }
    },
    {
      "cell_type": "markdown",
      "source": [
        "I watch k-dramas religiously. But honestly I don't have much time for all the kdramas available in all of the channels out there. The objective of this project is to help me decide whether the kdrama is something that I would like to watch.\n",
        "\n",
        "Data source: https://www.kaggle.com/datasets/ahbab911/top-250-korean-dramas-kdrama-dataset\n",
        "\n",
        "I further edited the dataset to include 3 columns: male lead (I think I prefer male leads), 1st genre (My hypothesis is I watch comedy a lot) and preference (the target column,whether the kdrama is my taste or not)."
      ],
      "metadata": {
        "id": "t743nDfNZS2h"
      }
    },
    {
      "cell_type": "code",
      "source": [
        "import numpy as np\n",
        "import pandas as pd\n",
        "import matplotlib.pyplot as plt\n",
        "import seaborn as sns\n",
        "import gspread as gs\n",
        "%matplotlib inline"
      ],
      "metadata": {
        "id": "VW1eHlCaeA1l"
      },
      "execution_count": null,
      "outputs": []
    },
    {
      "cell_type": "code",
      "source": [
        "file='https://docs.google.com/spreadsheets/d/e/2PACX-1vQ3VyHmaYPGrRXa9_0INVF541916Oc9oixGHFitqz_SWFsyhcH5FHqA226MaKIhz2EJv3CaMjjrD_FR/pub?gid=669078690&single=true&output=csv'\n",
        "df=pd.read_csv(file)\n",
        "df.head()"
      ],
      "metadata": {
        "colab": {
          "base_uri": "https://localhost:8080/",
          "height": 615
        },
        "id": "FlLXx_0neKnT",
        "outputId": "9c6857e6-a9e4-4eab-cf06-977a1fe3aa33"
      },
      "execution_count": null,
      "outputs": [
        {
          "output_type": "execute_result",
          "data": {
            "text/plain": [
              "                  Name                   Aired Date  Year of release  \\\n",
              "0       Move to Heaven                 May 14, 2021             2021   \n",
              "1       Flower of Evil  Jul 29, 2020 - Sep 23, 2020             2020   \n",
              "2    Hospital Playlist  Mar 12, 2020 - May 28, 2020             2020   \n",
              "3  Hospital Playlist 2  Jun 17, 2021 - Sep 16, 2021             2021   \n",
              "4            My Mister  Mar 21, 2018 - May 17, 2018             2018   \n",
              "\n",
              "  Original Network              Aired On  Number of Episodes       Duration  \\\n",
              "0          Netflix                Friday                  10        52 min.   \n",
              "1              tvN   Wednesday, Thursday                  16  1 hr. 10 min.   \n",
              "2   Netflix,  tvN               Thursday                  12  1 hr. 30 min.   \n",
              "3   Netflix,  tvN               Thursday                  12  1 hr. 40 min.   \n",
              "4              tvN   Wednesday, Thursday                  16  1 hr. 17 min.   \n",
              "\n",
              "                          Content Rating  Rating  \\\n",
              "0  18+ Restricted (violence & profanity)     9.2   \n",
              "1                15+ - Teens 15 or older     9.1   \n",
              "2                15+ - Teens 15 or older     9.1   \n",
              "3                15+ - Teens 15 or older     9.1   \n",
              "4                15+ - Teens 15 or older     9.1   \n",
              "\n",
              "                                            Synopsis  \\\n",
              "0  Geu Roo is a young autistic man. He works for ...   \n",
              "1  Although Baek Hee Sung is hiding a dark secret...   \n",
              "2  The stories of people going through their days...   \n",
              "3  Everyday is extraordinary for five doctors and...   \n",
              "4  Park Dong Hoon is a middle-aged engineer who i...   \n",
              "\n",
              "                                     Genre    First Genre  \\\n",
              "0                   Life,  Drama,  Family            Life   \n",
              "1  Thriller,  Romance,  Crime,  Melodrama        Thriller   \n",
              "2   Friendship,  Romance,  Life,  Medical      Friendship   \n",
              "3   Friendship,  Romance,  Life,  Medical      Friendship   \n",
              "4   Psychological,  Life,  Drama,  Family   Psychological   \n",
              "\n",
              "                                                Tags  \\\n",
              "0  Autism, Uncle-Nephew Relationship, Death, Sava...   \n",
              "1  Married Couple, Deception, Suspense, Family Se...   \n",
              "2  Strong Friendship, Multiple Mains, Best Friend...   \n",
              "3  Workplace, Strong Friendship, Best Friends, Mu...   \n",
              "4  Age Gap, Nice Male Lead, Strong Female Lead, H...   \n",
              "\n",
              "                     Director    Screenwriter  \\\n",
              "0                 Kim Sung Ho    Yoon Ji Ryun   \n",
              "1  Kim Chul Gyu, Yoon Jong Ho    Yoo Jung Hee   \n",
              "2                 Shin Won Ho    Lee Woo Jung   \n",
              "3                 Shin Won Ho    Lee Woo Jung   \n",
              "4   Kim Won Suk, Kim Sang Woo  Park Hae Young   \n",
              "\n",
              "                                                Cast  Lead - Male  \\\n",
              "0  Lee Je Hoon, Tang Jun Sang, Hong Seung Hee, Ju...            1   \n",
              "1  Lee Joon Gi, Moon Chae Won, Jang Hee Jin, Seo ...            1   \n",
              "2  Jo Jung Suk, Yoo Yeon Seok, Jung Kyung Ho, Kim...            1   \n",
              "3  Jo Jung Suk, Yoo Yeon Seok, Jung Kyung Ho, Kim...            1   \n",
              "4  Lee Sun Kyun, IU, Park Ho San, Song Sae Byuk, ...            1   \n",
              "\n",
              "                   Production companies Rank  Preference  \n",
              "0  Page One Film, Number Three Pictures   #1           1  \n",
              "1                         Monster Union   #2           1  \n",
              "2                 Egg Is Coming, CJ ENM   #3           1  \n",
              "3                 Egg Is Coming, CJ ENM   #4           1  \n",
              "4                      Chorokbaem Media   #5           0  "
            ],
            "text/html": [
              "\n",
              "  <div id=\"df-d111452c-bdc8-4a14-b2b8-82ee0979eb4f\">\n",
              "    <div class=\"colab-df-container\">\n",
              "      <div>\n",
              "<style scoped>\n",
              "    .dataframe tbody tr th:only-of-type {\n",
              "        vertical-align: middle;\n",
              "    }\n",
              "\n",
              "    .dataframe tbody tr th {\n",
              "        vertical-align: top;\n",
              "    }\n",
              "\n",
              "    .dataframe thead th {\n",
              "        text-align: right;\n",
              "    }\n",
              "</style>\n",
              "<table border=\"1\" class=\"dataframe\">\n",
              "  <thead>\n",
              "    <tr style=\"text-align: right;\">\n",
              "      <th></th>\n",
              "      <th>Name</th>\n",
              "      <th>Aired Date</th>\n",
              "      <th>Year of release</th>\n",
              "      <th>Original Network</th>\n",
              "      <th>Aired On</th>\n",
              "      <th>Number of Episodes</th>\n",
              "      <th>Duration</th>\n",
              "      <th>Content Rating</th>\n",
              "      <th>Rating</th>\n",
              "      <th>Synopsis</th>\n",
              "      <th>Genre</th>\n",
              "      <th>First Genre</th>\n",
              "      <th>Tags</th>\n",
              "      <th>Director</th>\n",
              "      <th>Screenwriter</th>\n",
              "      <th>Cast</th>\n",
              "      <th>Lead - Male</th>\n",
              "      <th>Production companies</th>\n",
              "      <th>Rank</th>\n",
              "      <th>Preference</th>\n",
              "    </tr>\n",
              "  </thead>\n",
              "  <tbody>\n",
              "    <tr>\n",
              "      <th>0</th>\n",
              "      <td>Move to Heaven</td>\n",
              "      <td>May 14, 2021</td>\n",
              "      <td>2021</td>\n",
              "      <td>Netflix</td>\n",
              "      <td>Friday</td>\n",
              "      <td>10</td>\n",
              "      <td>52 min.</td>\n",
              "      <td>18+ Restricted (violence &amp; profanity)</td>\n",
              "      <td>9.2</td>\n",
              "      <td>Geu Roo is a young autistic man. He works for ...</td>\n",
              "      <td>Life,  Drama,  Family</td>\n",
              "      <td>Life</td>\n",
              "      <td>Autism, Uncle-Nephew Relationship, Death, Sava...</td>\n",
              "      <td>Kim Sung Ho</td>\n",
              "      <td>Yoon Ji Ryun</td>\n",
              "      <td>Lee Je Hoon, Tang Jun Sang, Hong Seung Hee, Ju...</td>\n",
              "      <td>1</td>\n",
              "      <td>Page One Film, Number Three Pictures</td>\n",
              "      <td>#1</td>\n",
              "      <td>1</td>\n",
              "    </tr>\n",
              "    <tr>\n",
              "      <th>1</th>\n",
              "      <td>Flower of Evil</td>\n",
              "      <td>Jul 29, 2020 - Sep 23, 2020</td>\n",
              "      <td>2020</td>\n",
              "      <td>tvN</td>\n",
              "      <td>Wednesday, Thursday</td>\n",
              "      <td>16</td>\n",
              "      <td>1 hr. 10 min.</td>\n",
              "      <td>15+ - Teens 15 or older</td>\n",
              "      <td>9.1</td>\n",
              "      <td>Although Baek Hee Sung is hiding a dark secret...</td>\n",
              "      <td>Thriller,  Romance,  Crime,  Melodrama</td>\n",
              "      <td>Thriller</td>\n",
              "      <td>Married Couple, Deception, Suspense, Family Se...</td>\n",
              "      <td>Kim Chul Gyu, Yoon Jong Ho</td>\n",
              "      <td>Yoo Jung Hee</td>\n",
              "      <td>Lee Joon Gi, Moon Chae Won, Jang Hee Jin, Seo ...</td>\n",
              "      <td>1</td>\n",
              "      <td>Monster Union</td>\n",
              "      <td>#2</td>\n",
              "      <td>1</td>\n",
              "    </tr>\n",
              "    <tr>\n",
              "      <th>2</th>\n",
              "      <td>Hospital Playlist</td>\n",
              "      <td>Mar 12, 2020 - May 28, 2020</td>\n",
              "      <td>2020</td>\n",
              "      <td>Netflix,  tvN</td>\n",
              "      <td>Thursday</td>\n",
              "      <td>12</td>\n",
              "      <td>1 hr. 30 min.</td>\n",
              "      <td>15+ - Teens 15 or older</td>\n",
              "      <td>9.1</td>\n",
              "      <td>The stories of people going through their days...</td>\n",
              "      <td>Friendship,  Romance,  Life,  Medical</td>\n",
              "      <td>Friendship</td>\n",
              "      <td>Strong Friendship, Multiple Mains, Best Friend...</td>\n",
              "      <td>Shin Won Ho</td>\n",
              "      <td>Lee Woo Jung</td>\n",
              "      <td>Jo Jung Suk, Yoo Yeon Seok, Jung Kyung Ho, Kim...</td>\n",
              "      <td>1</td>\n",
              "      <td>Egg Is Coming, CJ ENM</td>\n",
              "      <td>#3</td>\n",
              "      <td>1</td>\n",
              "    </tr>\n",
              "    <tr>\n",
              "      <th>3</th>\n",
              "      <td>Hospital Playlist 2</td>\n",
              "      <td>Jun 17, 2021 - Sep 16, 2021</td>\n",
              "      <td>2021</td>\n",
              "      <td>Netflix,  tvN</td>\n",
              "      <td>Thursday</td>\n",
              "      <td>12</td>\n",
              "      <td>1 hr. 40 min.</td>\n",
              "      <td>15+ - Teens 15 or older</td>\n",
              "      <td>9.1</td>\n",
              "      <td>Everyday is extraordinary for five doctors and...</td>\n",
              "      <td>Friendship,  Romance,  Life,  Medical</td>\n",
              "      <td>Friendship</td>\n",
              "      <td>Workplace, Strong Friendship, Best Friends, Mu...</td>\n",
              "      <td>Shin Won Ho</td>\n",
              "      <td>Lee Woo Jung</td>\n",
              "      <td>Jo Jung Suk, Yoo Yeon Seok, Jung Kyung Ho, Kim...</td>\n",
              "      <td>1</td>\n",
              "      <td>Egg Is Coming, CJ ENM</td>\n",
              "      <td>#4</td>\n",
              "      <td>1</td>\n",
              "    </tr>\n",
              "    <tr>\n",
              "      <th>4</th>\n",
              "      <td>My Mister</td>\n",
              "      <td>Mar 21, 2018 - May 17, 2018</td>\n",
              "      <td>2018</td>\n",
              "      <td>tvN</td>\n",
              "      <td>Wednesday, Thursday</td>\n",
              "      <td>16</td>\n",
              "      <td>1 hr. 17 min.</td>\n",
              "      <td>15+ - Teens 15 or older</td>\n",
              "      <td>9.1</td>\n",
              "      <td>Park Dong Hoon is a middle-aged engineer who i...</td>\n",
              "      <td>Psychological,  Life,  Drama,  Family</td>\n",
              "      <td>Psychological</td>\n",
              "      <td>Age Gap, Nice Male Lead, Strong Female Lead, H...</td>\n",
              "      <td>Kim Won Suk, Kim Sang Woo</td>\n",
              "      <td>Park Hae Young</td>\n",
              "      <td>Lee Sun Kyun, IU, Park Ho San, Song Sae Byuk, ...</td>\n",
              "      <td>1</td>\n",
              "      <td>Chorokbaem Media</td>\n",
              "      <td>#5</td>\n",
              "      <td>0</td>\n",
              "    </tr>\n",
              "  </tbody>\n",
              "</table>\n",
              "</div>\n",
              "      <button class=\"colab-df-convert\" onclick=\"convertToInteractive('df-d111452c-bdc8-4a14-b2b8-82ee0979eb4f')\"\n",
              "              title=\"Convert this dataframe to an interactive table.\"\n",
              "              style=\"display:none;\">\n",
              "        \n",
              "  <svg xmlns=\"http://www.w3.org/2000/svg\" height=\"24px\"viewBox=\"0 0 24 24\"\n",
              "       width=\"24px\">\n",
              "    <path d=\"M0 0h24v24H0V0z\" fill=\"none\"/>\n",
              "    <path d=\"M18.56 5.44l.94 2.06.94-2.06 2.06-.94-2.06-.94-.94-2.06-.94 2.06-2.06.94zm-11 1L8.5 8.5l.94-2.06 2.06-.94-2.06-.94L8.5 2.5l-.94 2.06-2.06.94zm10 10l.94 2.06.94-2.06 2.06-.94-2.06-.94-.94-2.06-.94 2.06-2.06.94z\"/><path d=\"M17.41 7.96l-1.37-1.37c-.4-.4-.92-.59-1.43-.59-.52 0-1.04.2-1.43.59L10.3 9.45l-7.72 7.72c-.78.78-.78 2.05 0 2.83L4 21.41c.39.39.9.59 1.41.59.51 0 1.02-.2 1.41-.59l7.78-7.78 2.81-2.81c.8-.78.8-2.07 0-2.86zM5.41 20L4 18.59l7.72-7.72 1.47 1.35L5.41 20z\"/>\n",
              "  </svg>\n",
              "      </button>\n",
              "      \n",
              "  <style>\n",
              "    .colab-df-container {\n",
              "      display:flex;\n",
              "      flex-wrap:wrap;\n",
              "      gap: 12px;\n",
              "    }\n",
              "\n",
              "    .colab-df-convert {\n",
              "      background-color: #E8F0FE;\n",
              "      border: none;\n",
              "      border-radius: 50%;\n",
              "      cursor: pointer;\n",
              "      display: none;\n",
              "      fill: #1967D2;\n",
              "      height: 32px;\n",
              "      padding: 0 0 0 0;\n",
              "      width: 32px;\n",
              "    }\n",
              "\n",
              "    .colab-df-convert:hover {\n",
              "      background-color: #E2EBFA;\n",
              "      box-shadow: 0px 1px 2px rgba(60, 64, 67, 0.3), 0px 1px 3px 1px rgba(60, 64, 67, 0.15);\n",
              "      fill: #174EA6;\n",
              "    }\n",
              "\n",
              "    [theme=dark] .colab-df-convert {\n",
              "      background-color: #3B4455;\n",
              "      fill: #D2E3FC;\n",
              "    }\n",
              "\n",
              "    [theme=dark] .colab-df-convert:hover {\n",
              "      background-color: #434B5C;\n",
              "      box-shadow: 0px 1px 3px 1px rgba(0, 0, 0, 0.15);\n",
              "      filter: drop-shadow(0px 1px 2px rgba(0, 0, 0, 0.3));\n",
              "      fill: #FFFFFF;\n",
              "    }\n",
              "  </style>\n",
              "\n",
              "      <script>\n",
              "        const buttonEl =\n",
              "          document.querySelector('#df-d111452c-bdc8-4a14-b2b8-82ee0979eb4f button.colab-df-convert');\n",
              "        buttonEl.style.display =\n",
              "          google.colab.kernel.accessAllowed ? 'block' : 'none';\n",
              "\n",
              "        async function convertToInteractive(key) {\n",
              "          const element = document.querySelector('#df-d111452c-bdc8-4a14-b2b8-82ee0979eb4f');\n",
              "          const dataTable =\n",
              "            await google.colab.kernel.invokeFunction('convertToInteractive',\n",
              "                                                     [key], {});\n",
              "          if (!dataTable) return;\n",
              "\n",
              "          const docLinkHtml = 'Like what you see? Visit the ' +\n",
              "            '<a target=\"_blank\" href=https://colab.research.google.com/notebooks/data_table.ipynb>data table notebook</a>'\n",
              "            + ' to learn more about interactive tables.';\n",
              "          element.innerHTML = '';\n",
              "          dataTable['output_type'] = 'display_data';\n",
              "          await google.colab.output.renderOutput(dataTable, element);\n",
              "          const docLink = document.createElement('div');\n",
              "          docLink.innerHTML = docLinkHtml;\n",
              "          element.appendChild(docLink);\n",
              "        }\n",
              "      </script>\n",
              "    </div>\n",
              "  </div>\n",
              "  "
            ]
          },
          "metadata": {},
          "execution_count": 30
        }
      ]
    },
    {
      "cell_type": "code",
      "source": [
        "df.info()"
      ],
      "metadata": {
        "colab": {
          "base_uri": "https://localhost:8080/"
        },
        "id": "vXgPb57Jeg_x",
        "outputId": "4dd694fa-5518-433d-8d10-510dfbfbe362"
      },
      "execution_count": null,
      "outputs": [
        {
          "output_type": "stream",
          "name": "stdout",
          "text": [
            "<class 'pandas.core.frame.DataFrame'>\n",
            "RangeIndex: 250 entries, 0 to 249\n",
            "Data columns (total 20 columns):\n",
            " #   Column                Non-Null Count  Dtype  \n",
            "---  ------                --------------  -----  \n",
            " 0   Name                  250 non-null    object \n",
            " 1   Aired Date            250 non-null    object \n",
            " 2   Year of release       250 non-null    int64  \n",
            " 3   Original Network      250 non-null    object \n",
            " 4   Aired On              250 non-null    object \n",
            " 5   Number of Episodes    250 non-null    int64  \n",
            " 6   Duration              250 non-null    object \n",
            " 7   Content Rating        245 non-null    object \n",
            " 8   Rating                250 non-null    float64\n",
            " 9   Synopsis              250 non-null    object \n",
            " 10  Genre                 250 non-null    object \n",
            " 11  First Genre           250 non-null    object \n",
            " 12  Tags                  250 non-null    object \n",
            " 13  Director              249 non-null    object \n",
            " 14  Screenwriter          249 non-null    object \n",
            " 15  Cast                  250 non-null    object \n",
            " 16  Lead - Male           250 non-null    int64  \n",
            " 17  Production companies  248 non-null    object \n",
            " 18  Rank                  250 non-null    object \n",
            " 19  Preference            250 non-null    int64  \n",
            "dtypes: float64(1), int64(4), object(15)\n",
            "memory usage: 39.2+ KB\n"
          ]
        }
      ]
    },
    {
      "cell_type": "code",
      "source": [
        "df.describe()"
      ],
      "metadata": {
        "colab": {
          "base_uri": "https://localhost:8080/",
          "height": 300
        },
        "id": "K7MoTweoBGKC",
        "outputId": "96d2c755-1498-42c7-902e-4adc05da2bee"
      },
      "execution_count": null,
      "outputs": [
        {
          "output_type": "execute_result",
          "data": {
            "text/plain": [
              "       Year of release  Number of Episodes      Rating  Lead - Male  \\\n",
              "count        250.00000          250.000000  250.000000   250.000000   \n",
              "mean        2018.25600           19.064000    8.534000     0.684000   \n",
              "std            3.26452           13.245743    0.221359     0.465846   \n",
              "min         2003.00000            1.000000    8.300000     0.000000   \n",
              "25%         2017.00000           16.000000    8.300000     0.000000   \n",
              "50%         2019.00000           16.000000    8.500000     1.000000   \n",
              "75%         2021.00000           20.000000    8.700000     1.000000   \n",
              "max         2022.00000          133.000000    9.200000     1.000000   \n",
              "\n",
              "       Preference  \n",
              "count  250.000000  \n",
              "mean     0.224000  \n",
              "std      0.417758  \n",
              "min      0.000000  \n",
              "25%      0.000000  \n",
              "50%      0.000000  \n",
              "75%      0.000000  \n",
              "max      1.000000  "
            ],
            "text/html": [
              "\n",
              "  <div id=\"df-5d3d5f6d-6f71-4fa0-865d-e3c4673238fa\">\n",
              "    <div class=\"colab-df-container\">\n",
              "      <div>\n",
              "<style scoped>\n",
              "    .dataframe tbody tr th:only-of-type {\n",
              "        vertical-align: middle;\n",
              "    }\n",
              "\n",
              "    .dataframe tbody tr th {\n",
              "        vertical-align: top;\n",
              "    }\n",
              "\n",
              "    .dataframe thead th {\n",
              "        text-align: right;\n",
              "    }\n",
              "</style>\n",
              "<table border=\"1\" class=\"dataframe\">\n",
              "  <thead>\n",
              "    <tr style=\"text-align: right;\">\n",
              "      <th></th>\n",
              "      <th>Year of release</th>\n",
              "      <th>Number of Episodes</th>\n",
              "      <th>Rating</th>\n",
              "      <th>Lead - Male</th>\n",
              "      <th>Preference</th>\n",
              "    </tr>\n",
              "  </thead>\n",
              "  <tbody>\n",
              "    <tr>\n",
              "      <th>count</th>\n",
              "      <td>250.00000</td>\n",
              "      <td>250.000000</td>\n",
              "      <td>250.000000</td>\n",
              "      <td>250.000000</td>\n",
              "      <td>250.000000</td>\n",
              "    </tr>\n",
              "    <tr>\n",
              "      <th>mean</th>\n",
              "      <td>2018.25600</td>\n",
              "      <td>19.064000</td>\n",
              "      <td>8.534000</td>\n",
              "      <td>0.684000</td>\n",
              "      <td>0.224000</td>\n",
              "    </tr>\n",
              "    <tr>\n",
              "      <th>std</th>\n",
              "      <td>3.26452</td>\n",
              "      <td>13.245743</td>\n",
              "      <td>0.221359</td>\n",
              "      <td>0.465846</td>\n",
              "      <td>0.417758</td>\n",
              "    </tr>\n",
              "    <tr>\n",
              "      <th>min</th>\n",
              "      <td>2003.00000</td>\n",
              "      <td>1.000000</td>\n",
              "      <td>8.300000</td>\n",
              "      <td>0.000000</td>\n",
              "      <td>0.000000</td>\n",
              "    </tr>\n",
              "    <tr>\n",
              "      <th>25%</th>\n",
              "      <td>2017.00000</td>\n",
              "      <td>16.000000</td>\n",
              "      <td>8.300000</td>\n",
              "      <td>0.000000</td>\n",
              "      <td>0.000000</td>\n",
              "    </tr>\n",
              "    <tr>\n",
              "      <th>50%</th>\n",
              "      <td>2019.00000</td>\n",
              "      <td>16.000000</td>\n",
              "      <td>8.500000</td>\n",
              "      <td>1.000000</td>\n",
              "      <td>0.000000</td>\n",
              "    </tr>\n",
              "    <tr>\n",
              "      <th>75%</th>\n",
              "      <td>2021.00000</td>\n",
              "      <td>20.000000</td>\n",
              "      <td>8.700000</td>\n",
              "      <td>1.000000</td>\n",
              "      <td>0.000000</td>\n",
              "    </tr>\n",
              "    <tr>\n",
              "      <th>max</th>\n",
              "      <td>2022.00000</td>\n",
              "      <td>133.000000</td>\n",
              "      <td>9.200000</td>\n",
              "      <td>1.000000</td>\n",
              "      <td>1.000000</td>\n",
              "    </tr>\n",
              "  </tbody>\n",
              "</table>\n",
              "</div>\n",
              "      <button class=\"colab-df-convert\" onclick=\"convertToInteractive('df-5d3d5f6d-6f71-4fa0-865d-e3c4673238fa')\"\n",
              "              title=\"Convert this dataframe to an interactive table.\"\n",
              "              style=\"display:none;\">\n",
              "        \n",
              "  <svg xmlns=\"http://www.w3.org/2000/svg\" height=\"24px\"viewBox=\"0 0 24 24\"\n",
              "       width=\"24px\">\n",
              "    <path d=\"M0 0h24v24H0V0z\" fill=\"none\"/>\n",
              "    <path d=\"M18.56 5.44l.94 2.06.94-2.06 2.06-.94-2.06-.94-.94-2.06-.94 2.06-2.06.94zm-11 1L8.5 8.5l.94-2.06 2.06-.94-2.06-.94L8.5 2.5l-.94 2.06-2.06.94zm10 10l.94 2.06.94-2.06 2.06-.94-2.06-.94-.94-2.06-.94 2.06-2.06.94z\"/><path d=\"M17.41 7.96l-1.37-1.37c-.4-.4-.92-.59-1.43-.59-.52 0-1.04.2-1.43.59L10.3 9.45l-7.72 7.72c-.78.78-.78 2.05 0 2.83L4 21.41c.39.39.9.59 1.41.59.51 0 1.02-.2 1.41-.59l7.78-7.78 2.81-2.81c.8-.78.8-2.07 0-2.86zM5.41 20L4 18.59l7.72-7.72 1.47 1.35L5.41 20z\"/>\n",
              "  </svg>\n",
              "      </button>\n",
              "      \n",
              "  <style>\n",
              "    .colab-df-container {\n",
              "      display:flex;\n",
              "      flex-wrap:wrap;\n",
              "      gap: 12px;\n",
              "    }\n",
              "\n",
              "    .colab-df-convert {\n",
              "      background-color: #E8F0FE;\n",
              "      border: none;\n",
              "      border-radius: 50%;\n",
              "      cursor: pointer;\n",
              "      display: none;\n",
              "      fill: #1967D2;\n",
              "      height: 32px;\n",
              "      padding: 0 0 0 0;\n",
              "      width: 32px;\n",
              "    }\n",
              "\n",
              "    .colab-df-convert:hover {\n",
              "      background-color: #E2EBFA;\n",
              "      box-shadow: 0px 1px 2px rgba(60, 64, 67, 0.3), 0px 1px 3px 1px rgba(60, 64, 67, 0.15);\n",
              "      fill: #174EA6;\n",
              "    }\n",
              "\n",
              "    [theme=dark] .colab-df-convert {\n",
              "      background-color: #3B4455;\n",
              "      fill: #D2E3FC;\n",
              "    }\n",
              "\n",
              "    [theme=dark] .colab-df-convert:hover {\n",
              "      background-color: #434B5C;\n",
              "      box-shadow: 0px 1px 3px 1px rgba(0, 0, 0, 0.15);\n",
              "      filter: drop-shadow(0px 1px 2px rgba(0, 0, 0, 0.3));\n",
              "      fill: #FFFFFF;\n",
              "    }\n",
              "  </style>\n",
              "\n",
              "      <script>\n",
              "        const buttonEl =\n",
              "          document.querySelector('#df-5d3d5f6d-6f71-4fa0-865d-e3c4673238fa button.colab-df-convert');\n",
              "        buttonEl.style.display =\n",
              "          google.colab.kernel.accessAllowed ? 'block' : 'none';\n",
              "\n",
              "        async function convertToInteractive(key) {\n",
              "          const element = document.querySelector('#df-5d3d5f6d-6f71-4fa0-865d-e3c4673238fa');\n",
              "          const dataTable =\n",
              "            await google.colab.kernel.invokeFunction('convertToInteractive',\n",
              "                                                     [key], {});\n",
              "          if (!dataTable) return;\n",
              "\n",
              "          const docLinkHtml = 'Like what you see? Visit the ' +\n",
              "            '<a target=\"_blank\" href=https://colab.research.google.com/notebooks/data_table.ipynb>data table notebook</a>'\n",
              "            + ' to learn more about interactive tables.';\n",
              "          element.innerHTML = '';\n",
              "          dataTable['output_type'] = 'display_data';\n",
              "          await google.colab.output.renderOutput(dataTable, element);\n",
              "          const docLink = document.createElement('div');\n",
              "          docLink.innerHTML = docLinkHtml;\n",
              "          element.appendChild(docLink);\n",
              "        }\n",
              "      </script>\n",
              "    </div>\n",
              "  </div>\n",
              "  "
            ]
          },
          "metadata": {},
          "execution_count": 32
        }
      ]
    },
    {
      "cell_type": "code",
      "source": [
        "df['Preference'].value_counts()"
      ],
      "metadata": {
        "colab": {
          "base_uri": "https://localhost:8080/"
        },
        "id": "9mpnBxl0vlIn",
        "outputId": "19ade535-c3d6-40b3-fcee-c71aee5b97a5"
      },
      "execution_count": null,
      "outputs": [
        {
          "output_type": "execute_result",
          "data": {
            "text/plain": [
              "0    194\n",
              "1     56\n",
              "Name: Preference, dtype: int64"
            ]
          },
          "metadata": {},
          "execution_count": 33
        }
      ]
    },
    {
      "cell_type": "code",
      "source": [
        "df['Preference'].value_counts(normalize=True)"
      ],
      "metadata": {
        "colab": {
          "base_uri": "https://localhost:8080/"
        },
        "id": "MUgWIh0eruKy",
        "outputId": "eaa8dacb-f8e9-4943-c557-ff862e9437b1"
      },
      "execution_count": null,
      "outputs": [
        {
          "output_type": "execute_result",
          "data": {
            "text/plain": [
              "0    0.776\n",
              "1    0.224\n",
              "Name: Preference, dtype: float64"
            ]
          },
          "metadata": {},
          "execution_count": 34
        }
      ]
    },
    {
      "cell_type": "code",
      "source": [
        "df_like=df[df['Preference']==1]"
      ],
      "metadata": {
        "id": "vCCViAtADDy7"
      },
      "execution_count": null,
      "outputs": []
    },
    {
      "cell_type": "code",
      "source": [
        "df['Lead - Male'].value_counts().plot(kind='bar')"
      ],
      "metadata": {
        "colab": {
          "base_uri": "https://localhost:8080/",
          "height": 279
        },
        "id": "-tEfnwhkjKjo",
        "outputId": "d06e0884-d34f-4a14-87dd-35fca0c6dbf5"
      },
      "execution_count": null,
      "outputs": [
        {
          "output_type": "execute_result",
          "data": {
            "text/plain": [
              "<Axes: >"
            ]
          },
          "metadata": {},
          "execution_count": 36
        },
        {
          "output_type": "display_data",
          "data": {
            "text/plain": [
              "<Figure size 432x288 with 1 Axes>"
            ],
            "image/png": "[encoded data removed]"
          },
          "metadata": {
            "needs_background": "light"
          }
        }
      ]
    },
    {
      "cell_type": "code",
      "source": [
        "df_like['Lead - Male'].value_counts().plot(kind='bar')"
      ],
      "metadata": {
        "colab": {
          "base_uri": "https://localhost:8080/",
          "height": 279
        },
        "id": "BSe9bOs6hMV3",
        "outputId": "5ed216fd-c472-4498-f5fe-84d20472fab9"
      },
      "execution_count": null,
      "outputs": [
        {
          "output_type": "execute_result",
          "data": {
            "text/plain": [
              "<Axes: >"
            ]
          },
          "metadata": {},
          "execution_count": 37
        },
        {
          "output_type": "display_data",
          "data": {
            "text/plain": [
              "<Figure size 432x288 with 1 Axes>"
            ],
            "image/png": "[encoded data removed]"
          },
          "metadata": {
            "needs_background": "light"
          }
        }
      ]
    },
    {
      "cell_type": "code",
      "source": [
        "df_like['Number of Episodes'].value_counts().plot(kind='bar')"
      ],
      "metadata": {
        "colab": {
          "base_uri": "https://localhost:8080/",
          "height": 285
        },
        "id": "DoiUwNQ-CtSk",
        "outputId": "eb3da14b-8379-49dc-9559-4e098944eaea"
      },
      "execution_count": null,
      "outputs": [
        {
          "output_type": "execute_result",
          "data": {
            "text/plain": [
              "<Axes: >"
            ]
          },
          "metadata": {},
          "execution_count": 38
        },
        {
          "output_type": "display_data",
          "data": {
            "text/plain": [
              "<Figure size 432x288 with 1 Axes>"
            ],
            "image/png": "[encoded data removed]"
          },
          "metadata": {
            "needs_background": "light"
          }
        }
      ]
    },
    {
      "cell_type": "code",
      "source": [
        "df['First Genre'].value_counts().plot(kind='bar')"
      ],
      "metadata": {
        "colab": {
          "base_uri": "https://localhost:8080/",
          "height": 340
        },
        "id": "otGjxX-IgX_a",
        "outputId": "136218b5-44b8-4f4b-a6ea-a75231a7f988"
      },
      "execution_count": null,
      "outputs": [
        {
          "output_type": "execute_result",
          "data": {
            "text/plain": [
              "<Axes: >"
            ]
          },
          "metadata": {},
          "execution_count": 39
        },
        {
          "output_type": "display_data",
          "data": {
            "text/plain": [
              "<Figure size 432x288 with 1 Axes>"
            ],
            "image/png": "[encoded data removed]"
          },
          "metadata": {
            "needs_background": "light"
          }
        }
      ]
    },
    {
      "cell_type": "code",
      "source": [
        "df_like['First Genre'].value_counts().plot(kind='bar')"
      ],
      "metadata": {
        "colab": {
          "base_uri": "https://localhost:8080/",
          "height": 340
        },
        "id": "3iar2pAEkreo",
        "outputId": "a0f84246-d823-4aa7-ce8c-d4df1d88a423"
      },
      "execution_count": null,
      "outputs": [
        {
          "output_type": "execute_result",
          "data": {
            "text/plain": [
              "<Axes: >"
            ]
          },
          "metadata": {},
          "execution_count": 40
        },
        {
          "output_type": "display_data",
          "data": {
            "text/plain": [
              "<Figure size 432x288 with 1 Axes>"
            ],
            "image/png": "[encoded data removed]"
          },
          "metadata": {
            "needs_background": "light"
          }
        }
      ]
    },
    {
      "cell_type": "code",
      "source": [
        "#convert duration to minutes\n",
        "df['Duration'] = df['Duration'].str.replace('[A-Za-z]\\D+','',regex=True)\n",
        "df['Duration'] = df['Duration'].str.replace(' ','',regex=True)\n",
        "df['Duration'] = pd.to_numeric(df['Duration'])\n",
        "df['Duration'].head()"
      ],
      "metadata": {
        "colab": {
          "base_uri": "https://localhost:8080/"
        },
        "id": "vVfF1xS6_d8O",
        "outputId": "edeaf5e2-9103-4219-a7e0-3e9a688f5a01"
      },
      "execution_count": null,
      "outputs": [
        {
          "output_type": "execute_result",
          "data": {
            "text/plain": [
              "0     52\n",
              "1    110\n",
              "2    130\n",
              "3    140\n",
              "4    117\n",
              "Name: Duration, dtype: int64"
            ]
          },
          "metadata": {},
          "execution_count": 41
        }
      ]
    },
    {
      "cell_type": "code",
      "source": [
        "df['Duration'].value_counts().plot(kind='bar')"
      ],
      "metadata": {
        "colab": {
          "base_uri": "https://localhost:8080/",
          "height": 291
        },
        "id": "Mi9QkNOjgf7a",
        "outputId": "547efb12-c11c-4f19-961d-a2064510c1af"
      },
      "execution_count": null,
      "outputs": [
        {
          "output_type": "execute_result",
          "data": {
            "text/plain": [
              "<Axes: >"
            ]
          },
          "metadata": {},
          "execution_count": 42
        },
        {
          "output_type": "display_data",
          "data": {
            "text/plain": [
              "<Figure size 432x288 with 1 Axes>"
            ],
            "image/png": "[encoded data removed]"
          },
          "metadata": {
            "needs_background": "light"
          }
        }
      ]
    },
    {
      "cell_type": "code",
      "source": [
        "df_like['Duration'].value_counts().plot(kind='bar')"
      ],
      "metadata": {
        "colab": {
          "base_uri": "https://localhost:8080/",
          "height": 336
        },
        "id": "hCM7d5F1CKx7",
        "outputId": "95f9edd9-9c73-43cd-fba7-862a651296ce"
      },
      "execution_count": null,
      "outputs": [
        {
          "output_type": "execute_result",
          "data": {
            "text/plain": [
              "<Axes: >"
            ]
          },
          "metadata": {},
          "execution_count": 43
        },
        {
          "output_type": "display_data",
          "data": {
            "text/plain": [
              "<Figure size 432x288 with 1 Axes>"
            ],
            "image/png": "[encoded data removed]"
          },
          "metadata": {
            "needs_background": "light"
          }
        }
      ]
    },
    {
      "cell_type": "code",
      "source": [
        "df['Original Network'].value_counts()"
      ],
      "metadata": {
        "colab": {
          "base_uri": "https://localhost:8080/"
        },
        "id": "PkPtULoJg0ho",
        "outputId": "a2f76807-a1ae-45de-c93a-5f73ad25771c"
      },
      "execution_count": null,
      "outputs": [
        {
          "output_type": "execute_result",
          "data": {
            "text/plain": [
              "tvN                       49\n",
              "SBS                       30\n",
              "MBC                       26\n",
              "KBS2                      25\n",
              "OCN                       19\n",
              "Netflix,  tvN             16\n",
              "jTBC                      15\n",
              "Netflix                   12\n",
              "Netflix, tvN               8\n",
              "jTBC, Netflix              4\n",
              "Netflix, SBS               4\n",
              "MBC, Netflix               3\n",
              "Netflix,  SBS              2\n",
              "jTBC,  Netflix             2\n",
              "YouTube                    2\n",
              "iQiyi, tvN                 2\n",
              "jTBC, Viki                 2\n",
              "Wavve                      2\n",
              "Viki                       1\n",
              "Naver TV Cast              1\n",
              "iQiyi, KBS2, Viki          1\n",
              "Channel A                  1\n",
              "Hulu                       1\n",
              "SBS, ViuTV                 1\n",
              "MBN                        1\n",
              "TV Chosun                  1\n",
              "Daum Kakao TV              1\n",
              "KBS2, Netflix              1\n",
              "Apple TV+                  1\n",
              "Disney+                    1\n",
              "Daum Kakao TV, Netflix     1\n",
              "MBC, ViuTV                 1\n",
              "tvN, ViuTV                 1\n",
              "KBS2, ViuTV                1\n",
              "iQiyi, jTBC                1\n",
              "ENA, Olleh TV              1\n",
              "OCN, tvN                   1\n",
              "KBS2,  Netflix             1\n",
              "ViuTV                      1\n",
              "jTBC,  Viki                1\n",
              "Hulu, MBC                  1\n",
              "Netflix,  OCN              1\n",
              "MBC, Viki                  1\n",
              "ENA, Netflix               1\n",
              "Naver TV Cast, vLive       1\n",
              "Name: Original Network, dtype: int64"
            ]
          },
          "metadata": {},
          "execution_count": 44
        }
      ]
    },
    {
      "cell_type": "code",
      "source": [
        "df_like['Original Network'].value_counts()"
      ],
      "metadata": {
        "colab": {
          "base_uri": "https://localhost:8080/"
        },
        "id": "SDQqGgabBlN6",
        "outputId": "e2d8afaa-ec07-47f7-c712-cd007301a301"
      },
      "execution_count": null,
      "outputs": [
        {
          "output_type": "execute_result",
          "data": {
            "text/plain": [
              "tvN                15\n",
              "Netflix,  tvN       6\n",
              "SBS                 5\n",
              "KBS2                4\n",
              "Netflix, tvN        4\n",
              "jTBC                4\n",
              "jTBC, Netflix       3\n",
              "MBC                 3\n",
              "Netflix             3\n",
              "Netflix, SBS        2\n",
              "Netflix,  OCN       1\n",
              "MBC, Netflix        1\n",
              "ENA, Netflix        1\n",
              "Netflix,  SBS       1\n",
              "Wavve               1\n",
              "jTBC,  Netflix      1\n",
              "iQiyi, tvN          1\n",
              "Name: Original Network, dtype: int64"
            ]
          },
          "metadata": {},
          "execution_count": 45
        }
      ]
    },
    {
      "cell_type": "code",
      "source": [
        "df['Aired On'].value_counts().plot(kind='bar')"
      ],
      "metadata": {
        "colab": {
          "base_uri": "https://localhost:8080/",
          "height": 512
        },
        "id": "JqKgxfR0gyza",
        "outputId": "9778eda7-e61a-4ea5-e0d8-cd57ff3b6adb"
      },
      "execution_count": null,
      "outputs": [
        {
          "output_type": "execute_result",
          "data": {
            "text/plain": [
              "<Axes: >"
            ]
          },
          "metadata": {},
          "execution_count": 46
        },
        {
          "output_type": "display_data",
          "data": {
            "text/plain": [
              "<Figure size 432x288 with 1 Axes>"
            ],
            "image/png": "[encoded data removed]"
          },
          "metadata": {
            "needs_background": "light"
          }
        }
      ]
    },
    {
      "cell_type": "code",
      "source": [
        "df_like['Aired On'].value_counts().plot(kind='bar')"
      ],
      "metadata": {
        "colab": {
          "base_uri": "https://localhost:8080/",
          "height": 386
        },
        "id": "aKRxxRAWBxMY",
        "outputId": "f485c8ab-d826-4ca3-9dcb-01176b2824a7"
      },
      "execution_count": null,
      "outputs": [
        {
          "output_type": "execute_result",
          "data": {
            "text/plain": [
              "<Axes: >"
            ]
          },
          "metadata": {},
          "execution_count": 47
        },
        {
          "output_type": "display_data",
          "data": {
            "text/plain": [
              "<Figure size 432x288 with 1 Axes>"
            ],
            "image/png": "[encoded data removed]"
          },
          "metadata": {
            "needs_background": "light"
          }
        }
      ]
    },
    {
      "cell_type": "code",
      "source": [
        "df['Year of release'].value_counts().plot(kind='bar')"
      ],
      "metadata": {
        "colab": {
          "base_uri": "https://localhost:8080/",
          "height": 298
        },
        "id": "TyYZfNQngl8p",
        "outputId": "995a32d1-e13c-44a0-bc87-a481e34f993b"
      },
      "execution_count": null,
      "outputs": [
        {
          "output_type": "execute_result",
          "data": {
            "text/plain": [
              "<Axes: >"
            ]
          },
          "metadata": {},
          "execution_count": 48
        },
        {
          "output_type": "display_data",
          "data": {
            "text/plain": [
              "<Figure size 432x288 with 1 Axes>"
            ],
            "image/png": "[encoded data removed]"
          },
          "metadata": {
            "needs_background": "light"
          }
        }
      ]
    },
    {
      "cell_type": "code",
      "source": [
        "df_like['Year of release'].value_counts().plot(kind='bar')"
      ],
      "metadata": {
        "id": "7-R-nMbiBPDg",
        "colab": {
          "base_uri": "https://localhost:8080/",
          "height": 298
        },
        "outputId": "d854366e-3dc9-4485-a4ab-e432d377c2c6"
      },
      "execution_count": null,
      "outputs": [
        {
          "output_type": "execute_result",
          "data": {
            "text/plain": [
              "<Axes: >"
            ]
          },
          "metadata": {},
          "execution_count": 49
        },
        {
          "output_type": "display_data",
          "data": {
            "text/plain": [
              "<Figure size 432x288 with 1 Axes>"
            ],
            "image/png": "[encoded data removed]"
          },
          "metadata": {
            "needs_background": "light"
          }
        }
      ]
    },
    {
      "cell_type": "markdown",
      "source": [
        "# Data Cleaning and Preparation"
      ],
      "metadata": {
        "id": "mbPnHUVYliLV"
      }
    },
    {
      "cell_type": "code",
      "source": [
        "df.dropna(axis=0,inplace=True)\n",
        "df.info()"
      ],
      "metadata": {
        "id": "e3DXdT74D0vN",
        "colab": {
          "base_uri": "https://localhost:8080/"
        },
        "outputId": "8cfbc33b-0495-4320-ceb8-80fe8cc8459c"
      },
      "execution_count": null,
      "outputs": [
        {
          "output_type": "stream",
          "name": "stdout",
          "text": [
            "<class 'pandas.core.frame.DataFrame'>\n",
            "Int64Index: 242 entries, 0 to 249\n",
            "Data columns (total 20 columns):\n",
            " #   Column                Non-Null Count  Dtype  \n",
            "---  ------                --------------  -----  \n",
            " 0   Name                  242 non-null    object \n",
            " 1   Aired Date            242 non-null    object \n",
            " 2   Year of release       242 non-null    int64  \n",
            " 3   Original Network      242 non-null    object \n",
            " 4   Aired On              242 non-null    object \n",
            " 5   Number of Episodes    242 non-null    int64  \n",
            " 6   Duration              242 non-null    int64  \n",
            " 7   Content Rating        242 non-null    object \n",
            " 8   Rating                242 non-null    float64\n",
            " 9   Synopsis              242 non-null    object \n",
            " 10  Genre                 242 non-null    object \n",
            " 11  First Genre           242 non-null    object \n",
            " 12  Tags                  242 non-null    object \n",
            " 13  Director              242 non-null    object \n",
            " 14  Screenwriter          242 non-null    object \n",
            " 15  Cast                  242 non-null    object \n",
            " 16  Lead - Male           242 non-null    int64  \n",
            " 17  Production companies  242 non-null    object \n",
            " 18  Rank                  242 non-null    object \n",
            " 19  Preference            242 non-null    int64  \n",
            "dtypes: float64(1), int64(5), object(14)\n",
            "memory usage: 39.7+ KB\n"
          ]
        }
      ]
    },
    {
      "cell_type": "code",
      "source": [
        "#removing whitespaces\n",
        "df['Original Network']=df['Original Network'].str.strip()\n",
        "df['Original Network']=df['Original Network'].str.replace('  ', ' ')\n",
        "df['Original Network'].unique()"
      ],
      "metadata": {
        "id": "PYqu_cQcpQM1",
        "colab": {
          "base_uri": "https://localhost:8080/"
        },
        "outputId": "503da070-fb32-4e4e-f53c-83939f46861b"
      },
      "execution_count": null,
      "outputs": [
        {
          "output_type": "execute_result",
          "data": {
            "text/plain": [
              "array(['Netflix', 'tvN', 'Netflix, tvN', 'Wavve', 'ENA, Netflix', 'jTBC',\n",
              "       'MBC, Netflix', 'KBS2', 'MBC, Viki', 'Netflix, OCN', 'MBC', 'SBS',\n",
              "       'OCN', 'Netflix, SBS', 'jTBC, Netflix', 'Hulu, MBC', 'iQiyi, tvN',\n",
              "       'jTBC, Viki', 'ViuTV', 'Daum Kakao TV, Netflix', 'KBS2, Netflix',\n",
              "       'OCN, tvN', 'ENA, Olleh TV', 'iQiyi, jTBC', 'KBS2, ViuTV',\n",
              "       'tvN, ViuTV', 'MBC, ViuTV', 'Apple TV+', 'Disney+',\n",
              "       'iQiyi, KBS2, Viki', 'Channel A', 'Hulu', 'Naver TV Cast', 'MBN',\n",
              "       'SBS, ViuTV', 'Daum Kakao TV', 'Viki', 'TV Chosun',\n",
              "       'Naver TV Cast, vLive'], dtype=object)"
            ]
          },
          "metadata": {},
          "execution_count": 21
        }
      ]
    },
    {
      "cell_type": "markdown",
      "source": [
        "For this project I would be using only three features: duration, no. of episodes and orginal network. "
      ],
      "metadata": {
        "id": "x5RcHd0brLAq"
      }
    },
    {
      "cell_type": "code",
      "source": [
        "#creating new dfs for target and features only\n",
        "df_new=df[['Number of Episodes','Duration','Lead - Male','Original Network','First Genre','Preference']]"
      ],
      "metadata": {
        "id": "PIpUTm9pq-CT"
      },
      "execution_count": null,
      "outputs": []
    },
    {
      "cell_type": "code",
      "source": [
        "cat=['Original Network','First Genre']"
      ],
      "metadata": {
        "id": "t90lJWn8Kl9A"
      },
      "execution_count": null,
      "outputs": []
    },
    {
      "cell_type": "code",
      "source": [
        "df_final=pd.get_dummies(df_new,columns=cat,drop_first=True)"
      ],
      "metadata": {
        "id": "zjYDWbknKnof"
      },
      "execution_count": null,
      "outputs": []
    },
    {
      "cell_type": "code",
      "source": [
        "df_final.columns"
      ],
      "metadata": {
        "colab": {
          "base_uri": "https://localhost:8080/"
        },
        "id": "H7A49qRgmG-g",
        "outputId": "a2a045ec-b44c-47a3-8c0c-e043bbb89eb7"
      },
      "execution_count": null,
      "outputs": [
        {
          "output_type": "execute_result",
          "data": {
            "text/plain": [
              "Index(['Number of Episodes', 'Duration', 'Lead - Male', 'Preference',\n",
              "       'Original Network_Channel A', 'Original Network_Daum Kakao TV',\n",
              "       'Original Network_Daum Kakao TV, Netflix', 'Original Network_Disney+',\n",
              "       'Original Network_ENA, Netflix', 'Original Network_ENA, Olleh TV',\n",
              "       'Original Network_Hulu', 'Original Network_Hulu, MBC',\n",
              "       'Original Network_KBS2', 'Original Network_KBS2, Netflix',\n",
              "       'Original Network_KBS2, ViuTV', 'Original Network_MBC',\n",
              "       'Original Network_MBC, Netflix', 'Original Network_MBC, Viki',\n",
              "       'Original Network_MBC, ViuTV', 'Original Network_MBN',\n",
              "       'Original Network_Naver TV Cast',\n",
              "       'Original Network_Naver TV Cast, vLive', 'Original Network_Netflix',\n",
              "       'Original Network_Netflix, OCN', 'Original Network_Netflix, SBS',\n",
              "       'Original Network_Netflix, tvN', 'Original Network_OCN',\n",
              "       'Original Network_OCN, tvN', 'Original Network_SBS',\n",
              "       'Original Network_SBS, ViuTV', 'Original Network_TV Chosun',\n",
              "       'Original Network_Viki', 'Original Network_ViuTV',\n",
              "       'Original Network_Wavve', 'Original Network_iQiyi, KBS2, Viki',\n",
              "       'Original Network_iQiyi, jTBC', 'Original Network_iQiyi, tvN',\n",
              "       'Original Network_jTBC', 'Original Network_jTBC, Netflix',\n",
              "       'Original Network_jTBC, Viki', 'Original Network_tvN',\n",
              "       'Original Network_tvN, ViuTV', 'First Genre_Adventure',\n",
              "       'First Genre_Business', 'First Genre_Comedy', 'First Genre_Drama',\n",
              "       'First Genre_Food', 'First Genre_Friendship', 'First Genre_Historical',\n",
              "       'First Genre_Horror', 'First Genre_Law', 'First Genre_Life',\n",
              "       'First Genre_Military', 'First Genre_Music', 'First Genre_Mystery',\n",
              "       'First Genre_Psychological', 'First Genre_Romance',\n",
              "       'First Genre_Thriller'],\n",
              "      dtype='object')"
            ]
          },
          "metadata": {},
          "execution_count": 25
        }
      ]
    },
    {
      "cell_type": "markdown",
      "source": [
        "# Creating the Model"
      ],
      "metadata": {
        "id": "QiI_AmnpECLt"
      }
    },
    {
      "cell_type": "code",
      "source": [
        "from sklearn.model_selection import train_test_split,StratifiedKFold\n",
        "\n",
        "X_train, X_test, y_train, y_test = train_test_split(df_final.drop('Preference',axis=1), \n",
        "                                                    df_final['Preference'], test_size=0.30, \n",
        "                                                    random_state=101)\n",
        "\n"
      ],
      "metadata": {
        "id": "HThBJpzprmMJ"
      },
      "execution_count": null,
      "outputs": []
    },
    {
      "cell_type": "code",
      "source": [
        "# import module\n",
        "from sklearn.preprocessing import MinMaxScaler\n",
        "\n",
        "# scale features\n",
        "scale=MinMaxScaler()\n",
        "X_train = scale.fit_transform(X_train)\n",
        "X_test = scale.transform(X_test)"
      ],
      "metadata": {
        "id": "68dkBXyvqM_p"
      },
      "execution_count": null,
      "outputs": []
    },
    {
      "cell_type": "code",
      "source": [
        "#Hyperparameter tuning\n",
        "# define model/create instance\n",
        "lr=LogisticRegression()\n",
        "\n",
        "#tuning weight for minority class then weight for majority class will be 1-weight of minority class\n",
        "#Setting the range for class weights\n",
        "weights = np.linspace(0.0,0.99,500)\n",
        "\n",
        "#specifying all hyperparameters with possible values\n",
        "param= {'C': [0.1, 0.5, 1,10,15,20], 'penalty': ['l1', 'l2'],\"class_weight\":[{0:x ,1:1.0 -x} for x in weights]}\n",
        "\n",
        "# create 5 folds\n",
        "folds = StratifiedKFold(n_splits = 5, shuffle = True, random_state = 42)\n",
        "\n",
        "#Gridsearch for hyperparam tuning\n",
        "model= GridSearchCV(estimator= lr,param_grid=param,scoring=\"f1\",cv=folds,return_train_score=True)\n",
        "\n",
        "#train model to learn relationships between x and y\n",
        "model.fit(X_train,y_train)"
      ],
      "metadata": {
        "colab": {
          "base_uri": "https://localhost:8080/",
          "height": 500
        },
        "id": "ujBjl9ges2rp",
        "outputId": "9473a844-2e4a-47f2-bc68-b56c32bad255"
      },
      "execution_count": null,
      "outputs": [
        {
          "output_type": "stream",
          "name": "stderr",
          "text": [
            "/usr/local/lib/python3.9/dist-packages/sklearn/model_selection/_validation.py:378: FitFailedWarning: \n",
            "15000 fits failed out of a total of 30000.\n",
            "The score on these train-test partitions for these parameters will be set to nan.\n",
            "If these failures are not expected, you can try to debug them by setting error_score='raise'.\n",
            "\n",
            "Below are more details about the failures:\n",
            "--------------------------------------------------------------------------------\n",
            "15000 fits failed with the following error:\n",
            "Traceback (most recent call last):\n",
            "  File \"/usr/local/lib/python3.9/dist-packages/sklearn/model_selection/_validation.py\", line 686, in _fit_and_score\n",
            "    estimator.fit(X_train, y_train, **fit_params)\n",
            "  File \"/usr/local/lib/python3.9/dist-packages/sklearn/linear_model/_logistic.py\", line 1162, in fit\n",
            "    solver = _check_solver(self.solver, self.penalty, self.dual)\n",
            "  File \"/usr/local/lib/python3.9/dist-packages/sklearn/linear_model/_logistic.py\", line 54, in _check_solver\n",
            "    raise ValueError(\n",
            "ValueError: Solver lbfgs supports only 'l2' or 'none' penalties, got l1 penalty.\n",
            "\n",
            "  warnings.warn(some_fits_failed_message, FitFailedWarning)\n",
            "/usr/local/lib/python3.9/dist-packages/sklearn/model_selection/_search.py:952: UserWarning: One or more of the test scores are non-finite: [       nan 0.38281069        nan ... 0.                nan 0.        ]\n",
            "  warnings.warn(\n",
            "/usr/local/lib/python3.9/dist-packages/sklearn/model_selection/_search.py:952: UserWarning: One or more of the train scores are non-finite: [      nan 0.3827773       nan ... 0.              nan 0.       ]\n",
            "  warnings.warn(\n"
          ]
        },
        {
          "output_type": "execute_result",
          "data": {
            "text/plain": [
              "GridSearchCV(cv=StratifiedKFold(n_splits=5, random_state=42, shuffle=True),\n",
              "             estimator=LogisticRegression(),\n",
              "             param_grid={'C': [0.1, 0.5, 1, 10, 15, 20],\n",
              "                         'class_weight': [{0: 0.0, 1: 1.0},\n",
              "                                          {0: 0.0019839679358717435,\n",
              "                                           1: 0.9980160320641283},\n",
              "                                          {0: 0.003967935871743487,\n",
              "                                           1: 0.9960320641282565},\n",
              "                                          {0: 0.0059519038076152305,\n",
              "                                           1: 0.9940480961923848},\n",
              "                                          {0: 0.007935871743486974,\n",
              "                                           1: 0.99206412825...\n",
              "                                           1: 0.9543687374749499},\n",
              "                                          {0: 0.047615230460921844,\n",
              "                                           1: 0.9523847695390781},\n",
              "                                          {0: 0.04959919839679359,\n",
              "                                           1: 0.9504008016032064},\n",
              "                                          {0: 0.05158316633266533,\n",
              "                                           1: 0.9484168336673346},\n",
              "                                          {0: 0.05356713426853708,\n",
              "                                           1: 0.9464328657314629},\n",
              "                                          {0: 0.055551102204408814,\n",
              "                                           1: 0.9444488977955912},\n",
              "                                          {0: 0.05753507014028056,\n",
              "                                           1: 0.9424649298597194}, ...],\n",
              "                         'penalty': ['l1', 'l2']},\n",
              "             return_train_score=True, scoring='f1')"
            ],
            "text/html": [
              "<style>#sk-container-id-3 {color: black;background-color: white;}#sk-container-id-3 pre{padding: 0;}#sk-container-id-3 div.sk-toggleable {background-color: white;}#sk-container-id-3 label.sk-toggleable__label {cursor: pointer;display: block;width: 100%;margin-bottom: 0;padding: 0.3em;box-sizing: border-box;text-align: center;}#sk-container-id-3 label.sk-toggleable__label-arrow:before {content: \"▸\";float: left;margin-right: 0.25em;color: #696969;}#sk-container-id-3 label.sk-toggleable__label-arrow:hover:before {color: black;}#sk-container-id-3 div.sk-estimator:hover label.sk-toggleable__label-arrow:before {color: black;}#sk-container-id-3 div.sk-toggleable__content {max-height: 0;max-width: 0;overflow: hidden;text-align: left;background-color: #f0f8ff;}#sk-container-id-3 div.sk-toggleable__content pre {margin: 0.2em;color: black;border-radius: 0.25em;background-color: #f0f8ff;}#sk-container-id-3 input.sk-toggleable__control:checked~div.sk-toggleable__content {max-height: 200px;max-width: 100%;overflow: auto;}#sk-container-id-3 input.sk-toggleable__control:checked~label.sk-toggleable__label-arrow:before {content: \"▾\";}#sk-container-id-3 div.sk-estimator input.sk-toggleable__control:checked~label.sk-toggleable__label {background-color: #d4ebff;}#sk-container-id-3 div.sk-label input.sk-toggleable__control:checked~label.sk-toggleable__label {background-color: #d4ebff;}#sk-container-id-3 input.sk-hidden--visually {border: 0;clip: rect(1px 1px 1px 1px);clip: rect(1px, 1px, 1px, 1px);height: 1px;margin: -1px;overflow: hidden;padding: 0;position: absolute;width: 1px;}#sk-container-id-3 div.sk-estimator {font-family: monospace;background-color: #f0f8ff;border: 1px dotted black;border-radius: 0.25em;box-sizing: border-box;margin-bottom: 0.5em;}#sk-container-id-3 div.sk-estimator:hover {background-color: #d4ebff;}#sk-container-id-3 div.sk-parallel-item::after {content: \"\";width: 100%;border-bottom: 1px solid gray;flex-grow: 1;}#sk-container-id-3 div.sk-label:hover label.sk-toggleable__label {background-color: #d4ebff;}#sk-container-id-3 div.sk-serial::before {content: \"\";position: absolute;border-left: 1px solid gray;box-sizing: border-box;top: 0;bottom: 0;left: 50%;z-index: 0;}#sk-container-id-3 div.sk-serial {display: flex;flex-direction: column;align-items: center;background-color: white;padding-right: 0.2em;padding-left: 0.2em;position: relative;}#sk-container-id-3 div.sk-item {position: relative;z-index: 1;}#sk-container-id-3 div.sk-parallel {display: flex;align-items: stretch;justify-content: center;background-color: white;position: relative;}#sk-container-id-3 div.sk-item::before, #sk-container-id-3 div.sk-parallel-item::before {content: \"\";position: absolute;border-left: 1px solid gray;box-sizing: border-box;top: 0;bottom: 0;left: 50%;z-index: -1;}#sk-container-id-3 div.sk-parallel-item {display: flex;flex-direction: column;z-index: 1;position: relative;background-color: white;}#sk-container-id-3 div.sk-parallel-item:first-child::after {align-self: flex-end;width: 50%;}#sk-container-id-3 div.sk-parallel-item:last-child::after {align-self: flex-start;width: 50%;}#sk-container-id-3 div.sk-parallel-item:only-child::after {width: 0;}#sk-container-id-3 div.sk-dashed-wrapped {border: 1px dashed gray;margin: 0 0.4em 0.5em 0.4em;box-sizing: border-box;padding-bottom: 0.4em;background-color: white;}#sk-container-id-3 div.sk-label label {font-family: monospace;font-weight: bold;display: inline-block;line-height: 1.2em;}#sk-container-id-3 div.sk-label-container {text-align: center;}#sk-container-id-3 div.sk-container {/* jupyter's `normalize.less` sets `[hidden] { display: none; }` but bootstrap.min.css set `[hidden] { display: none !important; }` so we also need the `!important` here to be able to override the default hidden behavior on the sphinx rendered scikit-learn.org. See: https://github.com/scikit-learn/scikit-learn/issues/21755 */display: inline-block !important;position: relative;}#sk-container-id-3 div.sk-text-repr-fallback {display: none;}</style><div id=\"sk-container-id-3\" class=\"sk-top-container\"><div class=\"sk-text-repr-fallback\"><pre>GridSearchCV(cv=StratifiedKFold(n_splits=5, random_state=42, shuffle=True),\n",
              "             estimator=LogisticRegression(),\n",
              "             param_grid={&#x27;C&#x27;: [0.1, 0.5, 1, 10, 15, 20],\n",
              "                         &#x27;class_weight&#x27;: [{0: 0.0, 1: 1.0},\n",
              "                                          {0: 0.0019839679358717435,\n",
              "                                           1: 0.9980160320641283},\n",
              "                                          {0: 0.003967935871743487,\n",
              "                                           1: 0.9960320641282565},\n",
              "                                          {0: 0.0059519038076152305,\n",
              "                                           1: 0.9940480961923848},\n",
              "                                          {0: 0.007935871743486974,\n",
              "                                           1: 0.99206412825...\n",
              "                                           1: 0.9543687374749499},\n",
              "                                          {0: 0.047615230460921844,\n",
              "                                           1: 0.9523847695390781},\n",
              "                                          {0: 0.04959919839679359,\n",
              "                                           1: 0.9504008016032064},\n",
              "                                          {0: 0.05158316633266533,\n",
              "                                           1: 0.9484168336673346},\n",
              "                                          {0: 0.05356713426853708,\n",
              "                                           1: 0.9464328657314629},\n",
              "                                          {0: 0.055551102204408814,\n",
              "                                           1: 0.9444488977955912},\n",
              "                                          {0: 0.05753507014028056,\n",
              "                                           1: 0.9424649298597194}, ...],\n",
              "                         &#x27;penalty&#x27;: [&#x27;l1&#x27;, &#x27;l2&#x27;]},\n",
              "             return_train_score=True, scoring=&#x27;f1&#x27;)</pre><b>In a Jupyter environment, please rerun this cell to show the HTML representation or trust the notebook. <br />On GitHub, the HTML representation is unable to render, please try loading this page with nbviewer.org.</b></div><div class=\"sk-container\" hidden><div class=\"sk-item sk-dashed-wrapped\"><div class=\"sk-label-container\"><div class=\"sk-label sk-toggleable\"><input class=\"sk-toggleable__control sk-hidden--visually\" id=\"sk-estimator-id-3\" type=\"checkbox\" ><label for=\"sk-estimator-id-3\" class=\"sk-toggleable__label sk-toggleable__label-arrow\">GridSearchCV</label><div class=\"sk-toggleable__content\"><pre>GridSearchCV(cv=StratifiedKFold(n_splits=5, random_state=42, shuffle=True),\n",
              "             estimator=LogisticRegression(),\n",
              "             param_grid={&#x27;C&#x27;: [0.1, 0.5, 1, 10, 15, 20],\n",
              "                         &#x27;class_weight&#x27;: [{0: 0.0, 1: 1.0},\n",
              "                                          {0: 0.0019839679358717435,\n",
              "                                           1: 0.9980160320641283},\n",
              "                                          {0: 0.003967935871743487,\n",
              "                                           1: 0.9960320641282565},\n",
              "                                          {0: 0.0059519038076152305,\n",
              "                                           1: 0.9940480961923848},\n",
              "                                          {0: 0.007935871743486974,\n",
              "                                           1: 0.99206412825...\n",
              "                                           1: 0.9543687374749499},\n",
              "                                          {0: 0.047615230460921844,\n",
              "                                           1: 0.9523847695390781},\n",
              "                                          {0: 0.04959919839679359,\n",
              "                                           1: 0.9504008016032064},\n",
              "                                          {0: 0.05158316633266533,\n",
              "                                           1: 0.9484168336673346},\n",
              "                                          {0: 0.05356713426853708,\n",
              "                                           1: 0.9464328657314629},\n",
              "                                          {0: 0.055551102204408814,\n",
              "                                           1: 0.9444488977955912},\n",
              "                                          {0: 0.05753507014028056,\n",
              "                                           1: 0.9424649298597194}, ...],\n",
              "                         &#x27;penalty&#x27;: [&#x27;l1&#x27;, &#x27;l2&#x27;]},\n",
              "             return_train_score=True, scoring=&#x27;f1&#x27;)</pre></div></div></div><div class=\"sk-parallel\"><div class=\"sk-parallel-item\"><div class=\"sk-item\"><div class=\"sk-label-container\"><div class=\"sk-label sk-toggleable\"><input class=\"sk-toggleable__control sk-hidden--visually\" id=\"sk-estimator-id-4\" type=\"checkbox\" ><label for=\"sk-estimator-id-4\" class=\"sk-toggleable__label sk-toggleable__label-arrow\">estimator: LogisticRegression</label><div class=\"sk-toggleable__content\"><pre>LogisticRegression()</pre></div></div></div><div class=\"sk-serial\"><div class=\"sk-item\"><div class=\"sk-estimator sk-toggleable\"><input class=\"sk-toggleable__control sk-hidden--visually\" id=\"sk-estimator-id-5\" type=\"checkbox\" ><label for=\"sk-estimator-id-5\" class=\"sk-toggleable__label sk-toggleable__label-arrow\">LogisticRegression</label><div class=\"sk-toggleable__content\"><pre>LogisticRegression()</pre></div></div></div></div></div></div></div></div></div></div>"
            ]
          },
          "metadata": {},
          "execution_count": 65
        }
      ]
    },
    {
      "cell_type": "code",
      "source": [
        "# print best hyperparameters\n",
        "print(\"Best F1 score: \", model.best_score_)\n",
        "print(\"Best hyperparameters: \", model.best_params_)"
      ],
      "metadata": {
        "colab": {
          "base_uri": "https://localhost:8080/"
        },
        "id": "mqhITNYwtNpU",
        "outputId": "2aac3ece-ae84-451c-ec9c-f7a99ba5acd4"
      },
      "execution_count": null,
      "outputs": [
        {
          "output_type": "stream",
          "name": "stdout",
          "text": [
            "Best F1 score:  0.4803684210526315\n",
            "Best hyperparameters:  {'C': 1, 'class_weight': {0: 0.23410821643286572, 1: 0.7658917835671343}, 'penalty': 'l2'}\n"
          ]
        }
      ]
    },
    {
      "cell_type": "code",
      "source": [
        "#model fit with best hyperparameters\n",
        "logreg = LogisticRegression(class_weight={0:0.23410821643286572,1:0.7658917835671343}, C=1,penalty='l2')\n",
        "logreg.fit(X_train, np.ravel(y_train))"
      ],
      "metadata": {
        "colab": {
          "base_uri": "https://localhost:8080/",
          "height": 92
        },
        "id": "GV-nR59Ot7HW",
        "outputId": "ac6ef08b-f91c-4f14-b05a-6f7e575097f7"
      },
      "execution_count": null,
      "outputs": [
        {
          "output_type": "execute_result",
          "data": {
            "text/plain": [
              "LogisticRegression(C=1,\n",
              "                   class_weight={0: 0.23410821643286572, 1: 0.7658917835671343})"
            ],
            "text/html": [
              "<style>#sk-container-id-4 {color: black;background-color: white;}#sk-container-id-4 pre{padding: 0;}#sk-container-id-4 div.sk-toggleable {background-color: white;}#sk-container-id-4 label.sk-toggleable__label {cursor: pointer;display: block;width: 100%;margin-bottom: 0;padding: 0.3em;box-sizing: border-box;text-align: center;}#sk-container-id-4 label.sk-toggleable__label-arrow:before {content: \"▸\";float: left;margin-right: 0.25em;color: #696969;}#sk-container-id-4 label.sk-toggleable__label-arrow:hover:before {color: black;}#sk-container-id-4 div.sk-estimator:hover label.sk-toggleable__label-arrow:before {color: black;}#sk-container-id-4 div.sk-toggleable__content {max-height: 0;max-width: 0;overflow: hidden;text-align: left;background-color: #f0f8ff;}#sk-container-id-4 div.sk-toggleable__content pre {margin: 0.2em;color: black;border-radius: 0.25em;background-color: #f0f8ff;}#sk-container-id-4 input.sk-toggleable__control:checked~div.sk-toggleable__content {max-height: 200px;max-width: 100%;overflow: auto;}#sk-container-id-4 input.sk-toggleable__control:checked~label.sk-toggleable__label-arrow:before {content: \"▾\";}#sk-container-id-4 div.sk-estimator input.sk-toggleable__control:checked~label.sk-toggleable__label {background-color: #d4ebff;}#sk-container-id-4 div.sk-label input.sk-toggleable__control:checked~label.sk-toggleable__label {background-color: #d4ebff;}#sk-container-id-4 input.sk-hidden--visually {border: 0;clip: rect(1px 1px 1px 1px);clip: rect(1px, 1px, 1px, 1px);height: 1px;margin: -1px;overflow: hidden;padding: 0;position: absolute;width: 1px;}#sk-container-id-4 div.sk-estimator {font-family: monospace;background-color: #f0f8ff;border: 1px dotted black;border-radius: 0.25em;box-sizing: border-box;margin-bottom: 0.5em;}#sk-container-id-4 div.sk-estimator:hover {background-color: #d4ebff;}#sk-container-id-4 div.sk-parallel-item::after {content: \"\";width: 100%;border-bottom: 1px solid gray;flex-grow: 1;}#sk-container-id-4 div.sk-label:hover label.sk-toggleable__label {background-color: #d4ebff;}#sk-container-id-4 div.sk-serial::before {content: \"\";position: absolute;border-left: 1px solid gray;box-sizing: border-box;top: 0;bottom: 0;left: 50%;z-index: 0;}#sk-container-id-4 div.sk-serial {display: flex;flex-direction: column;align-items: center;background-color: white;padding-right: 0.2em;padding-left: 0.2em;position: relative;}#sk-container-id-4 div.sk-item {position: relative;z-index: 1;}#sk-container-id-4 div.sk-parallel {display: flex;align-items: stretch;justify-content: center;background-color: white;position: relative;}#sk-container-id-4 div.sk-item::before, #sk-container-id-4 div.sk-parallel-item::before {content: \"\";position: absolute;border-left: 1px solid gray;box-sizing: border-box;top: 0;bottom: 0;left: 50%;z-index: -1;}#sk-container-id-4 div.sk-parallel-item {display: flex;flex-direction: column;z-index: 1;position: relative;background-color: white;}#sk-container-id-4 div.sk-parallel-item:first-child::after {align-self: flex-end;width: 50%;}#sk-container-id-4 div.sk-parallel-item:last-child::after {align-self: flex-start;width: 50%;}#sk-container-id-4 div.sk-parallel-item:only-child::after {width: 0;}#sk-container-id-4 div.sk-dashed-wrapped {border: 1px dashed gray;margin: 0 0.4em 0.5em 0.4em;box-sizing: border-box;padding-bottom: 0.4em;background-color: white;}#sk-container-id-4 div.sk-label label {font-family: monospace;font-weight: bold;display: inline-block;line-height: 1.2em;}#sk-container-id-4 div.sk-label-container {text-align: center;}#sk-container-id-4 div.sk-container {/* jupyter's `normalize.less` sets `[hidden] { display: none; }` but bootstrap.min.css set `[hidden] { display: none !important; }` so we also need the `!important` here to be able to override the default hidden behavior on the sphinx rendered scikit-learn.org. See: https://github.com/scikit-learn/scikit-learn/issues/21755 */display: inline-block !important;position: relative;}#sk-container-id-4 div.sk-text-repr-fallback {display: none;}</style><div id=\"sk-container-id-4\" class=\"sk-top-container\"><div class=\"sk-text-repr-fallback\"><pre>LogisticRegression(C=1,\n",
              "                   class_weight={0: 0.23410821643286572, 1: 0.7658917835671343})</pre><b>In a Jupyter environment, please rerun this cell to show the HTML representation or trust the notebook. <br />On GitHub, the HTML representation is unable to render, please try loading this page with nbviewer.org.</b></div><div class=\"sk-container\" hidden><div class=\"sk-item\"><div class=\"sk-estimator sk-toggleable\"><input class=\"sk-toggleable__control sk-hidden--visually\" id=\"sk-estimator-id-6\" type=\"checkbox\" checked><label for=\"sk-estimator-id-6\" class=\"sk-toggleable__label sk-toggleable__label-arrow\">LogisticRegression</label><div class=\"sk-toggleable__content\"><pre>LogisticRegression(C=1,\n",
              "                   class_weight={0: 0.23410821643286572, 1: 0.7658917835671343})</pre></div></div></div></div></div>"
            ]
          },
          "metadata": {},
          "execution_count": 67
        }
      ]
    },
    {
      "cell_type": "markdown",
      "source": [
        "# Evaluating the Model"
      ],
      "metadata": {
        "id": "FqTG_Wk9vNZd"
      }
    },
    {
      "cell_type": "code",
      "source": [
        "from sklearn.metrics import confusion_matrix,roc_auc_score,f1_score,precision_score,recall_score\n",
        "\n",
        "y_pred = logreg.predict(X_test)"
      ],
      "metadata": {
        "id": "ilqnb3O0vRNk"
      },
      "execution_count": null,
      "outputs": []
    },
    {
      "cell_type": "code",
      "source": [
        "#confusion_matrix\n",
        "print(confusion_matrix(y_test,y_pred))\n",
        "\n",
        "#logreg score\n",
        "print(\"\\nAccuracy of logistic regression classifier: \", logreg.score(X_test,y_test))\n",
        "\n",
        "#AUC score\n",
        "auc_score = roc_auc_score(y_test, logreg.predict_proba(X_test)[:, 1])\n",
        "print(f'AUC score: {auc_score:.4f}')\n",
        "\n",
        "#Precision score\n",
        "print(\"precision score  test dataset:\", precision_score(y_test,y_pred))\n",
        "\n",
        "#Recall Score\n",
        "print(\"Recall score  test dataset:\", recall_score(y_test,y_pred))\n",
        "\n",
        "#f1 Score\n",
        "print(\"f1 score for base model is : \" , f1_score(y_test,y_pred))"
      ],
      "metadata": {
        "colab": {
          "base_uri": "https://localhost:8080/"
        },
        "id": "KJ16q0XxuRuU",
        "outputId": "f17a8d66-9476-46c7-fb67-a33f7548c014"
      },
      "execution_count": null,
      "outputs": [
        {
          "output_type": "stream",
          "name": "stdout",
          "text": [
            "[[42 15]\n",
            " [ 7  9]]\n",
            "\n",
            "Accuracy of logistic regression classifier:  0.6986301369863014\n",
            "AUC score: 0.7741\n",
            "precision score  test dataset: 0.375\n",
            "Recall score  test dataset: 0.5625\n",
            "f1 score for base model is :  0.45\n"
          ]
        }
      ]
    },
    {
      "cell_type": "markdown",
      "source": [
        "# New Kdramas"
      ],
      "metadata": {
        "id": "FZA_eyYz1hgi"
      }
    },
    {
      "cell_type": "code",
      "source": [
        "file='https://docs.google.com/spreadsheets/d/e/2PACX-1vSwFvQmKovAbicqrON2ZYkHA4m19uf1FkFsPFiUBi7LLMODv79Gec_IU6R02bO9qbO9XuGe31vFnYrF/pub?gid=0&single=true&output=csv'\n",
        "test_df=pd.read_csv(file)\n",
        "test_df"
      ],
      "metadata": {
        "colab": {
          "base_uri": "https://localhost:8080/",
          "height": 269
        },
        "id": "EFGf3pIv0AQ7",
        "outputId": "bc5e0d80-6c74-4a0b-bcc3-8ad379f0019a"
      },
      "execution_count": null,
      "outputs": [
        {
          "output_type": "execute_result",
          "data": {
            "text/plain": [
              "                      Name  Number of Episodes  Duration  Lead - Male  \\\n",
              "0         Love to Hate You                  10        52            0   \n",
              "1   Kokdu: Season of Deity                  16        80            1   \n",
              "2  Crash Course in Romance                  16        75            0   \n",
              "3        The Heavenly Idol                  12        70            1   \n",
              "4             call it love                  16        70            1   \n",
              "5              Brain Works                  16        70            1   \n",
              "6           Unlock My Boss                  12        60            1   \n",
              "\n",
              "  Original Network First Genre  Preference  \n",
              "0          Netflix      Comedy           1  \n",
              "1              MBC      Comedy           0  \n",
              "2     Netflix, tvN    Thriller           0  \n",
              "3       TVING, tvN      Comedy           0  \n",
              "4             Hulu     Romance           1  \n",
              "5             KBS2     Mystery           0  \n",
              "6              ENA    Thriller           0  "
            ],
            "text/html": [
              "\n",
              "  <div id=\"df-79b21e6e-52bb-401c-b910-febdb98ea927\">\n",
              "    <div class=\"colab-df-container\">\n",
              "      <div>\n",
              "<style scoped>\n",
              "    .dataframe tbody tr th:only-of-type {\n",
              "        vertical-align: middle;\n",
              "    }\n",
              "\n",
              "    .dataframe tbody tr th {\n",
              "        vertical-align: top;\n",
              "    }\n",
              "\n",
              "    .dataframe thead th {\n",
              "        text-align: right;\n",
              "    }\n",
              "</style>\n",
              "<table border=\"1\" class=\"dataframe\">\n",
              "  <thead>\n",
              "    <tr style=\"text-align: right;\">\n",
              "      <th></th>\n",
              "      <th>Name</th>\n",
              "      <th>Number of Episodes</th>\n",
              "      <th>Duration</th>\n",
              "      <th>Lead - Male</th>\n",
              "      <th>Original Network</th>\n",
              "      <th>First Genre</th>\n",
              "      <th>Preference</th>\n",
              "    </tr>\n",
              "  </thead>\n",
              "  <tbody>\n",
              "    <tr>\n",
              "      <th>0</th>\n",
              "      <td>Love to Hate You</td>\n",
              "      <td>10</td>\n",
              "      <td>52</td>\n",
              "      <td>0</td>\n",
              "      <td>Netflix</td>\n",
              "      <td>Comedy</td>\n",
              "      <td>1</td>\n",
              "    </tr>\n",
              "    <tr>\n",
              "      <th>1</th>\n",
              "      <td>Kokdu: Season of Deity</td>\n",
              "      <td>16</td>\n",
              "      <td>80</td>\n",
              "      <td>1</td>\n",
              "      <td>MBC</td>\n",
              "      <td>Comedy</td>\n",
              "      <td>0</td>\n",
              "    </tr>\n",
              "    <tr>\n",
              "      <th>2</th>\n",
              "      <td>Crash Course in Romance</td>\n",
              "      <td>16</td>\n",
              "      <td>75</td>\n",
              "      <td>0</td>\n",
              "      <td>Netflix, tvN</td>\n",
              "      <td>Thriller</td>\n",
              "      <td>0</td>\n",
              "    </tr>\n",
              "    <tr>\n",
              "      <th>3</th>\n",
              "      <td>The Heavenly Idol</td>\n",
              "      <td>12</td>\n",
              "      <td>70</td>\n",
              "      <td>1</td>\n",
              "      <td>TVING, tvN</td>\n",
              "      <td>Comedy</td>\n",
              "      <td>0</td>\n",
              "    </tr>\n",
              "    <tr>\n",
              "      <th>4</th>\n",
              "      <td>call it love</td>\n",
              "      <td>16</td>\n",
              "      <td>70</td>\n",
              "      <td>1</td>\n",
              "      <td>Hulu</td>\n",
              "      <td>Romance</td>\n",
              "      <td>1</td>\n",
              "    </tr>\n",
              "    <tr>\n",
              "      <th>5</th>\n",
              "      <td>Brain Works</td>\n",
              "      <td>16</td>\n",
              "      <td>70</td>\n",
              "      <td>1</td>\n",
              "      <td>KBS2</td>\n",
              "      <td>Mystery</td>\n",
              "      <td>0</td>\n",
              "    </tr>\n",
              "    <tr>\n",
              "      <th>6</th>\n",
              "      <td>Unlock My Boss</td>\n",
              "      <td>12</td>\n",
              "      <td>60</td>\n",
              "      <td>1</td>\n",
              "      <td>ENA</td>\n",
              "      <td>Thriller</td>\n",
              "      <td>0</td>\n",
              "    </tr>\n",
              "  </tbody>\n",
              "</table>\n",
              "</div>\n",
              "      <button class=\"colab-df-convert\" onclick=\"convertToInteractive('df-79b21e6e-52bb-401c-b910-febdb98ea927')\"\n",
              "              title=\"Convert this dataframe to an interactive table.\"\n",
              "              style=\"display:none;\">\n",
              "        \n",
              "  <svg xmlns=\"http://www.w3.org/2000/svg\" height=\"24px\"viewBox=\"0 0 24 24\"\n",
              "       width=\"24px\">\n",
              "    <path d=\"M0 0h24v24H0V0z\" fill=\"none\"/>\n",
              "    <path d=\"M18.56 5.44l.94 2.06.94-2.06 2.06-.94-2.06-.94-.94-2.06-.94 2.06-2.06.94zm-11 1L8.5 8.5l.94-2.06 2.06-.94-2.06-.94L8.5 2.5l-.94 2.06-2.06.94zm10 10l.94 2.06.94-2.06 2.06-.94-2.06-.94-.94-2.06-.94 2.06-2.06.94z\"/><path d=\"M17.41 7.96l-1.37-1.37c-.4-.4-.92-.59-1.43-.59-.52 0-1.04.2-1.43.59L10.3 9.45l-7.72 7.72c-.78.78-.78 2.05 0 2.83L4 21.41c.39.39.9.59 1.41.59.51 0 1.02-.2 1.41-.59l7.78-7.78 2.81-2.81c.8-.78.8-2.07 0-2.86zM5.41 20L4 18.59l7.72-7.72 1.47 1.35L5.41 20z\"/>\n",
              "  </svg>\n",
              "      </button>\n",
              "      \n",
              "  <style>\n",
              "    .colab-df-container {\n",
              "      display:flex;\n",
              "      flex-wrap:wrap;\n",
              "      gap: 12px;\n",
              "    }\n",
              "\n",
              "    .colab-df-convert {\n",
              "      background-color: #E8F0FE;\n",
              "      border: none;\n",
              "      border-radius: 50%;\n",
              "      cursor: pointer;\n",
              "      display: none;\n",
              "      fill: #1967D2;\n",
              "      height: 32px;\n",
              "      padding: 0 0 0 0;\n",
              "      width: 32px;\n",
              "    }\n",
              "\n",
              "    .colab-df-convert:hover {\n",
              "      background-color: #E2EBFA;\n",
              "      box-shadow: 0px 1px 2px rgba(60, 64, 67, 0.3), 0px 1px 3px 1px rgba(60, 64, 67, 0.15);\n",
              "      fill: #174EA6;\n",
              "    }\n",
              "\n",
              "    [theme=dark] .colab-df-convert {\n",
              "      background-color: #3B4455;\n",
              "      fill: #D2E3FC;\n",
              "    }\n",
              "\n",
              "    [theme=dark] .colab-df-convert:hover {\n",
              "      background-color: #434B5C;\n",
              "      box-shadow: 0px 1px 3px 1px rgba(0, 0, 0, 0.15);\n",
              "      filter: drop-shadow(0px 1px 2px rgba(0, 0, 0, 0.3));\n",
              "      fill: #FFFFFF;\n",
              "    }\n",
              "  </style>\n",
              "\n",
              "      <script>\n",
              "        const buttonEl =\n",
              "          document.querySelector('#df-79b21e6e-52bb-401c-b910-febdb98ea927 button.colab-df-convert');\n",
              "        buttonEl.style.display =\n",
              "          google.colab.kernel.accessAllowed ? 'block' : 'none';\n",
              "\n",
              "        async function convertToInteractive(key) {\n",
              "          const element = document.querySelector('#df-79b21e6e-52bb-401c-b910-febdb98ea927');\n",
              "          const dataTable =\n",
              "            await google.colab.kernel.invokeFunction('convertToInteractive',\n",
              "                                                     [key], {});\n",
              "          if (!dataTable) return;\n",
              "\n",
              "          const docLinkHtml = 'Like what you see? Visit the ' +\n",
              "            '<a target=\"_blank\" href=https://colab.research.google.com/notebooks/data_table.ipynb>data table notebook</a>'\n",
              "            + ' to learn more about interactive tables.';\n",
              "          element.innerHTML = '';\n",
              "          dataTable['output_type'] = 'display_data';\n",
              "          await google.colab.output.renderOutput(dataTable, element);\n",
              "          const docLink = document.createElement('div');\n",
              "          docLink.innerHTML = docLinkHtml;\n",
              "          element.appendChild(docLink);\n",
              "        }\n",
              "      </script>\n",
              "    </div>\n",
              "  </div>\n",
              "  "
            ]
          },
          "metadata": {},
          "execution_count": 110
        }
      ]
    },
    {
      "cell_type": "code",
      "source": [
        "test_df=test_df.drop('Name',axis=1)"
      ],
      "metadata": {
        "id": "P0sk--do0jWD"
      },
      "execution_count": null,
      "outputs": []
    },
    {
      "cell_type": "code",
      "source": [
        "test_df=pd.get_dummies(test_df)"
      ],
      "metadata": {
        "id": "jfTa9XOT7qSD"
      },
      "execution_count": null,
      "outputs": []
    },
    {
      "cell_type": "code",
      "source": [
        "test_df"
      ],
      "metadata": {
        "colab": {
          "base_uri": "https://localhost:8080/",
          "height": 330
        },
        "id": "3TDQaCr98ouP",
        "outputId": "e72ce914-56b9-4931-a96a-388c191e81e0"
      },
      "execution_count": null,
      "outputs": [
        {
          "output_type": "execute_result",
          "data": {
            "text/plain": [
              "   Number of Episodes  Duration  Lead - Male  Preference  \\\n",
              "0                  10        52            0           1   \n",
              "1                  16        80            1           0   \n",
              "2                  16        75            0           0   \n",
              "3                  12        70            1           0   \n",
              "4                  16        70            1           1   \n",
              "5                  16        70            1           0   \n",
              "6                  12        60            1           0   \n",
              "\n",
              "   Original Network_ENA  Original Network_Hulu  Original Network_KBS2  \\\n",
              "0                     0                      0                      0   \n",
              "1                     0                      0                      0   \n",
              "2                     0                      0                      0   \n",
              "3                     0                      0                      0   \n",
              "4                     0                      1                      0   \n",
              "5                     0                      0                      1   \n",
              "6                     1                      0                      0   \n",
              "\n",
              "   Original Network_MBC  Original Network_Netflix  \\\n",
              "0                     0                         1   \n",
              "1                     1                         0   \n",
              "2                     0                         0   \n",
              "3                     0                         0   \n",
              "4                     0                         0   \n",
              "5                     0                         0   \n",
              "6                     0                         0   \n",
              "\n",
              "   Original Network_Netflix, tvN  Original Network_TVING, tvN  \\\n",
              "0                              0                            0   \n",
              "1                              0                            0   \n",
              "2                              1                            0   \n",
              "3                              0                            1   \n",
              "4                              0                            0   \n",
              "5                              0                            0   \n",
              "6                              0                            0   \n",
              "\n",
              "   First Genre_Comedy  First Genre_Mystery  First Genre_Romance  \\\n",
              "0                   1                    0                    0   \n",
              "1                   1                    0                    0   \n",
              "2                   0                    0                    0   \n",
              "3                   1                    0                    0   \n",
              "4                   0                    0                    1   \n",
              "5                   0                    1                    0   \n",
              "6                   0                    0                    0   \n",
              "\n",
              "   First Genre_Thriller  \n",
              "0                     0  \n",
              "1                     0  \n",
              "2                     1  \n",
              "3                     0  \n",
              "4                     0  \n",
              "5                     0  \n",
              "6                     1  "
            ],
            "text/html": [
              "\n",
              "  <div id=\"df-79d74fd2-2f74-4c68-987a-7fed8c34904f\">\n",
              "    <div class=\"colab-df-container\">\n",
              "      <div>\n",
              "<style scoped>\n",
              "    .dataframe tbody tr th:only-of-type {\n",
              "        vertical-align: middle;\n",
              "    }\n",
              "\n",
              "    .dataframe tbody tr th {\n",
              "        vertical-align: top;\n",
              "    }\n",
              "\n",
              "    .dataframe thead th {\n",
              "        text-align: right;\n",
              "    }\n",
              "</style>\n",
              "<table border=\"1\" class=\"dataframe\">\n",
              "  <thead>\n",
              "    <tr style=\"text-align: right;\">\n",
              "      <th></th>\n",
              "      <th>Number of Episodes</th>\n",
              "      <th>Duration</th>\n",
              "      <th>Lead - Male</th>\n",
              "      <th>Preference</th>\n",
              "      <th>Original Network_ENA</th>\n",
              "      <th>Original Network_Hulu</th>\n",
              "      <th>Original Network_KBS2</th>\n",
              "      <th>Original Network_MBC</th>\n",
              "      <th>Original Network_Netflix</th>\n",
              "      <th>Original Network_Netflix, tvN</th>\n",
              "      <th>Original Network_TVING, tvN</th>\n",
              "      <th>First Genre_Comedy</th>\n",
              "      <th>First Genre_Mystery</th>\n",
              "      <th>First Genre_Romance</th>\n",
              "      <th>First Genre_Thriller</th>\n",
              "    </tr>\n",
              "  </thead>\n",
              "  <tbody>\n",
              "    <tr>\n",
              "      <th>0</th>\n",
              "      <td>10</td>\n",
              "      <td>52</td>\n",
              "      <td>0</td>\n",
              "      <td>1</td>\n",
              "      <td>0</td>\n",
              "      <td>0</td>\n",
              "      <td>0</td>\n",
              "      <td>0</td>\n",
              "      <td>1</td>\n",
              "      <td>0</td>\n",
              "      <td>0</td>\n",
              "      <td>1</td>\n",
              "      <td>0</td>\n",
              "      <td>0</td>\n",
              "      <td>0</td>\n",
              "    </tr>\n",
              "    <tr>\n",
              "      <th>1</th>\n",
              "      <td>16</td>\n",
              "      <td>80</td>\n",
              "      <td>1</td>\n",
              "      <td>0</td>\n",
              "      <td>0</td>\n",
              "      <td>0</td>\n",
              "      <td>0</td>\n",
              "      <td>1</td>\n",
              "      <td>0</td>\n",
              "      <td>0</td>\n",
              "      <td>0</td>\n",
              "      <td>1</td>\n",
              "      <td>0</td>\n",
              "      <td>0</td>\n",
              "      <td>0</td>\n",
              "    </tr>\n",
              "    <tr>\n",
              "      <th>2</th>\n",
              "      <td>16</td>\n",
              "      <td>75</td>\n",
              "      <td>0</td>\n",
              "      <td>0</td>\n",
              "      <td>0</td>\n",
              "      <td>0</td>\n",
              "      <td>0</td>\n",
              "      <td>0</td>\n",
              "      <td>0</td>\n",
              "      <td>1</td>\n",
              "      <td>0</td>\n",
              "      <td>0</td>\n",
              "      <td>0</td>\n",
              "      <td>0</td>\n",
              "      <td>1</td>\n",
              "    </tr>\n",
              "    <tr>\n",
              "      <th>3</th>\n",
              "      <td>12</td>\n",
              "      <td>70</td>\n",
              "      <td>1</td>\n",
              "      <td>0</td>\n",
              "      <td>0</td>\n",
              "      <td>0</td>\n",
              "      <td>0</td>\n",
              "      <td>0</td>\n",
              "      <td>0</td>\n",
              "      <td>0</td>\n",
              "      <td>1</td>\n",
              "      <td>1</td>\n",
              "      <td>0</td>\n",
              "      <td>0</td>\n",
              "      <td>0</td>\n",
              "    </tr>\n",
              "    <tr>\n",
              "      <th>4</th>\n",
              "      <td>16</td>\n",
              "      <td>70</td>\n",
              "      <td>1</td>\n",
              "      <td>1</td>\n",
              "      <td>0</td>\n",
              "      <td>1</td>\n",
              "      <td>0</td>\n",
              "      <td>0</td>\n",
              "      <td>0</td>\n",
              "      <td>0</td>\n",
              "      <td>0</td>\n",
              "      <td>0</td>\n",
              "      <td>0</td>\n",
              "      <td>1</td>\n",
              "      <td>0</td>\n",
              "    </tr>\n",
              "    <tr>\n",
              "      <th>5</th>\n",
              "      <td>16</td>\n",
              "      <td>70</td>\n",
              "      <td>1</td>\n",
              "      <td>0</td>\n",
              "      <td>0</td>\n",
              "      <td>0</td>\n",
              "      <td>1</td>\n",
              "      <td>0</td>\n",
              "      <td>0</td>\n",
              "      <td>0</td>\n",
              "      <td>0</td>\n",
              "      <td>0</td>\n",
              "      <td>1</td>\n",
              "      <td>0</td>\n",
              "      <td>0</td>\n",
              "    </tr>\n",
              "    <tr>\n",
              "      <th>6</th>\n",
              "      <td>12</td>\n",
              "      <td>60</td>\n",
              "      <td>1</td>\n",
              "      <td>0</td>\n",
              "      <td>1</td>\n",
              "      <td>0</td>\n",
              "      <td>0</td>\n",
              "      <td>0</td>\n",
              "      <td>0</td>\n",
              "      <td>0</td>\n",
              "      <td>0</td>\n",
              "      <td>0</td>\n",
              "      <td>0</td>\n",
              "      <td>0</td>\n",
              "      <td>1</td>\n",
              "    </tr>\n",
              "  </tbody>\n",
              "</table>\n",
              "</div>\n",
              "      <button class=\"colab-df-convert\" onclick=\"convertToInteractive('df-79d74fd2-2f74-4c68-987a-7fed8c34904f')\"\n",
              "              title=\"Convert this dataframe to an interactive table.\"\n",
              "              style=\"display:none;\">\n",
              "        \n",
              "  <svg xmlns=\"http://www.w3.org/2000/svg\" height=\"24px\"viewBox=\"0 0 24 24\"\n",
              "       width=\"24px\">\n",
              "    <path d=\"M0 0h24v24H0V0z\" fill=\"none\"/>\n",
              "    <path d=\"M18.56 5.44l.94 2.06.94-2.06 2.06-.94-2.06-.94-.94-2.06-.94 2.06-2.06.94zm-11 1L8.5 8.5l.94-2.06 2.06-.94-2.06-.94L8.5 2.5l-.94 2.06-2.06.94zm10 10l.94 2.06.94-2.06 2.06-.94-2.06-.94-.94-2.06-.94 2.06-2.06.94z\"/><path d=\"M17.41 7.96l-1.37-1.37c-.4-.4-.92-.59-1.43-.59-.52 0-1.04.2-1.43.59L10.3 9.45l-7.72 7.72c-.78.78-.78 2.05 0 2.83L4 21.41c.39.39.9.59 1.41.59.51 0 1.02-.2 1.41-.59l7.78-7.78 2.81-2.81c.8-.78.8-2.07 0-2.86zM5.41 20L4 18.59l7.72-7.72 1.47 1.35L5.41 20z\"/>\n",
              "  </svg>\n",
              "      </button>\n",
              "      \n",
              "  <style>\n",
              "    .colab-df-container {\n",
              "      display:flex;\n",
              "      flex-wrap:wrap;\n",
              "      gap: 12px;\n",
              "    }\n",
              "\n",
              "    .colab-df-convert {\n",
              "      background-color: #E8F0FE;\n",
              "      border: none;\n",
              "      border-radius: 50%;\n",
              "      cursor: pointer;\n",
              "      display: none;\n",
              "      fill: #1967D2;\n",
              "      height: 32px;\n",
              "      padding: 0 0 0 0;\n",
              "      width: 32px;\n",
              "    }\n",
              "\n",
              "    .colab-df-convert:hover {\n",
              "      background-color: #E2EBFA;\n",
              "      box-shadow: 0px 1px 2px rgba(60, 64, 67, 0.3), 0px 1px 3px 1px rgba(60, 64, 67, 0.15);\n",
              "      fill: #174EA6;\n",
              "    }\n",
              "\n",
              "    [theme=dark] .colab-df-convert {\n",
              "      background-color: #3B4455;\n",
              "      fill: #D2E3FC;\n",
              "    }\n",
              "\n",
              "    [theme=dark] .colab-df-convert:hover {\n",
              "      background-color: #434B5C;\n",
              "      box-shadow: 0px 1px 3px 1px rgba(0, 0, 0, 0.15);\n",
              "      filter: drop-shadow(0px 1px 2px rgba(0, 0, 0, 0.3));\n",
              "      fill: #FFFFFF;\n",
              "    }\n",
              "  </style>\n",
              "\n",
              "      <script>\n",
              "        const buttonEl =\n",
              "          document.querySelector('#df-79d74fd2-2f74-4c68-987a-7fed8c34904f button.colab-df-convert');\n",
              "        buttonEl.style.display =\n",
              "          google.colab.kernel.accessAllowed ? 'block' : 'none';\n",
              "\n",
              "        async function convertToInteractive(key) {\n",
              "          const element = document.querySelector('#df-79d74fd2-2f74-4c68-987a-7fed8c34904f');\n",
              "          const dataTable =\n",
              "            await google.colab.kernel.invokeFunction('convertToInteractive',\n",
              "                                                     [key], {});\n",
              "          if (!dataTable) return;\n",
              "\n",
              "          const docLinkHtml = 'Like what you see? Visit the ' +\n",
              "            '<a target=\"_blank\" href=https://colab.research.google.com/notebooks/data_table.ipynb>data table notebook</a>'\n",
              "            + ' to learn more about interactive tables.';\n",
              "          element.innerHTML = '';\n",
              "          dataTable['output_type'] = 'display_data';\n",
              "          await google.colab.output.renderOutput(dataTable, element);\n",
              "          const docLink = document.createElement('div');\n",
              "          docLink.innerHTML = docLinkHtml;\n",
              "          element.appendChild(docLink);\n",
              "        }\n",
              "      </script>\n",
              "    </div>\n",
              "  </div>\n",
              "  "
            ]
          },
          "metadata": {},
          "execution_count": 100
        }
      ]
    },
    {
      "cell_type": "code",
      "source": [
        "for column in df_final.columns:\n",
        "  if column not in test_df.columns:\n",
        "      test_df[column]=[0,0,0,0,0,0,0]\n",
        "  else:\n",
        "    None"
      ],
      "metadata": {
        "id": "LBp3WVu99I9c"
      },
      "execution_count": null,
      "outputs": []
    },
    {
      "cell_type": "code",
      "source": [
        "test_df=test_df.reindex(columns=df_final.columns, fill_value=0)\n",
        "X=test_df.drop('Preference',axis=1)"
      ],
      "metadata": {
        "id": "f8UPh4U49t0B"
      },
      "execution_count": null,
      "outputs": []
    },
    {
      "cell_type": "code",
      "source": [
        "# scale features\n",
        "scale=MinMaxScaler()\n",
        "X = scale.fit_transform(X)"
      ],
      "metadata": {
        "id": "o4DwVys21BHb"
      },
      "execution_count": null,
      "outputs": []
    },
    {
      "cell_type": "code",
      "source": [
        "print(logreg.predict(X))"
      ],
      "metadata": {
        "colab": {
          "base_uri": "https://localhost:8080/"
        },
        "id": "-xZDGOde7FkV",
        "outputId": "5d81de20-e10f-4ca5-912a-b81ee12a7a0e"
      },
      "execution_count": null,
      "outputs": [
        {
          "output_type": "stream",
          "name": "stdout",
          "text": [
            "[1 0 0 0 0 0 0]\n"
          ]
        }
      ]
    }
  ]
}