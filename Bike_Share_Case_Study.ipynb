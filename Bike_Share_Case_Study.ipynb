{
  "cells": [
    {
      "cell_type": "markdown",
      "metadata": {
        "id": "view-in-github",
        "colab_type": "text"
      },
      "source": [
        "<a href=\"https://colab.research.google.com/github/wrn6494/Python-Case-Studies/blob/main/Bike_Share_Case_Study.ipynb\" target=\"_parent\"><img src=\"https://colab.research.google.com/assets/colab-badge.svg\" alt=\"Open In Colab\"/></a>"
      ]
    },
    {
      "cell_type": "markdown",
      "metadata": {
        "id": "oUo3NyybmMuQ"
      },
      "source": [
        "# **Case Study: How Does a Bike-Share Navigate Speedy Success?**\n",
        "\n",
        "A Google Coursera Course Capstone Case Study"
      ]
    },
    {
      "cell_type": "markdown",
      "metadata": {
        "id": "zfp4XCooZYFs"
      },
      "source": [
        "# Deliverable"
      ]
    },
    {
      "cell_type": "markdown",
      "metadata": {
        "id": "lKiJaHlrY-FS"
      },
      "source": [
        "**Business Problem**\n",
        "\n",
        "The director of marketing believes the company’s future success depends on ***maximizing the number of annual memberships***. Therefore,\n",
        "the analytics team wants to **understand how casual riders and annual members use Cyclistic bikes differently**. From these insights,\n",
        "the team will design a **new marketing strategy** to convert casual riders into annual members. \n",
        "\n",
        "\n",
        "**Main Objective of this Case Study**\n",
        "\n",
        "Determine how annual members and casual riders use Cyclistic bikes\n",
        "differently."
      ]
    },
    {
      "cell_type": "markdown",
      "metadata": {
        "id": "wGhF6le7aDCe"
      },
      "source": [
        "# Key Stakeholders"
      ]
    },
    {
      "cell_type": "markdown",
      "metadata": {
        "id": "DPDP75fYaG29"
      },
      "source": [
        "* **Lily Moreno**: The director of marketing and your manager. Moreno is responsible for the development of campaigns and initiatives to promote the bike-share program. These may include email, social media, and other channels. \n",
        "\n",
        "* **Cyclistic marketing analytics team**: A team of data analysts who are responsible for collecting, analyzing, and reporting data that helps guide Cyclistic marketing strategy. \n",
        "\n",
        "* **Cyclistic executive team**: The notoriously detail-oriented executive team will decide whether to approve the recommended marketing program. "
      ]
    },
    {
      "cell_type": "markdown",
      "metadata": {
        "id": "ZwQKbfxrbLWz"
      },
      "source": [
        "# Description of Data"
      ]
    },
    {
      "cell_type": "markdown",
      "metadata": {
        "id": "U5wFR6WMbPu7"
      },
      "source": [
        "The data came from Divvy bicycle sharing service run by Lyft Bikes and Scooters, LLC (“Bikeshare”). The data has been made available by Motivate International Inc under this [license](https://ride.divvybikes.com/data-license-agreement). The data is made publicly available [here](https://divvy-tripdata.s3.amazonaws.com/index.html). For this case study we will be using the data from September 2021 to August 2022. It is stored in 12 csv files."
      ]
    },
    {
      "cell_type": "markdown",
      "metadata": {
        "id": "EXq3OptAb3tu"
      },
      "source": [
        "**About the Company**\n",
        "\n",
        "Divvy is Chicagoland’s bike share system across Chicago and Evanston. Divvy provides residents and visitors with a convenient, fun and affordable transportation option for getting around and exploring Chicago.\n",
        "Divvy, like other bike share systems, consists of a fleet of specially-designed, sturdy and durable bikes that are locked into a network of docking stations throughout the region. The bikes can be unlocked from one station and returned to any other station in the system. People use bike share to explore Chicago, commute to work or school, run errands, get to appointments or social engagements, and more.\n",
        "Divvy is available for use 24 hours/day, 7 days/week, 365 days/year, and riders have access to all bikes and stations across the system. More info can be read [here](https://ride.divvybikes.com/about)."
      ]
    },
    {
      "cell_type": "markdown",
      "metadata": {
        "id": "NVoXfS04cPkr"
      },
      "source": [
        "**About the Data**\n",
        "\n",
        "Each trip is anonymized and includes:\n",
        "   * Trip start day and time\n",
        "   * Trip end day and times\n",
        "   * Trip start station\n",
        "   * Trip end station\n",
        "   * Rider type (Member, Single Ride, and Day Pass)\n",
        "   * Ride Type\n",
        "      \n",
        "The data has been processed to remove trips that are taken by staff as they service and inspect the system; and any trips that were below 60 seconds in length (potentially false starts or users trying to re-dock a bike to ensure it was secure).\n",
        "\n",
        "Single Ride: 1 USD / unlock, 0.16 USD for each additional minute\n",
        "\n",
        "Day Pass: 15 USD / day, unlimited number of 3 hour rides over a 24-hour period. If  a bike is out for longer than 3 hours at a time, the customer will be charged an extra 0.16 USD for each additional minute.\n",
        " \n",
        "Annual Membership: 10 USD/month, the first 45 minutes of each ride are included in the membership price. If a bike is out for longer than 45 minutes at a time, the customer will be charged an extra 0.16 USD for each additional minute.\n",
        "All per minute ride prices are rounded up to the nearest minute.\n",
        " \n",
        "NOTE: If  a bike is not return within a 24-hour period, the customer may be charged a lost or stolen bike fee of $1200.\n",
        "\n",
        " https://ride.divvybikes.com/system-data\n",
        "https://help.divvybikes.com/hc/en-us/articles/360033484791-What-if-I-keep-a-bike-out-too-long-"
      ]
    },
    {
      "cell_type": "markdown",
      "metadata": {
        "id": "QUvojNwdLYB9"
      },
      "source": [
        "# Data Preparation"
      ]
    },
    {
      "cell_type": "markdown",
      "metadata": {
        "id": "wCeZkBiOl9J8"
      },
      "source": [
        "#### Combine multiple csvs into 1 dataframe"
      ]
    },
    {
      "cell_type": "code",
      "execution_count": null,
      "metadata": {
        "id": "fTH7ibrCkS5J"
      },
      "outputs": [],
      "source": [
        "import os\n",
        "import glob\n",
        "import pandas as pd\n",
        "import matplotlib.pyplot as plt\n",
        "import numpy as np\n",
        "import seaborn as sns\n",
        "from datetime import time\n",
        "from matplotlib import rcParams, cycler\n",
        "%matplotlib inline"
      ]
    },
    {
      "cell_type": "code",
      "execution_count": null,
      "metadata": {
        "id": "e6LubnlJYWYU"
      },
      "outputs": [],
      "source": [
        "directory_path = '/content/drive/My Drive/Bike Share Case Study Datasets'\n",
        "directory_files = os.listdir(directory_path)"
      ]
    },
    {
      "cell_type": "code",
      "execution_count": null,
      "metadata": {
        "id": "pbLo4bLRllE5"
      },
      "outputs": [],
      "source": [
        "df = pd.DataFrame()\n",
        "#append all files together\n",
        "for file in directory_files:\n",
        "            df_temp = pd.read_csv(os.path.join(directory_path, file))\n",
        "            df = df.append(df_temp, ignore_index=True)"
      ]
    },
    {
      "cell_type": "markdown",
      "metadata": {
        "id": "Qm1RZatcO3xK"
      },
      "source": [
        "#### Check basic details about dataframe"
      ]
    },
    {
      "cell_type": "code",
      "execution_count": null,
      "metadata": {
        "colab": {
          "base_uri": "https://localhost:8080/"
        },
        "id": "mq8wqZWytVxK",
        "outputId": "0e1bbdd0-ae3c-41e9-8a00-8c8eb05c1bac"
      },
      "outputs": [
        {
          "output_type": "stream",
          "name": "stdout",
          "text": [
            "<class 'pandas.core.frame.DataFrame'>\n",
            "RangeIndex: 5883043 entries, 0 to 5883042\n",
            "Data columns (total 13 columns):\n",
            " #   Column              Dtype  \n",
            "---  ------              -----  \n",
            " 0   ride_id             object \n",
            " 1   rideable_type       object \n",
            " 2   started_at          object \n",
            " 3   ended_at            object \n",
            " 4   start_station_name  object \n",
            " 5   start_station_id    object \n",
            " 6   end_station_name    object \n",
            " 7   end_station_id      object \n",
            " 8   start_lat           float64\n",
            " 9   start_lng           float64\n",
            " 10  end_lat             float64\n",
            " 11  end_lng             float64\n",
            " 12  member_casual       object \n",
            "dtypes: float64(4), object(9)\n",
            "memory usage: 583.5+ MB\n"
          ]
        }
      ],
      "source": [
        "#check number of records, columns, and  datatypes\n",
        "df.info()"
      ]
    },
    {
      "cell_type": "code",
      "execution_count": null,
      "metadata": {
        "colab": {
          "base_uri": "https://localhost:8080/",
          "height": 443
        },
        "id": "ZrrKK1-VOth5",
        "outputId": "2dc26d1b-b5f6-4343-a0a5-ec0457e50949"
      },
      "outputs": [
        {
          "output_type": "execute_result",
          "data": {
            "text/plain": [
              "            ride_id  rideable_type           started_at             ended_at  \\\n",
              "0  9DC7B962304CBFD8  electric_bike  2021-09-28 16:07:10  2021-09-28 16:09:54   \n",
              "1  F930E2C6872D6B32  electric_bike  2021-09-28 14:24:51  2021-09-28 14:40:05   \n",
              "2  6EF72137900BB910  electric_bike  2021-09-28 00:20:16  2021-09-28 00:23:57   \n",
              "3  78D1DE133B3DBF55  electric_bike  2021-09-28 14:51:17  2021-09-28 15:00:06   \n",
              "4  E03D4ACDCAEF6E00  electric_bike  2021-09-28 09:53:12  2021-09-28 10:03:44   \n",
              "\n",
              "  start_station_name start_station_id end_station_name end_station_id  \\\n",
              "0                NaN              NaN              NaN            NaN   \n",
              "1                NaN              NaN              NaN            NaN   \n",
              "2                NaN              NaN              NaN            NaN   \n",
              "3                NaN              NaN              NaN            NaN   \n",
              "4                NaN              NaN              NaN            NaN   \n",
              "\n",
              "   start_lat  start_lng  end_lat  end_lng member_casual  \n",
              "0      41.89     -87.68    41.89   -87.67        casual  \n",
              "1      41.94     -87.64    41.98   -87.67        casual  \n",
              "2      41.81     -87.72    41.80   -87.72        casual  \n",
              "3      41.80     -87.72    41.81   -87.72        casual  \n",
              "4      41.88     -87.74    41.88   -87.71        casual  "
            ],
            "text/html": [
              "\n",
              "  <div id=\"df-5c554d1d-7937-492c-af93-8a1fc82dc1b4\">\n",
              "    <div class=\"colab-df-container\">\n",
              "      <div>\n",
              "<style scoped>\n",
              "    .dataframe tbody tr th:only-of-type {\n",
              "        vertical-align: middle;\n",
              "    }\n",
              "\n",
              "    .dataframe tbody tr th {\n",
              "        vertical-align: top;\n",
              "    }\n",
              "\n",
              "    .dataframe thead th {\n",
              "        text-align: right;\n",
              "    }\n",
              "</style>\n",
              "<table border=\"1\" class=\"dataframe\">\n",
              "  <thead>\n",
              "    <tr style=\"text-align: right;\">\n",
              "      <th></th>\n",
              "      <th>ride_id</th>\n",
              "      <th>rideable_type</th>\n",
              "      <th>started_at</th>\n",
              "      <th>ended_at</th>\n",
              "      <th>start_station_name</th>\n",
              "      <th>start_station_id</th>\n",
              "      <th>end_station_name</th>\n",
              "      <th>end_station_id</th>\n",
              "      <th>start_lat</th>\n",
              "      <th>start_lng</th>\n",
              "      <th>end_lat</th>\n",
              "      <th>end_lng</th>\n",
              "      <th>member_casual</th>\n",
              "    </tr>\n",
              "  </thead>\n",
              "  <tbody>\n",
              "    <tr>\n",
              "      <th>0</th>\n",
              "      <td>9DC7B962304CBFD8</td>\n",
              "      <td>electric_bike</td>\n",
              "      <td>2021-09-28 16:07:10</td>\n",
              "      <td>2021-09-28 16:09:54</td>\n",
              "      <td>NaN</td>\n",
              "      <td>NaN</td>\n",
              "      <td>NaN</td>\n",
              "      <td>NaN</td>\n",
              "      <td>41.89</td>\n",
              "      <td>-87.68</td>\n",
              "      <td>41.89</td>\n",
              "      <td>-87.67</td>\n",
              "      <td>casual</td>\n",
              "    </tr>\n",
              "    <tr>\n",
              "      <th>1</th>\n",
              "      <td>F930E2C6872D6B32</td>\n",
              "      <td>electric_bike</td>\n",
              "      <td>2021-09-28 14:24:51</td>\n",
              "      <td>2021-09-28 14:40:05</td>\n",
              "      <td>NaN</td>\n",
              "      <td>NaN</td>\n",
              "      <td>NaN</td>\n",
              "      <td>NaN</td>\n",
              "      <td>41.94</td>\n",
              "      <td>-87.64</td>\n",
              "      <td>41.98</td>\n",
              "      <td>-87.67</td>\n",
              "      <td>casual</td>\n",
              "    </tr>\n",
              "    <tr>\n",
              "      <th>2</th>\n",
              "      <td>6EF72137900BB910</td>\n",
              "      <td>electric_bike</td>\n",
              "      <td>2021-09-28 00:20:16</td>\n",
              "      <td>2021-09-28 00:23:57</td>\n",
              "      <td>NaN</td>\n",
              "      <td>NaN</td>\n",
              "      <td>NaN</td>\n",
              "      <td>NaN</td>\n",
              "      <td>41.81</td>\n",
              "      <td>-87.72</td>\n",
              "      <td>41.80</td>\n",
              "      <td>-87.72</td>\n",
              "      <td>casual</td>\n",
              "    </tr>\n",
              "    <tr>\n",
              "      <th>3</th>\n",
              "      <td>78D1DE133B3DBF55</td>\n",
              "      <td>electric_bike</td>\n",
              "      <td>2021-09-28 14:51:17</td>\n",
              "      <td>2021-09-28 15:00:06</td>\n",
              "      <td>NaN</td>\n",
              "      <td>NaN</td>\n",
              "      <td>NaN</td>\n",
              "      <td>NaN</td>\n",
              "      <td>41.80</td>\n",
              "      <td>-87.72</td>\n",
              "      <td>41.81</td>\n",
              "      <td>-87.72</td>\n",
              "      <td>casual</td>\n",
              "    </tr>\n",
              "    <tr>\n",
              "      <th>4</th>\n",
              "      <td>E03D4ACDCAEF6E00</td>\n",
              "      <td>electric_bike</td>\n",
              "      <td>2021-09-28 09:53:12</td>\n",
              "      <td>2021-09-28 10:03:44</td>\n",
              "      <td>NaN</td>\n",
              "      <td>NaN</td>\n",
              "      <td>NaN</td>\n",
              "      <td>NaN</td>\n",
              "      <td>41.88</td>\n",
              "      <td>-87.74</td>\n",
              "      <td>41.88</td>\n",
              "      <td>-87.71</td>\n",
              "      <td>casual</td>\n",
              "    </tr>\n",
              "  </tbody>\n",
              "</table>\n",
              "</div>\n",
              "      <button class=\"colab-df-convert\" onclick=\"convertToInteractive('df-5c554d1d-7937-492c-af93-8a1fc82dc1b4')\"\n",
              "              title=\"Convert this dataframe to an interactive table.\"\n",
              "              style=\"display:none;\">\n",
              "        \n",
              "  <svg xmlns=\"http://www.w3.org/2000/svg\" height=\"24px\"viewBox=\"0 0 24 24\"\n",
              "       width=\"24px\">\n",
              "    <path d=\"M0 0h24v24H0V0z\" fill=\"none\"/>\n",
              "    <path d=\"M18.56 5.44l.94 2.06.94-2.06 2.06-.94-2.06-.94-.94-2.06-.94 2.06-2.06.94zm-11 1L8.5 8.5l.94-2.06 2.06-.94-2.06-.94L8.5 2.5l-.94 2.06-2.06.94zm10 10l.94 2.06.94-2.06 2.06-.94-2.06-.94-.94-2.06-.94 2.06-2.06.94z\"/><path d=\"M17.41 7.96l-1.37-1.37c-.4-.4-.92-.59-1.43-.59-.52 0-1.04.2-1.43.59L10.3 9.45l-7.72 7.72c-.78.78-.78 2.05 0 2.83L4 21.41c.39.39.9.59 1.41.59.51 0 1.02-.2 1.41-.59l7.78-7.78 2.81-2.81c.8-.78.8-2.07 0-2.86zM5.41 20L4 18.59l7.72-7.72 1.47 1.35L5.41 20z\"/>\n",
              "  </svg>\n",
              "      </button>\n",
              "      \n",
              "  <style>\n",
              "    .colab-df-container {\n",
              "      display:flex;\n",
              "      flex-wrap:wrap;\n",
              "      gap: 12px;\n",
              "    }\n",
              "\n",
              "    .colab-df-convert {\n",
              "      background-color: #E8F0FE;\n",
              "      border: none;\n",
              "      border-radius: 50%;\n",
              "      cursor: pointer;\n",
              "      display: none;\n",
              "      fill: #1967D2;\n",
              "      height: 32px;\n",
              "      padding: 0 0 0 0;\n",
              "      width: 32px;\n",
              "    }\n",
              "\n",
              "    .colab-df-convert:hover {\n",
              "      background-color: #E2EBFA;\n",
              "      box-shadow: 0px 1px 2px rgba(60, 64, 67, 0.3), 0px 1px 3px 1px rgba(60, 64, 67, 0.15);\n",
              "      fill: #174EA6;\n",
              "    }\n",
              "\n",
              "    [theme=dark] .colab-df-convert {\n",
              "      background-color: #3B4455;\n",
              "      fill: #D2E3FC;\n",
              "    }\n",
              "\n",
              "    [theme=dark] .colab-df-convert:hover {\n",
              "      background-color: #434B5C;\n",
              "      box-shadow: 0px 1px 3px 1px rgba(0, 0, 0, 0.15);\n",
              "      filter: drop-shadow(0px 1px 2px rgba(0, 0, 0, 0.3));\n",
              "      fill: #FFFFFF;\n",
              "    }\n",
              "  </style>\n",
              "\n",
              "      <script>\n",
              "        const buttonEl =\n",
              "          document.querySelector('#df-5c554d1d-7937-492c-af93-8a1fc82dc1b4 button.colab-df-convert');\n",
              "        buttonEl.style.display =\n",
              "          google.colab.kernel.accessAllowed ? 'block' : 'none';\n",
              "\n",
              "        async function convertToInteractive(key) {\n",
              "          const element = document.querySelector('#df-5c554d1d-7937-492c-af93-8a1fc82dc1b4');\n",
              "          const dataTable =\n",
              "            await google.colab.kernel.invokeFunction('convertToInteractive',\n",
              "                                                     [key], {});\n",
              "          if (!dataTable) return;\n",
              "\n",
              "          const docLinkHtml = 'Like what you see? Visit the ' +\n",
              "            '<a target=\"_blank\" href=https://colab.research.google.com/notebooks/data_table.ipynb>data table notebook</a>'\n",
              "            + ' to learn more about interactive tables.';\n",
              "          element.innerHTML = '';\n",
              "          dataTable['output_type'] = 'display_data';\n",
              "          await google.colab.output.renderOutput(dataTable, element);\n",
              "          const docLink = document.createElement('div');\n",
              "          docLink.innerHTML = docLinkHtml;\n",
              "          element.appendChild(docLink);\n",
              "        }\n",
              "      </script>\n",
              "    </div>\n",
              "  </div>\n",
              "  "
            ]
          },
          "metadata": {},
          "execution_count": 5
        }
      ],
      "source": [
        "df.head()"
      ]
    },
    {
      "cell_type": "markdown",
      "metadata": {
        "id": "9evJD3RkUXME"
      },
      "source": [
        "Started at and end at columns should be datetime data type."
      ]
    },
    {
      "cell_type": "code",
      "execution_count": null,
      "metadata": {
        "colab": {
          "base_uri": "https://localhost:8080/"
        },
        "id": "CjccQujioRtB",
        "outputId": "cb09387d-f52b-46e3-dd59-c714b4c3a60b"
      },
      "outputs": [
        {
          "output_type": "execute_result",
          "data": {
            "text/plain": [
              "end_station_name      946303\n",
              "end_station_id        946303\n",
              "start_station_name    884365\n",
              "start_station_id      884363\n",
              "end_lat                 5727\n",
              "end_lng                 5727\n",
              "ride_id                    0\n",
              "rideable_type              0\n",
              "started_at                 0\n",
              "ended_at                   0\n",
              "start_lat                  0\n",
              "start_lng                  0\n",
              "member_casual              0\n",
              "dtype: int64"
            ]
          },
          "metadata": {},
          "execution_count": 7
        }
      ],
      "source": [
        "#check null values\n",
        "df.isnull().sum().sort_values(ascending=False)"
      ]
    },
    {
      "cell_type": "code",
      "execution_count": null,
      "metadata": {
        "colab": {
          "base_uri": "https://localhost:8080/"
        },
        "id": "I2o8rlg_PgyD",
        "outputId": "391b1067-0167-4e4f-9837-1af9f59c89b6"
      },
      "outputs": [
        {
          "output_type": "execute_result",
          "data": {
            "text/plain": [
              "end_station_name      16.09\n",
              "end_station_id        16.09\n",
              "start_station_name    15.03\n",
              "start_station_id      15.03\n",
              "end_lat                0.10\n",
              "end_lng                0.10\n",
              "ride_id                0.00\n",
              "rideable_type          0.00\n",
              "started_at             0.00\n",
              "ended_at               0.00\n",
              "start_lat              0.00\n",
              "start_lng              0.00\n",
              "member_casual          0.00\n",
              "dtype: float64"
            ]
          },
          "metadata": {},
          "execution_count": 8
        }
      ],
      "source": [
        "#percentage of missing values by column\n",
        "\n",
        "round((df.isnull().sum().sort_values(ascending = False) * 100) / len(df), 2)"
      ]
    },
    {
      "cell_type": "markdown",
      "metadata": {
        "id": "ZPZ2Qi8X8a65"
      },
      "source": [
        "There are at most 16% of null data. Although we have the gps data I decided not to use it. (The docks are close to each other, gps tracking vary on weather conditions, the location is located in urban area which also reduces the gps accuracy). We will look further into the start and end stations to fill in the missing values. "
      ]
    },
    {
      "cell_type": "markdown",
      "metadata": {
        "id": "jbJCG_-vPWiE"
      },
      "source": [
        "#### Data cleaning"
      ]
    },
    {
      "cell_type": "code",
      "execution_count": null,
      "metadata": {
        "id": "eeEMpnaRTssu"
      },
      "outputs": [],
      "source": [
        "#convert data types\n",
        "df['started_at']=pd.to_datetime(df['started_at'])\n",
        "df['ended_at']=pd.to_datetime(df['ended_at'])\n",
        "df['member_casual']=(df['member_casual']).astype(str)"
      ]
    },
    {
      "cell_type": "code",
      "execution_count": null,
      "metadata": {
        "id": "3sZ1w0zNQCwC"
      },
      "outputs": [],
      "source": [
        "#check how many of the bikes are returned to its start station.\n",
        "a=np.empty(len(df))\n",
        "b=0\n",
        "for i in range(len(df)):\n",
        "  if (pd.isnull(df['start_station_name'][i])==True) and (pd.isnull(df['end_station_name'][i])==True):\n",
        "    b=b+1\n",
        "  else:\n",
        "    a[i]=df['start_station_name'][i]==df['end_station_name'][i]"
      ]
    },
    {
      "cell_type": "code",
      "execution_count": null,
      "metadata": {
        "colab": {
          "base_uri": "https://localhost:8080/"
        },
        "id": "hXBaUg25clbn",
        "outputId": "aa182661-a9f7-45a1-f45e-f5539c1e3646"
      },
      "outputs": [
        {
          "output_type": "stream",
          "name": "stdout",
          "text": [
            "% of bikes returned to its start station: 5.17 \n",
            "% of rides with both no start and end station: 8.63\n"
          ]
        }
      ],
      "source": [
        "#check the percentage of bikes returned to start station and with both null at end and start stations\n",
        "returned_tostart=round((a.sum() * 100) / len(a), 2)\n",
        "both_null=round((b* 100) / len(a), 2)\n",
        "print ('% of bikes returned to its start station:', returned_tostart,  '\\n% of rides with both no start and end station:',both_null)"
      ]
    },
    {
      "cell_type": "markdown",
      "metadata": {
        "id": "dyH9_nu8dkNt"
      },
      "source": [
        "* There are 5.17% of the total number of bikes returned to its start station. \n",
        "\n",
        "* There are 8.63% of the total number of ride with both no start and end station. I will drop these records."
      ]
    },
    {
      "cell_type": "code",
      "execution_count": null,
      "metadata": {
        "id": "qAJONndYlpAC"
      },
      "outputs": [],
      "source": [
        "#drop records with missing both start and end station. create a list of index to drop.\n",
        "c=[]\n",
        "for i in range(len(df)):\n",
        "  if (pd.isnull(df['start_station_name'][i])==True) and (pd.isnull(df['end_station_name'][i])==True):\n",
        "    c.append(i)"
      ]
    },
    {
      "cell_type": "code",
      "execution_count": null,
      "metadata": {
        "id": "fye4ngAtmdAw"
      },
      "outputs": [],
      "source": [
        "#drop records with the index list\n",
        "df.drop(df.index[c], inplace=True)"
      ]
    },
    {
      "cell_type": "markdown",
      "source": [
        "Since I don't have much data about the stations, I will just assume that the null values are borrowed and returned to their corresponding start/end station."
      ],
      "metadata": {
        "id": "fEMyNLy49BoA"
      }
    },
    {
      "cell_type": "code",
      "execution_count": null,
      "metadata": {
        "id": "-ZXzmghw0HXl"
      },
      "outputs": [],
      "source": [
        "#replace null values with their corresponding start station and end station.\n",
        "df['start_station_name'] = df['start_station_name'].fillna(df['end_station_name'])\n",
        "df['end_station_name'] = df['end_station_name'].fillna(df['start_station_name'])"
      ]
    },
    {
      "cell_type": "code",
      "execution_count": null,
      "metadata": {
        "colab": {
          "base_uri": "https://localhost:8080/"
        },
        "id": "K6aGpF4z0SUO",
        "outputId": "38fd2c34-00b7-4c63-8634-038f333dfdf8"
      },
      "outputs": [
        {
          "output_type": "execute_result",
          "data": {
            "text/plain": [
              "ride_id                    0\n",
              "rideable_type              0\n",
              "started_at                 0\n",
              "ended_at                   0\n",
              "start_station_name         0\n",
              "start_station_id      376593\n",
              "end_station_name           0\n",
              "end_station_id        438532\n",
              "start_lat                  0\n",
              "start_lng                  0\n",
              "end_lat                 5727\n",
              "end_lng                 5727\n",
              "member_casual              0\n",
              "dtype: int64"
            ]
          },
          "metadata": {},
          "execution_count": 17
        }
      ],
      "source": [
        "#check again if there are null values\n",
        "df.isnull().sum()"
      ]
    },
    {
      "cell_type": "markdown",
      "metadata": {
        "id": "IuVIc7hN0t4I"
      },
      "source": [
        "I will drop columns that I won't be using fro the anlysis:\n",
        "\n",
        "*  start_station_id \n",
        "*  end_station_id \n",
        "*  start_lat \n",
        "*  start_lng \n",
        "*  end_lat \n",
        "*  end_lng "
      ]
    },
    {
      "cell_type": "code",
      "execution_count": null,
      "metadata": {
        "id": "lu2AhlBdhp7-"
      },
      "outputs": [],
      "source": [
        "#drop columns.\n",
        "df=df.drop(['start_station_id','end_station_id','start_lat','start_lng','end_lat','end_lng'], axis=1)"
      ]
    },
    {
      "cell_type": "markdown",
      "metadata": {
        "id": "-q_afLsf2JYj"
      },
      "source": [
        "#### Looking closely at values"
      ]
    },
    {
      "cell_type": "code",
      "execution_count": null,
      "metadata": {
        "colab": {
          "base_uri": "https://localhost:8080/"
        },
        "id": "URpNufsrpmwr",
        "outputId": "61c62ebc-7f9f-4558-8fb6-92d45f06fc26"
      },
      "outputs": [
        {
          "output_type": "stream",
          "name": "stderr",
          "text": [
            "<ipython-input-20-847521acecdf>:2: FutureWarning: Dropping of nuisance columns in DataFrame reductions (with 'numeric_only=None') is deprecated; in a future version this will raise TypeError.  Select only valid columns before calling the reduction.\n",
            "  df[df['ride_id'].duplicated()=='True'].sum()\n"
          ]
        },
        {
          "output_type": "execute_result",
          "data": {
            "text/plain": [
              "ride_id               0.0\n",
              "rideable_type         0.0\n",
              "start_station_name    0.0\n",
              "end_station_name      0.0\n",
              "member_casual         0.0\n",
              "dtype: float64"
            ]
          },
          "metadata": {},
          "execution_count": 20
        }
      ],
      "source": [
        "#check if there are ride_id duplicates to see if ride id are unique to every rides or every rider\n",
        "df[df['ride_id'].duplicated()=='True'].sum()"
      ]
    },
    {
      "cell_type": "markdown",
      "metadata": {
        "id": "BojrIyWO769s"
      },
      "source": [
        "There are no duplicates in ride_id. It only corresponds to the ride itself. It is not related to the specific rider, we cannot use it to know the number of distinct members who uses the bike program. We cannot further look into each member's characteristics."
      ]
    },
    {
      "cell_type": "code",
      "execution_count": null,
      "metadata": {
        "colab": {
          "base_uri": "https://localhost:8080/"
        },
        "id": "Rpm3P_eL2lI0",
        "outputId": "4cfa1b77-c348-475d-e852-e4896b7149a0"
      },
      "outputs": [
        {
          "output_type": "stream",
          "name": "stdout",
          "text": [
            "UNIQUE VALUES BY CATEGORICAL COLUMNS\n",
            "\n",
            "\n",
            "rideable_type: \n",
            "['electric_bike' 'classic_bike' 'docked_bike']\n",
            "\n",
            "----------------------------------------------------------------------\n",
            "\n",
            "start_station_name: \n",
            "['Clark St & Grace St' 'Wells St & Walton St' 'Larrabee St & Armitage Ave'\n",
            " ... 'Public Rack - Kedzie Ave &amp; 62nd Pl' 'East End Ave & 75th St'\n",
            " 'Eggleston Ave & 115th St']\n",
            "\n",
            "----------------------------------------------------------------------\n",
            "\n",
            "end_station_name: \n",
            "['Clark St & Grace St' 'Desplaines St & Kinzie St' 'Clark St & Leland Ave'\n",
            " ... 'Public Rack - Kedzie Ave & Chicago Ave' 'Eggleston Ave & 115th St'\n",
            " 'Public Rack - Kedzie Ave &amp; 62nd Pl']\n",
            "\n",
            "----------------------------------------------------------------------\n",
            "\n",
            "member_casual: \n",
            "['casual' 'member']\n",
            "\n",
            "----------------------------------------------------------------------\n"
          ]
        }
      ],
      "source": [
        "# Categorical columns\n",
        "\n",
        "cat_columns = ['rideable_type', 'start_station_name', 'end_station_name', 'member_casual']\n",
        "\n",
        "\n",
        "# Unique values in each categorical column\n",
        "\n",
        "print(f\"Unique values by categorical columns\\n\".upper())\n",
        "\n",
        "for cat_column in cat_columns:\n",
        "    unique_values = df[cat_column].unique()\n",
        "    print(f\"\\n{cat_column}: \\n{unique_values}\\n\")\n",
        "    print('-' * 70)"
      ]
    },
    {
      "cell_type": "markdown",
      "metadata": {
        "id": "fk-yMRWX5Ajd"
      },
      "source": [
        "The rideable type - \"docked_bike' is questionable. I'll look into it further."
      ]
    },
    {
      "cell_type": "code",
      "execution_count": null,
      "metadata": {
        "colab": {
          "base_uri": "https://localhost:8080/",
          "height": 423
        },
        "id": "1Lko_1mN4wSO",
        "outputId": "f200a973-873f-489c-a09f-114ca3b3592d"
      },
      "outputs": [
        {
          "output_type": "execute_result",
          "data": {
            "text/plain": [
              "                  ride_id rideable_type          started_at  \\\n",
              "1218     E25F9BB77BF79AAA   docked_bike 2021-09-08 21:19:52   \n",
              "2222     ADCEFA40C19C4A98   docked_bike 2021-09-17 09:59:14   \n",
              "2338     F632F73A277FA645   docked_bike 2021-09-18 13:03:24   \n",
              "2532     61BEDFE97FDC3CD0   docked_bike 2021-09-26 09:55:28   \n",
              "2594     A879D2EDE2039A12   docked_bike 2021-09-03 23:23:19   \n",
              "...                   ...           ...                 ...   \n",
              "5882319  6F8B0AF48A197F2A   docked_bike 2022-08-06 17:51:53   \n",
              "5882364  FF5608845AB7570F   docked_bike 2022-08-05 15:34:23   \n",
              "5882528  25D0B21480E38D38   docked_bike 2022-08-22 22:04:10   \n",
              "5882680  4396CB18C209D3A4   docked_bike 2022-08-10 01:42:25   \n",
              "5882922  9BF3B891EAC1F45C   docked_bike 2022-08-02 22:00:35   \n",
              "\n",
              "                   ended_at            start_station_name  \\\n",
              "1218    2021-09-08 22:04:33         Michigan Ave & Oak St   \n",
              "2222    2021-09-17 10:29:53         Clark St & Leland Ave   \n",
              "2338    2021-09-18 13:25:51         Michigan Ave & Oak St   \n",
              "2532    2021-09-26 11:49:11         Michigan Ave & Oak St   \n",
              "2594    2021-09-04 00:41:59         Michigan Ave & Oak St   \n",
              "...                     ...                           ...   \n",
              "5882319 2022-08-08 05:00:12  Ashland Ave & Wellington Ave   \n",
              "5882364 2022-08-05 16:25:10      Fairbanks Ct & Grand Ave   \n",
              "5882528 2022-09-01 20:38:02        Clark St & Lincoln Ave   \n",
              "5882680 2022-08-10 01:52:15    California Ave & Cortez St   \n",
              "5882922 2022-08-02 22:31:41    California Ave & Cortez St   \n",
              "\n",
              "                       end_station_name member_casual  \n",
              "1218              Michigan Ave & Oak St        casual  \n",
              "2222                Clark St & Grace St        casual  \n",
              "2338              Michigan Ave & Oak St        casual  \n",
              "2532              Michigan Ave & Oak St        casual  \n",
              "2594              Michigan Ave & Oak St        casual  \n",
              "...                                 ...           ...  \n",
              "5882319    Ashland Ave & Wellington Ave        casual  \n",
              "5882364  California Ave & Milwaukee Ave        casual  \n",
              "5882528          Clark St & Lincoln Ave        casual  \n",
              "5882680  California Ave & Milwaukee Ave        casual  \n",
              "5882922    California Ave & Division St        casual  \n",
              "\n",
              "[207986 rows x 7 columns]"
            ],
            "text/html": [
              "\n",
              "  <div id=\"df-42e8b44d-dc7f-4d52-8aa3-6f7a18d29018\">\n",
              "    <div class=\"colab-df-container\">\n",
              "      <div>\n",
              "<style scoped>\n",
              "    .dataframe tbody tr th:only-of-type {\n",
              "        vertical-align: middle;\n",
              "    }\n",
              "\n",
              "    .dataframe tbody tr th {\n",
              "        vertical-align: top;\n",
              "    }\n",
              "\n",
              "    .dataframe thead th {\n",
              "        text-align: right;\n",
              "    }\n",
              "</style>\n",
              "<table border=\"1\" class=\"dataframe\">\n",
              "  <thead>\n",
              "    <tr style=\"text-align: right;\">\n",
              "      <th></th>\n",
              "      <th>ride_id</th>\n",
              "      <th>rideable_type</th>\n",
              "      <th>started_at</th>\n",
              "      <th>ended_at</th>\n",
              "      <th>start_station_name</th>\n",
              "      <th>end_station_name</th>\n",
              "      <th>member_casual</th>\n",
              "    </tr>\n",
              "  </thead>\n",
              "  <tbody>\n",
              "    <tr>\n",
              "      <th>1218</th>\n",
              "      <td>E25F9BB77BF79AAA</td>\n",
              "      <td>docked_bike</td>\n",
              "      <td>2021-09-08 21:19:52</td>\n",
              "      <td>2021-09-08 22:04:33</td>\n",
              "      <td>Michigan Ave &amp; Oak St</td>\n",
              "      <td>Michigan Ave &amp; Oak St</td>\n",
              "      <td>casual</td>\n",
              "    </tr>\n",
              "    <tr>\n",
              "      <th>2222</th>\n",
              "      <td>ADCEFA40C19C4A98</td>\n",
              "      <td>docked_bike</td>\n",
              "      <td>2021-09-17 09:59:14</td>\n",
              "      <td>2021-09-17 10:29:53</td>\n",
              "      <td>Clark St &amp; Leland Ave</td>\n",
              "      <td>Clark St &amp; Grace St</td>\n",
              "      <td>casual</td>\n",
              "    </tr>\n",
              "    <tr>\n",
              "      <th>2338</th>\n",
              "      <td>F632F73A277FA645</td>\n",
              "      <td>docked_bike</td>\n",
              "      <td>2021-09-18 13:03:24</td>\n",
              "      <td>2021-09-18 13:25:51</td>\n",
              "      <td>Michigan Ave &amp; Oak St</td>\n",
              "      <td>Michigan Ave &amp; Oak St</td>\n",
              "      <td>casual</td>\n",
              "    </tr>\n",
              "    <tr>\n",
              "      <th>2532</th>\n",
              "      <td>61BEDFE97FDC3CD0</td>\n",
              "      <td>docked_bike</td>\n",
              "      <td>2021-09-26 09:55:28</td>\n",
              "      <td>2021-09-26 11:49:11</td>\n",
              "      <td>Michigan Ave &amp; Oak St</td>\n",
              "      <td>Michigan Ave &amp; Oak St</td>\n",
              "      <td>casual</td>\n",
              "    </tr>\n",
              "    <tr>\n",
              "      <th>2594</th>\n",
              "      <td>A879D2EDE2039A12</td>\n",
              "      <td>docked_bike</td>\n",
              "      <td>2021-09-03 23:23:19</td>\n",
              "      <td>2021-09-04 00:41:59</td>\n",
              "      <td>Michigan Ave &amp; Oak St</td>\n",
              "      <td>Michigan Ave &amp; Oak St</td>\n",
              "      <td>casual</td>\n",
              "    </tr>\n",
              "    <tr>\n",
              "      <th>...</th>\n",
              "      <td>...</td>\n",
              "      <td>...</td>\n",
              "      <td>...</td>\n",
              "      <td>...</td>\n",
              "      <td>...</td>\n",
              "      <td>...</td>\n",
              "      <td>...</td>\n",
              "    </tr>\n",
              "    <tr>\n",
              "      <th>5882319</th>\n",
              "      <td>6F8B0AF48A197F2A</td>\n",
              "      <td>docked_bike</td>\n",
              "      <td>2022-08-06 17:51:53</td>\n",
              "      <td>2022-08-08 05:00:12</td>\n",
              "      <td>Ashland Ave &amp; Wellington Ave</td>\n",
              "      <td>Ashland Ave &amp; Wellington Ave</td>\n",
              "      <td>casual</td>\n",
              "    </tr>\n",
              "    <tr>\n",
              "      <th>5882364</th>\n",
              "      <td>FF5608845AB7570F</td>\n",
              "      <td>docked_bike</td>\n",
              "      <td>2022-08-05 15:34:23</td>\n",
              "      <td>2022-08-05 16:25:10</td>\n",
              "      <td>Fairbanks Ct &amp; Grand Ave</td>\n",
              "      <td>California Ave &amp; Milwaukee Ave</td>\n",
              "      <td>casual</td>\n",
              "    </tr>\n",
              "    <tr>\n",
              "      <th>5882528</th>\n",
              "      <td>25D0B21480E38D38</td>\n",
              "      <td>docked_bike</td>\n",
              "      <td>2022-08-22 22:04:10</td>\n",
              "      <td>2022-09-01 20:38:02</td>\n",
              "      <td>Clark St &amp; Lincoln Ave</td>\n",
              "      <td>Clark St &amp; Lincoln Ave</td>\n",
              "      <td>casual</td>\n",
              "    </tr>\n",
              "    <tr>\n",
              "      <th>5882680</th>\n",
              "      <td>4396CB18C209D3A4</td>\n",
              "      <td>docked_bike</td>\n",
              "      <td>2022-08-10 01:42:25</td>\n",
              "      <td>2022-08-10 01:52:15</td>\n",
              "      <td>California Ave &amp; Cortez St</td>\n",
              "      <td>California Ave &amp; Milwaukee Ave</td>\n",
              "      <td>casual</td>\n",
              "    </tr>\n",
              "    <tr>\n",
              "      <th>5882922</th>\n",
              "      <td>9BF3B891EAC1F45C</td>\n",
              "      <td>docked_bike</td>\n",
              "      <td>2022-08-02 22:00:35</td>\n",
              "      <td>2022-08-02 22:31:41</td>\n",
              "      <td>California Ave &amp; Cortez St</td>\n",
              "      <td>California Ave &amp; Division St</td>\n",
              "      <td>casual</td>\n",
              "    </tr>\n",
              "  </tbody>\n",
              "</table>\n",
              "<p>207986 rows × 7 columns</p>\n",
              "</div>\n",
              "      <button class=\"colab-df-convert\" onclick=\"convertToInteractive('df-42e8b44d-dc7f-4d52-8aa3-6f7a18d29018')\"\n",
              "              title=\"Convert this dataframe to an interactive table.\"\n",
              "              style=\"display:none;\">\n",
              "        \n",
              "  <svg xmlns=\"http://www.w3.org/2000/svg\" height=\"24px\"viewBox=\"0 0 24 24\"\n",
              "       width=\"24px\">\n",
              "    <path d=\"M0 0h24v24H0V0z\" fill=\"none\"/>\n",
              "    <path d=\"M18.56 5.44l.94 2.06.94-2.06 2.06-.94-2.06-.94-.94-2.06-.94 2.06-2.06.94zm-11 1L8.5 8.5l.94-2.06 2.06-.94-2.06-.94L8.5 2.5l-.94 2.06-2.06.94zm10 10l.94 2.06.94-2.06 2.06-.94-2.06-.94-.94-2.06-.94 2.06-2.06.94z\"/><path d=\"M17.41 7.96l-1.37-1.37c-.4-.4-.92-.59-1.43-.59-.52 0-1.04.2-1.43.59L10.3 9.45l-7.72 7.72c-.78.78-.78 2.05 0 2.83L4 21.41c.39.39.9.59 1.41.59.51 0 1.02-.2 1.41-.59l7.78-7.78 2.81-2.81c.8-.78.8-2.07 0-2.86zM5.41 20L4 18.59l7.72-7.72 1.47 1.35L5.41 20z\"/>\n",
              "  </svg>\n",
              "      </button>\n",
              "      \n",
              "  <style>\n",
              "    .colab-df-container {\n",
              "      display:flex;\n",
              "      flex-wrap:wrap;\n",
              "      gap: 12px;\n",
              "    }\n",
              "\n",
              "    .colab-df-convert {\n",
              "      background-color: #E8F0FE;\n",
              "      border: none;\n",
              "      border-radius: 50%;\n",
              "      cursor: pointer;\n",
              "      display: none;\n",
              "      fill: #1967D2;\n",
              "      height: 32px;\n",
              "      padding: 0 0 0 0;\n",
              "      width: 32px;\n",
              "    }\n",
              "\n",
              "    .colab-df-convert:hover {\n",
              "      background-color: #E2EBFA;\n",
              "      box-shadow: 0px 1px 2px rgba(60, 64, 67, 0.3), 0px 1px 3px 1px rgba(60, 64, 67, 0.15);\n",
              "      fill: #174EA6;\n",
              "    }\n",
              "\n",
              "    [theme=dark] .colab-df-convert {\n",
              "      background-color: #3B4455;\n",
              "      fill: #D2E3FC;\n",
              "    }\n",
              "\n",
              "    [theme=dark] .colab-df-convert:hover {\n",
              "      background-color: #434B5C;\n",
              "      box-shadow: 0px 1px 3px 1px rgba(0, 0, 0, 0.15);\n",
              "      filter: drop-shadow(0px 1px 2px rgba(0, 0, 0, 0.3));\n",
              "      fill: #FFFFFF;\n",
              "    }\n",
              "  </style>\n",
              "\n",
              "      <script>\n",
              "        const buttonEl =\n",
              "          document.querySelector('#df-42e8b44d-dc7f-4d52-8aa3-6f7a18d29018 button.colab-df-convert');\n",
              "        buttonEl.style.display =\n",
              "          google.colab.kernel.accessAllowed ? 'block' : 'none';\n",
              "\n",
              "        async function convertToInteractive(key) {\n",
              "          const element = document.querySelector('#df-42e8b44d-dc7f-4d52-8aa3-6f7a18d29018');\n",
              "          const dataTable =\n",
              "            await google.colab.kernel.invokeFunction('convertToInteractive',\n",
              "                                                     [key], {});\n",
              "          if (!dataTable) return;\n",
              "\n",
              "          const docLinkHtml = 'Like what you see? Visit the ' +\n",
              "            '<a target=\"_blank\" href=https://colab.research.google.com/notebooks/data_table.ipynb>data table notebook</a>'\n",
              "            + ' to learn more about interactive tables.';\n",
              "          element.innerHTML = '';\n",
              "          dataTable['output_type'] = 'display_data';\n",
              "          await google.colab.output.renderOutput(dataTable, element);\n",
              "          const docLink = document.createElement('div');\n",
              "          docLink.innerHTML = docLinkHtml;\n",
              "          element.appendChild(docLink);\n",
              "        }\n",
              "      </script>\n",
              "    </div>\n",
              "  </div>\n",
              "  "
            ]
          },
          "metadata": {},
          "execution_count": 22
        }
      ],
      "source": [
        "#check records with thy rideable type\n",
        "df[df['rideable_type']=='docked_bike']"
      ]
    },
    {
      "cell_type": "markdown",
      "metadata": {
        "id": "7kubq6rk4lKu"
      },
      "source": [
        "According to their website there are only 2 types of bike, ebike and classic bike. For the purpose of this analysis and due to lack of info about the rideable type: docked bikes, I will assume that they are bikes that are docked(not used) and therefore drop the records with this rideable_type."
      ]
    },
    {
      "cell_type": "code",
      "execution_count": null,
      "metadata": {
        "id": "blndTo-A4klr"
      },
      "outputs": [],
      "source": [
        "#drop records with rideable_type,docked bikes\n",
        "df.drop(df[df['rideable_type']=='docked_bike'].index, inplace=True)"
      ]
    },
    {
      "cell_type": "markdown",
      "metadata": {
        "id": "3uXUPYF8783a"
      },
      "source": [
        "# Data Preparation: Adding new columns"
      ]
    },
    {
      "cell_type": "markdown",
      "metadata": {
        "id": "ULW9z4WTH42E"
      },
      "source": [
        "#### Length Ride"
      ]
    },
    {
      "cell_type": "code",
      "execution_count": null,
      "metadata": {
        "colab": {
          "base_uri": "https://localhost:8080/"
        },
        "id": "Xy1BicpQsp8j",
        "outputId": "e66542f8-ed4b-419d-ee27-122c89c06ce2"
      },
      "outputs": [
        {
          "output_type": "execute_result",
          "data": {
            "text/plain": [
              "10        0 days 00:07:54\n",
              "59        0 days 00:10:38\n",
              "61        0 days 00:32:27\n",
              "63        0 days 00:19:15\n",
              "69        0 days 00:20:10\n",
              "                ...      \n",
              "5883037   0 days 00:04:01\n",
              "5883038   0 days 00:14:00\n",
              "5883039   0 days 00:06:13\n",
              "5883040   0 days 00:07:19\n",
              "5883041   0 days 00:08:34\n",
              "Name: length_ride, Length: 4726785, dtype: timedelta64[ns]"
            ]
          },
          "metadata": {},
          "execution_count": 54
        }
      ],
      "source": [
        "#add new column length ride to compute duration of bike use\n",
        "length_ride=df['ended_at']-df['started_at']\n",
        "df['length_ride']=length_ride\n",
        "df['length_ride']"
      ]
    },
    {
      "cell_type": "code",
      "execution_count": null,
      "metadata": {
        "colab": {
          "base_uri": "https://localhost:8080/"
        },
        "id": "mK6-xF-JAv4g",
        "outputId": "f943c72a-0077-4bc1-bf37-1d66c663e954"
      },
      "outputs": [
        {
          "output_type": "execute_result",
          "data": {
            "text/plain": [
              "count                      4726785\n",
              "mean     0 days 00:12:25.573830838\n",
              "std      0 days 00:08:39.093632716\n",
              "min                0 days 00:01:00\n",
              "25%                0 days 00:06:02\n",
              "50%                0 days 00:10:04\n",
              "75%                0 days 00:16:33\n",
              "max                0 days 00:48:59\n",
              "Name: length_ride, dtype: object"
            ]
          },
          "metadata": {},
          "execution_count": 55
        }
      ],
      "source": [
        "df['length_ride'].describe()"
      ]
    },
    {
      "cell_type": "markdown",
      "metadata": {
        "id": "Uq4WqOYYBIC7"
      },
      "source": [
        "A negative value for length ride is not possible. Check data further."
      ]
    },
    {
      "cell_type": "code",
      "execution_count": null,
      "metadata": {
        "colab": {
          "base_uri": "https://localhost:8080/",
          "height": 49
        },
        "id": "cQc_0OYDBHbx",
        "outputId": "cc3a3bfb-4d50-4722-e210-4f1a35a14984"
      },
      "outputs": [
        {
          "output_type": "execute_result",
          "data": {
            "text/plain": [
              "Empty DataFrame\n",
              "Columns: [ride_id, rideable_type, started_at, ended_at, start_station_name, end_station_name, member_casual, length_ride, hour, day, month, dayofweek, period, price, season]\n",
              "Index: []"
            ],
            "text/html": [
              "\n",
              "  <div id=\"df-7a5bef54-0b23-4c84-b33b-58a1c68daf64\">\n",
              "    <div class=\"colab-df-container\">\n",
              "      <div>\n",
              "<style scoped>\n",
              "    .dataframe tbody tr th:only-of-type {\n",
              "        vertical-align: middle;\n",
              "    }\n",
              "\n",
              "    .dataframe tbody tr th {\n",
              "        vertical-align: top;\n",
              "    }\n",
              "\n",
              "    .dataframe thead th {\n",
              "        text-align: right;\n",
              "    }\n",
              "</style>\n",
              "<table border=\"1\" class=\"dataframe\">\n",
              "  <thead>\n",
              "    <tr style=\"text-align: right;\">\n",
              "      <th></th>\n",
              "      <th>ride_id</th>\n",
              "      <th>rideable_type</th>\n",
              "      <th>started_at</th>\n",
              "      <th>ended_at</th>\n",
              "      <th>start_station_name</th>\n",
              "      <th>end_station_name</th>\n",
              "      <th>member_casual</th>\n",
              "      <th>length_ride</th>\n",
              "      <th>hour</th>\n",
              "      <th>day</th>\n",
              "      <th>month</th>\n",
              "      <th>dayofweek</th>\n",
              "      <th>period</th>\n",
              "      <th>price</th>\n",
              "      <th>season</th>\n",
              "    </tr>\n",
              "  </thead>\n",
              "  <tbody>\n",
              "  </tbody>\n",
              "</table>\n",
              "</div>\n",
              "      <button class=\"colab-df-convert\" onclick=\"convertToInteractive('df-7a5bef54-0b23-4c84-b33b-58a1c68daf64')\"\n",
              "              title=\"Convert this dataframe to an interactive table.\"\n",
              "              style=\"display:none;\">\n",
              "        \n",
              "  <svg xmlns=\"http://www.w3.org/2000/svg\" height=\"24px\"viewBox=\"0 0 24 24\"\n",
              "       width=\"24px\">\n",
              "    <path d=\"M0 0h24v24H0V0z\" fill=\"none\"/>\n",
              "    <path d=\"M18.56 5.44l.94 2.06.94-2.06 2.06-.94-2.06-.94-.94-2.06-.94 2.06-2.06.94zm-11 1L8.5 8.5l.94-2.06 2.06-.94-2.06-.94L8.5 2.5l-.94 2.06-2.06.94zm10 10l.94 2.06.94-2.06 2.06-.94-2.06-.94-.94-2.06-.94 2.06-2.06.94z\"/><path d=\"M17.41 7.96l-1.37-1.37c-.4-.4-.92-.59-1.43-.59-.52 0-1.04.2-1.43.59L10.3 9.45l-7.72 7.72c-.78.78-.78 2.05 0 2.83L4 21.41c.39.39.9.59 1.41.59.51 0 1.02-.2 1.41-.59l7.78-7.78 2.81-2.81c.8-.78.8-2.07 0-2.86zM5.41 20L4 18.59l7.72-7.72 1.47 1.35L5.41 20z\"/>\n",
              "  </svg>\n",
              "      </button>\n",
              "      \n",
              "  <style>\n",
              "    .colab-df-container {\n",
              "      display:flex;\n",
              "      flex-wrap:wrap;\n",
              "      gap: 12px;\n",
              "    }\n",
              "\n",
              "    .colab-df-convert {\n",
              "      background-color: #E8F0FE;\n",
              "      border: none;\n",
              "      border-radius: 50%;\n",
              "      cursor: pointer;\n",
              "      display: none;\n",
              "      fill: #1967D2;\n",
              "      height: 32px;\n",
              "      padding: 0 0 0 0;\n",
              "      width: 32px;\n",
              "    }\n",
              "\n",
              "    .colab-df-convert:hover {\n",
              "      background-color: #E2EBFA;\n",
              "      box-shadow: 0px 1px 2px rgba(60, 64, 67, 0.3), 0px 1px 3px 1px rgba(60, 64, 67, 0.15);\n",
              "      fill: #174EA6;\n",
              "    }\n",
              "\n",
              "    [theme=dark] .colab-df-convert {\n",
              "      background-color: #3B4455;\n",
              "      fill: #D2E3FC;\n",
              "    }\n",
              "\n",
              "    [theme=dark] .colab-df-convert:hover {\n",
              "      background-color: #434B5C;\n",
              "      box-shadow: 0px 1px 3px 1px rgba(0, 0, 0, 0.15);\n",
              "      filter: drop-shadow(0px 1px 2px rgba(0, 0, 0, 0.3));\n",
              "      fill: #FFFFFF;\n",
              "    }\n",
              "  </style>\n",
              "\n",
              "      <script>\n",
              "        const buttonEl =\n",
              "          document.querySelector('#df-7a5bef54-0b23-4c84-b33b-58a1c68daf64 button.colab-df-convert');\n",
              "        buttonEl.style.display =\n",
              "          google.colab.kernel.accessAllowed ? 'block' : 'none';\n",
              "\n",
              "        async function convertToInteractive(key) {\n",
              "          const element = document.querySelector('#df-7a5bef54-0b23-4c84-b33b-58a1c68daf64');\n",
              "          const dataTable =\n",
              "            await google.colab.kernel.invokeFunction('convertToInteractive',\n",
              "                                                     [key], {});\n",
              "          if (!dataTable) return;\n",
              "\n",
              "          const docLinkHtml = 'Like what you see? Visit the ' +\n",
              "            '<a target=\"_blank\" href=https://colab.research.google.com/notebooks/data_table.ipynb>data table notebook</a>'\n",
              "            + ' to learn more about interactive tables.';\n",
              "          element.innerHTML = '';\n",
              "          dataTable['output_type'] = 'display_data';\n",
              "          await google.colab.output.renderOutput(dataTable, element);\n",
              "          const docLink = document.createElement('div');\n",
              "          docLink.innerHTML = docLinkHtml;\n",
              "          element.appendChild(docLink);\n",
              "        }\n",
              "      </script>\n",
              "    </div>\n",
              "  </div>\n",
              "  "
            ]
          },
          "metadata": {},
          "execution_count": 56
        }
      ],
      "source": [
        "#look at records with negative length ride.\n",
        "df[df['length_ride']< '0 days 00:00:00']"
      ]
    },
    {
      "cell_type": "markdown",
      "metadata": {
        "id": "inoJewAvBca2"
      },
      "source": [
        "It seems like started at and ended at are switched."
      ]
    },
    {
      "cell_type": "code",
      "execution_count": null,
      "metadata": {
        "colab": {
          "base_uri": "https://localhost:8080/",
          "height": 834
        },
        "id": "Mq2fpv3tC_aZ",
        "outputId": "8438a5ac-6af7-4047-8a2a-4aee58a62e0f"
      },
      "outputs": [
        {
          "output_type": "execute_result",
          "data": {
            "text/plain": [
              "                  ride_id  rideable_type          started_at  \\\n",
              "0        CBFE6F6DE98B37BC  electric_bike 2021-09-28 21:54:55   \n",
              "1        E92C804563F261EC   classic_bike 2021-09-05 01:25:08   \n",
              "2        9ECA91210441E847   classic_bike 2021-09-05 13:33:41   \n",
              "3        306193784EF03E2D  electric_bike 2021-09-05 10:37:04   \n",
              "4        7CEA96C0EAF85111  electric_bike 2021-09-30 11:42:33   \n",
              "...                   ...            ...                 ...   \n",
              "4726780  3A50755D869397FB  electric_bike 2022-08-09 06:41:21   \n",
              "4726781  EC17BE8AB1D73C88  electric_bike 2022-08-12 08:28:26   \n",
              "4726782  57BAC0EA3A067A83  electric_bike 2022-08-22 12:30:19   \n",
              "4726783  9B97FAE30276C299  electric_bike 2022-08-09 07:43:31   \n",
              "4726784  2B4A9BA1E9AA9B51  electric_bike 2022-08-24 14:31:58   \n",
              "\n",
              "                   ended_at            start_station_name  \\\n",
              "0       2021-09-28 22:02:49           Clark St & Grace St   \n",
              "1       2021-09-05 01:35:46          Wells St & Walton St   \n",
              "2       2021-09-05 14:06:08    Larrabee St & Armitage Ave   \n",
              "3       2021-09-05 10:56:19         Michigan Ave & Oak St   \n",
              "4       2021-09-30 12:02:43         Michigan Ave & Oak St   \n",
              "...                     ...                           ...   \n",
              "4726780 2022-08-09 06:45:22  Ashland Ave & Wellington Ave   \n",
              "4726781 2022-08-12 08:42:26     Paulina St & Montrose Ave   \n",
              "4726782 2022-08-22 12:36:32      California Ave & 21st St   \n",
              "4726783 2022-08-09 07:50:50  Clinton St & Washington Blvd   \n",
              "4726784 2022-08-24 14:40:32  Ashland Ave & Wellington Ave   \n",
              "\n",
              "                     end_station_name member_casual     length_ride  hour  \\\n",
              "0                 Clark St & Grace St        casual 0 days 00:07:54    21   \n",
              "1           Desplaines St & Kinzie St        casual 0 days 00:10:38     1   \n",
              "2               Clark St & Leland Ave        casual 0 days 00:32:27    13   \n",
              "3               Michigan Ave & Oak St        casual 0 days 00:19:15    10   \n",
              "4               Michigan Ave & Oak St        casual 0 days 00:20:10    11   \n",
              "...                               ...           ...             ...   ...   \n",
              "4726780  Ashland Ave & Wellington Ave        member 0 days 00:04:01     6   \n",
              "4726781     Paulina St & Montrose Ave        member 0 days 00:14:00     8   \n",
              "4726782      California Ave & 21st St        member 0 days 00:06:13    12   \n",
              "4726783  Clinton St & Washington Blvd        member 0 days 00:07:19     7   \n",
              "4726784  Ashland Ave & Wellington Ave        member 0 days 00:08:34    14   \n",
              "\n",
              "         day      month  dayofweek         period  price  season  \n",
              "0         28  September    Tuesday        Evening   2.12    Fall  \n",
              "1          5  September     Sunday  Early Morning   2.60    Fall  \n",
              "2          5  September     Sunday      Afternoon   6.12    Fall  \n",
              "3          5  September     Sunday        Morning   4.04    Fall  \n",
              "4         30  September   Thursday        Morning   4.20    Fall  \n",
              "...      ...        ...        ...            ...    ...     ...  \n",
              "4726780    9     August    Tuesday  Early Morning  10.00  Summer  \n",
              "4726781   12     August     Friday        Morning  10.00  Summer  \n",
              "4726782   22     August     Monday        Morning  10.00  Summer  \n",
              "4726783    9     August    Tuesday        Morning  10.00  Summer  \n",
              "4726784   24     August  Wednesday      Afternoon  10.00  Summer  \n",
              "\n",
              "[4726785 rows x 15 columns]"
            ],
            "text/html": [
              "\n",
              "  <div id=\"df-8340495c-2301-4cf4-b05b-060e4661622d\">\n",
              "    <div class=\"colab-df-container\">\n",
              "      <div>\n",
              "<style scoped>\n",
              "    .dataframe tbody tr th:only-of-type {\n",
              "        vertical-align: middle;\n",
              "    }\n",
              "\n",
              "    .dataframe tbody tr th {\n",
              "        vertical-align: top;\n",
              "    }\n",
              "\n",
              "    .dataframe thead th {\n",
              "        text-align: right;\n",
              "    }\n",
              "</style>\n",
              "<table border=\"1\" class=\"dataframe\">\n",
              "  <thead>\n",
              "    <tr style=\"text-align: right;\">\n",
              "      <th></th>\n",
              "      <th>ride_id</th>\n",
              "      <th>rideable_type</th>\n",
              "      <th>started_at</th>\n",
              "      <th>ended_at</th>\n",
              "      <th>start_station_name</th>\n",
              "      <th>end_station_name</th>\n",
              "      <th>member_casual</th>\n",
              "      <th>length_ride</th>\n",
              "      <th>hour</th>\n",
              "      <th>day</th>\n",
              "      <th>month</th>\n",
              "      <th>dayofweek</th>\n",
              "      <th>period</th>\n",
              "      <th>price</th>\n",
              "      <th>season</th>\n",
              "    </tr>\n",
              "  </thead>\n",
              "  <tbody>\n",
              "    <tr>\n",
              "      <th>0</th>\n",
              "      <td>CBFE6F6DE98B37BC</td>\n",
              "      <td>electric_bike</td>\n",
              "      <td>2021-09-28 21:54:55</td>\n",
              "      <td>2021-09-28 22:02:49</td>\n",
              "      <td>Clark St &amp; Grace St</td>\n",
              "      <td>Clark St &amp; Grace St</td>\n",
              "      <td>casual</td>\n",
              "      <td>0 days 00:07:54</td>\n",
              "      <td>21</td>\n",
              "      <td>28</td>\n",
              "      <td>September</td>\n",
              "      <td>Tuesday</td>\n",
              "      <td>Evening</td>\n",
              "      <td>2.12</td>\n",
              "      <td>Fall</td>\n",
              "    </tr>\n",
              "    <tr>\n",
              "      <th>1</th>\n",
              "      <td>E92C804563F261EC</td>\n",
              "      <td>classic_bike</td>\n",
              "      <td>2021-09-05 01:25:08</td>\n",
              "      <td>2021-09-05 01:35:46</td>\n",
              "      <td>Wells St &amp; Walton St</td>\n",
              "      <td>Desplaines St &amp; Kinzie St</td>\n",
              "      <td>casual</td>\n",
              "      <td>0 days 00:10:38</td>\n",
              "      <td>1</td>\n",
              "      <td>5</td>\n",
              "      <td>September</td>\n",
              "      <td>Sunday</td>\n",
              "      <td>Early Morning</td>\n",
              "      <td>2.60</td>\n",
              "      <td>Fall</td>\n",
              "    </tr>\n",
              "    <tr>\n",
              "      <th>2</th>\n",
              "      <td>9ECA91210441E847</td>\n",
              "      <td>classic_bike</td>\n",
              "      <td>2021-09-05 13:33:41</td>\n",
              "      <td>2021-09-05 14:06:08</td>\n",
              "      <td>Larrabee St &amp; Armitage Ave</td>\n",
              "      <td>Clark St &amp; Leland Ave</td>\n",
              "      <td>casual</td>\n",
              "      <td>0 days 00:32:27</td>\n",
              "      <td>13</td>\n",
              "      <td>5</td>\n",
              "      <td>September</td>\n",
              "      <td>Sunday</td>\n",
              "      <td>Afternoon</td>\n",
              "      <td>6.12</td>\n",
              "      <td>Fall</td>\n",
              "    </tr>\n",
              "    <tr>\n",
              "      <th>3</th>\n",
              "      <td>306193784EF03E2D</td>\n",
              "      <td>electric_bike</td>\n",
              "      <td>2021-09-05 10:37:04</td>\n",
              "      <td>2021-09-05 10:56:19</td>\n",
              "      <td>Michigan Ave &amp; Oak St</td>\n",
              "      <td>Michigan Ave &amp; Oak St</td>\n",
              "      <td>casual</td>\n",
              "      <td>0 days 00:19:15</td>\n",
              "      <td>10</td>\n",
              "      <td>5</td>\n",
              "      <td>September</td>\n",
              "      <td>Sunday</td>\n",
              "      <td>Morning</td>\n",
              "      <td>4.04</td>\n",
              "      <td>Fall</td>\n",
              "    </tr>\n",
              "    <tr>\n",
              "      <th>4</th>\n",
              "      <td>7CEA96C0EAF85111</td>\n",
              "      <td>electric_bike</td>\n",
              "      <td>2021-09-30 11:42:33</td>\n",
              "      <td>2021-09-30 12:02:43</td>\n",
              "      <td>Michigan Ave &amp; Oak St</td>\n",
              "      <td>Michigan Ave &amp; Oak St</td>\n",
              "      <td>casual</td>\n",
              "      <td>0 days 00:20:10</td>\n",
              "      <td>11</td>\n",
              "      <td>30</td>\n",
              "      <td>September</td>\n",
              "      <td>Thursday</td>\n",
              "      <td>Morning</td>\n",
              "      <td>4.20</td>\n",
              "      <td>Fall</td>\n",
              "    </tr>\n",
              "    <tr>\n",
              "      <th>...</th>\n",
              "      <td>...</td>\n",
              "      <td>...</td>\n",
              "      <td>...</td>\n",
              "      <td>...</td>\n",
              "      <td>...</td>\n",
              "      <td>...</td>\n",
              "      <td>...</td>\n",
              "      <td>...</td>\n",
              "      <td>...</td>\n",
              "      <td>...</td>\n",
              "      <td>...</td>\n",
              "      <td>...</td>\n",
              "      <td>...</td>\n",
              "      <td>...</td>\n",
              "      <td>...</td>\n",
              "    </tr>\n",
              "    <tr>\n",
              "      <th>4726780</th>\n",
              "      <td>3A50755D869397FB</td>\n",
              "      <td>electric_bike</td>\n",
              "      <td>2022-08-09 06:41:21</td>\n",
              "      <td>2022-08-09 06:45:22</td>\n",
              "      <td>Ashland Ave &amp; Wellington Ave</td>\n",
              "      <td>Ashland Ave &amp; Wellington Ave</td>\n",
              "      <td>member</td>\n",
              "      <td>0 days 00:04:01</td>\n",
              "      <td>6</td>\n",
              "      <td>9</td>\n",
              "      <td>August</td>\n",
              "      <td>Tuesday</td>\n",
              "      <td>Early Morning</td>\n",
              "      <td>10.00</td>\n",
              "      <td>Summer</td>\n",
              "    </tr>\n",
              "    <tr>\n",
              "      <th>4726781</th>\n",
              "      <td>EC17BE8AB1D73C88</td>\n",
              "      <td>electric_bike</td>\n",
              "      <td>2022-08-12 08:28:26</td>\n",
              "      <td>2022-08-12 08:42:26</td>\n",
              "      <td>Paulina St &amp; Montrose Ave</td>\n",
              "      <td>Paulina St &amp; Montrose Ave</td>\n",
              "      <td>member</td>\n",
              "      <td>0 days 00:14:00</td>\n",
              "      <td>8</td>\n",
              "      <td>12</td>\n",
              "      <td>August</td>\n",
              "      <td>Friday</td>\n",
              "      <td>Morning</td>\n",
              "      <td>10.00</td>\n",
              "      <td>Summer</td>\n",
              "    </tr>\n",
              "    <tr>\n",
              "      <th>4726782</th>\n",
              "      <td>57BAC0EA3A067A83</td>\n",
              "      <td>electric_bike</td>\n",
              "      <td>2022-08-22 12:30:19</td>\n",
              "      <td>2022-08-22 12:36:32</td>\n",
              "      <td>California Ave &amp; 21st St</td>\n",
              "      <td>California Ave &amp; 21st St</td>\n",
              "      <td>member</td>\n",
              "      <td>0 days 00:06:13</td>\n",
              "      <td>12</td>\n",
              "      <td>22</td>\n",
              "      <td>August</td>\n",
              "      <td>Monday</td>\n",
              "      <td>Morning</td>\n",
              "      <td>10.00</td>\n",
              "      <td>Summer</td>\n",
              "    </tr>\n",
              "    <tr>\n",
              "      <th>4726783</th>\n",
              "      <td>9B97FAE30276C299</td>\n",
              "      <td>electric_bike</td>\n",
              "      <td>2022-08-09 07:43:31</td>\n",
              "      <td>2022-08-09 07:50:50</td>\n",
              "      <td>Clinton St &amp; Washington Blvd</td>\n",
              "      <td>Clinton St &amp; Washington Blvd</td>\n",
              "      <td>member</td>\n",
              "      <td>0 days 00:07:19</td>\n",
              "      <td>7</td>\n",
              "      <td>9</td>\n",
              "      <td>August</td>\n",
              "      <td>Tuesday</td>\n",
              "      <td>Morning</td>\n",
              "      <td>10.00</td>\n",
              "      <td>Summer</td>\n",
              "    </tr>\n",
              "    <tr>\n",
              "      <th>4726784</th>\n",
              "      <td>2B4A9BA1E9AA9B51</td>\n",
              "      <td>electric_bike</td>\n",
              "      <td>2022-08-24 14:31:58</td>\n",
              "      <td>2022-08-24 14:40:32</td>\n",
              "      <td>Ashland Ave &amp; Wellington Ave</td>\n",
              "      <td>Ashland Ave &amp; Wellington Ave</td>\n",
              "      <td>member</td>\n",
              "      <td>0 days 00:08:34</td>\n",
              "      <td>14</td>\n",
              "      <td>24</td>\n",
              "      <td>August</td>\n",
              "      <td>Wednesday</td>\n",
              "      <td>Afternoon</td>\n",
              "      <td>10.00</td>\n",
              "      <td>Summer</td>\n",
              "    </tr>\n",
              "  </tbody>\n",
              "</table>\n",
              "<p>4726785 rows × 15 columns</p>\n",
              "</div>\n",
              "      <button class=\"colab-df-convert\" onclick=\"convertToInteractive('df-8340495c-2301-4cf4-b05b-060e4661622d')\"\n",
              "              title=\"Convert this dataframe to an interactive table.\"\n",
              "              style=\"display:none;\">\n",
              "        \n",
              "  <svg xmlns=\"http://www.w3.org/2000/svg\" height=\"24px\"viewBox=\"0 0 24 24\"\n",
              "       width=\"24px\">\n",
              "    <path d=\"M0 0h24v24H0V0z\" fill=\"none\"/>\n",
              "    <path d=\"M18.56 5.44l.94 2.06.94-2.06 2.06-.94-2.06-.94-.94-2.06-.94 2.06-2.06.94zm-11 1L8.5 8.5l.94-2.06 2.06-.94-2.06-.94L8.5 2.5l-.94 2.06-2.06.94zm10 10l.94 2.06.94-2.06 2.06-.94-2.06-.94-.94-2.06-.94 2.06-2.06.94z\"/><path d=\"M17.41 7.96l-1.37-1.37c-.4-.4-.92-.59-1.43-.59-.52 0-1.04.2-1.43.59L10.3 9.45l-7.72 7.72c-.78.78-.78 2.05 0 2.83L4 21.41c.39.39.9.59 1.41.59.51 0 1.02-.2 1.41-.59l7.78-7.78 2.81-2.81c.8-.78.8-2.07 0-2.86zM5.41 20L4 18.59l7.72-7.72 1.47 1.35L5.41 20z\"/>\n",
              "  </svg>\n",
              "      </button>\n",
              "      \n",
              "  <style>\n",
              "    .colab-df-container {\n",
              "      display:flex;\n",
              "      flex-wrap:wrap;\n",
              "      gap: 12px;\n",
              "    }\n",
              "\n",
              "    .colab-df-convert {\n",
              "      background-color: #E8F0FE;\n",
              "      border: none;\n",
              "      border-radius: 50%;\n",
              "      cursor: pointer;\n",
              "      display: none;\n",
              "      fill: #1967D2;\n",
              "      height: 32px;\n",
              "      padding: 0 0 0 0;\n",
              "      width: 32px;\n",
              "    }\n",
              "\n",
              "    .colab-df-convert:hover {\n",
              "      background-color: #E2EBFA;\n",
              "      box-shadow: 0px 1px 2px rgba(60, 64, 67, 0.3), 0px 1px 3px 1px rgba(60, 64, 67, 0.15);\n",
              "      fill: #174EA6;\n",
              "    }\n",
              "\n",
              "    [theme=dark] .colab-df-convert {\n",
              "      background-color: #3B4455;\n",
              "      fill: #D2E3FC;\n",
              "    }\n",
              "\n",
              "    [theme=dark] .colab-df-convert:hover {\n",
              "      background-color: #434B5C;\n",
              "      box-shadow: 0px 1px 3px 1px rgba(0, 0, 0, 0.15);\n",
              "      filter: drop-shadow(0px 1px 2px rgba(0, 0, 0, 0.3));\n",
              "      fill: #FFFFFF;\n",
              "    }\n",
              "  </style>\n",
              "\n",
              "      <script>\n",
              "        const buttonEl =\n",
              "          document.querySelector('#df-8340495c-2301-4cf4-b05b-060e4661622d button.colab-df-convert');\n",
              "        buttonEl.style.display =\n",
              "          google.colab.kernel.accessAllowed ? 'block' : 'none';\n",
              "\n",
              "        async function convertToInteractive(key) {\n",
              "          const element = document.querySelector('#df-8340495c-2301-4cf4-b05b-060e4661622d');\n",
              "          const dataTable =\n",
              "            await google.colab.kernel.invokeFunction('convertToInteractive',\n",
              "                                                     [key], {});\n",
              "          if (!dataTable) return;\n",
              "\n",
              "          const docLinkHtml = 'Like what you see? Visit the ' +\n",
              "            '<a target=\"_blank\" href=https://colab.research.google.com/notebooks/data_table.ipynb>data table notebook</a>'\n",
              "            + ' to learn more about interactive tables.';\n",
              "          element.innerHTML = '';\n",
              "          dataTable['output_type'] = 'display_data';\n",
              "          await google.colab.output.renderOutput(dataTable, element);\n",
              "          const docLink = document.createElement('div');\n",
              "          docLink.innerHTML = docLinkHtml;\n",
              "          element.appendChild(docLink);\n",
              "        }\n",
              "      </script>\n",
              "    </div>\n",
              "  </div>\n",
              "  "
            ]
          },
          "metadata": {},
          "execution_count": 57
        }
      ],
      "source": [
        "#swap values from each column\n",
        "pd.options.mode.chained_assignment = None\n",
        "df_swap = df[df['length_ride']<'0 days 00:00:00']\n",
        "df.drop(df[df['length_ride']<'0 days 00:00:00'].index,inplace=True)\n",
        "\n",
        "def swap_columns(df,c1,c2):\n",
        "    df_swap['temp'] = df_swap[c1].copy(deep=False)\n",
        "    df_swap[c1] = df_swap[c2].copy(deep=False)\n",
        "    df_swap[c2] = df_swap['temp'].copy(deep=False)\n",
        "    df_swap.drop(columns=['temp'], inplace=True)\n",
        "\n",
        "swap_columns(df_swap,'started_at','ended_at')\n",
        "df.append(df_swap, ignore_index=True)\n"
      ]
    },
    {
      "cell_type": "code",
      "execution_count": null,
      "metadata": {
        "colab": {
          "base_uri": "https://localhost:8080/"
        },
        "id": "U-aLgX5CGTZD",
        "outputId": "93433e32-66f2-4e6f-bb20-4654b3841897"
      },
      "outputs": [
        {
          "output_type": "execute_result",
          "data": {
            "text/plain": [
              "count                      4726785\n",
              "mean     0 days 00:12:25.573830838\n",
              "std      0 days 00:08:39.093632716\n",
              "min                0 days 00:01:00\n",
              "25%                0 days 00:06:02\n",
              "50%                0 days 00:10:04\n",
              "75%                0 days 00:16:33\n",
              "max                0 days 00:48:59\n",
              "Name: length_ride, dtype: object"
            ]
          },
          "metadata": {},
          "execution_count": 58
        }
      ],
      "source": [
        "#check values again\n",
        "df['length_ride'].describe()"
      ]
    },
    {
      "cell_type": "code",
      "source": [
        "df[df['length_ride']<'0 days 00:01:00']"
      ],
      "metadata": {
        "colab": {
          "base_uri": "https://localhost:8080/",
          "height": 49
        },
        "id": "6pKjt1oiwgvU",
        "outputId": "b8ab877c-e320-48e3-a012-9cb47b634811"
      },
      "execution_count": null,
      "outputs": [
        {
          "output_type": "execute_result",
          "data": {
            "text/plain": [
              "Empty DataFrame\n",
              "Columns: [ride_id, rideable_type, started_at, ended_at, start_station_name, end_station_name, member_casual, length_ride, hour, day, month, dayofweek, period, price, season]\n",
              "Index: []"
            ],
            "text/html": [
              "\n",
              "  <div id=\"df-eaba365a-5c1b-48a7-b1c4-80dd6d3efa40\">\n",
              "    <div class=\"colab-df-container\">\n",
              "      <div>\n",
              "<style scoped>\n",
              "    .dataframe tbody tr th:only-of-type {\n",
              "        vertical-align: middle;\n",
              "    }\n",
              "\n",
              "    .dataframe tbody tr th {\n",
              "        vertical-align: top;\n",
              "    }\n",
              "\n",
              "    .dataframe thead th {\n",
              "        text-align: right;\n",
              "    }\n",
              "</style>\n",
              "<table border=\"1\" class=\"dataframe\">\n",
              "  <thead>\n",
              "    <tr style=\"text-align: right;\">\n",
              "      <th></th>\n",
              "      <th>ride_id</th>\n",
              "      <th>rideable_type</th>\n",
              "      <th>started_at</th>\n",
              "      <th>ended_at</th>\n",
              "      <th>start_station_name</th>\n",
              "      <th>end_station_name</th>\n",
              "      <th>member_casual</th>\n",
              "      <th>length_ride</th>\n",
              "      <th>hour</th>\n",
              "      <th>day</th>\n",
              "      <th>month</th>\n",
              "      <th>dayofweek</th>\n",
              "      <th>period</th>\n",
              "      <th>price</th>\n",
              "      <th>season</th>\n",
              "    </tr>\n",
              "  </thead>\n",
              "  <tbody>\n",
              "  </tbody>\n",
              "</table>\n",
              "</div>\n",
              "      <button class=\"colab-df-convert\" onclick=\"convertToInteractive('df-eaba365a-5c1b-48a7-b1c4-80dd6d3efa40')\"\n",
              "              title=\"Convert this dataframe to an interactive table.\"\n",
              "              style=\"display:none;\">\n",
              "        \n",
              "  <svg xmlns=\"http://www.w3.org/2000/svg\" height=\"24px\"viewBox=\"0 0 24 24\"\n",
              "       width=\"24px\">\n",
              "    <path d=\"M0 0h24v24H0V0z\" fill=\"none\"/>\n",
              "    <path d=\"M18.56 5.44l.94 2.06.94-2.06 2.06-.94-2.06-.94-.94-2.06-.94 2.06-2.06.94zm-11 1L8.5 8.5l.94-2.06 2.06-.94-2.06-.94L8.5 2.5l-.94 2.06-2.06.94zm10 10l.94 2.06.94-2.06 2.06-.94-2.06-.94-.94-2.06-.94 2.06-2.06.94z\"/><path d=\"M17.41 7.96l-1.37-1.37c-.4-.4-.92-.59-1.43-.59-.52 0-1.04.2-1.43.59L10.3 9.45l-7.72 7.72c-.78.78-.78 2.05 0 2.83L4 21.41c.39.39.9.59 1.41.59.51 0 1.02-.2 1.41-.59l7.78-7.78 2.81-2.81c.8-.78.8-2.07 0-2.86zM5.41 20L4 18.59l7.72-7.72 1.47 1.35L5.41 20z\"/>\n",
              "  </svg>\n",
              "      </button>\n",
              "      \n",
              "  <style>\n",
              "    .colab-df-container {\n",
              "      display:flex;\n",
              "      flex-wrap:wrap;\n",
              "      gap: 12px;\n",
              "    }\n",
              "\n",
              "    .colab-df-convert {\n",
              "      background-color: #E8F0FE;\n",
              "      border: none;\n",
              "      border-radius: 50%;\n",
              "      cursor: pointer;\n",
              "      display: none;\n",
              "      fill: #1967D2;\n",
              "      height: 32px;\n",
              "      padding: 0 0 0 0;\n",
              "      width: 32px;\n",
              "    }\n",
              "\n",
              "    .colab-df-convert:hover {\n",
              "      background-color: #E2EBFA;\n",
              "      box-shadow: 0px 1px 2px rgba(60, 64, 67, 0.3), 0px 1px 3px 1px rgba(60, 64, 67, 0.15);\n",
              "      fill: #174EA6;\n",
              "    }\n",
              "\n",
              "    [theme=dark] .colab-df-convert {\n",
              "      background-color: #3B4455;\n",
              "      fill: #D2E3FC;\n",
              "    }\n",
              "\n",
              "    [theme=dark] .colab-df-convert:hover {\n",
              "      background-color: #434B5C;\n",
              "      box-shadow: 0px 1px 3px 1px rgba(0, 0, 0, 0.15);\n",
              "      filter: drop-shadow(0px 1px 2px rgba(0, 0, 0, 0.3));\n",
              "      fill: #FFFFFF;\n",
              "    }\n",
              "  </style>\n",
              "\n",
              "      <script>\n",
              "        const buttonEl =\n",
              "          document.querySelector('#df-eaba365a-5c1b-48a7-b1c4-80dd6d3efa40 button.colab-df-convert');\n",
              "        buttonEl.style.display =\n",
              "          google.colab.kernel.accessAllowed ? 'block' : 'none';\n",
              "\n",
              "        async function convertToInteractive(key) {\n",
              "          const element = document.querySelector('#df-eaba365a-5c1b-48a7-b1c4-80dd6d3efa40');\n",
              "          const dataTable =\n",
              "            await google.colab.kernel.invokeFunction('convertToInteractive',\n",
              "                                                     [key], {});\n",
              "          if (!dataTable) return;\n",
              "\n",
              "          const docLinkHtml = 'Like what you see? Visit the ' +\n",
              "            '<a target=\"_blank\" href=https://colab.research.google.com/notebooks/data_table.ipynb>data table notebook</a>'\n",
              "            + ' to learn more about interactive tables.';\n",
              "          element.innerHTML = '';\n",
              "          dataTable['output_type'] = 'display_data';\n",
              "          await google.colab.output.renderOutput(dataTable, element);\n",
              "          const docLink = document.createElement('div');\n",
              "          docLink.innerHTML = docLinkHtml;\n",
              "          element.appendChild(docLink);\n",
              "        }\n",
              "      </script>\n",
              "    </div>\n",
              "  </div>\n",
              "  "
            ]
          },
          "metadata": {},
          "execution_count": 59
        }
      ]
    },
    {
      "cell_type": "markdown",
      "metadata": {
        "id": "7NVoLWK0CRs6"
      },
      "source": [
        "I will remove records with less than 1 minute length ride as they can be considered re-dock according to the website.\n",
        "\n",
        "> Any trips that were below 60 seconds in length (potentially false starts or users trying to re-dock a bike to ensure it was secure)\n",
        "\n"
      ]
    },
    {
      "cell_type": "code",
      "execution_count": null,
      "metadata": {
        "id": "3-w4McGeEw1w"
      },
      "outputs": [],
      "source": [
        "#drop length ride less than 1 minute\n",
        "df.drop(df[df['length_ride']<'0 days 00:01:00'].index,inplace=True)"
      ]
    },
    {
      "cell_type": "markdown",
      "metadata": {
        "id": "-XC1vLeRGukW"
      },
      "source": [
        "According to the website bikes not returned for more than 24 hrs is stolen. I will further check these records."
      ]
    },
    {
      "cell_type": "code",
      "execution_count": null,
      "metadata": {
        "colab": {
          "base_uri": "https://localhost:8080/",
          "height": 81
        },
        "id": "-QxAdJzEG5qj",
        "outputId": "6aa0fd44-0101-4dee-e1ef-c6827007396a"
      },
      "outputs": [
        {
          "output_type": "execute_result",
          "data": {
            "text/plain": [
              "Empty DataFrame\n",
              "Columns: [ride_id, rideable_type, started_at, ended_at, start_station_name, end_station_name, length_ride, hour, day, month, dayofweek, period, price, season]\n",
              "Index: []"
            ],
            "text/html": [
              "\n",
              "  <div id=\"df-fd652f45-9a93-407d-8d07-3c1df2129421\">\n",
              "    <div class=\"colab-df-container\">\n",
              "      <div>\n",
              "<style scoped>\n",
              "    .dataframe tbody tr th:only-of-type {\n",
              "        vertical-align: middle;\n",
              "    }\n",
              "\n",
              "    .dataframe tbody tr th {\n",
              "        vertical-align: top;\n",
              "    }\n",
              "\n",
              "    .dataframe thead th {\n",
              "        text-align: right;\n",
              "    }\n",
              "</style>\n",
              "<table border=\"1\" class=\"dataframe\">\n",
              "  <thead>\n",
              "    <tr style=\"text-align: right;\">\n",
              "      <th></th>\n",
              "      <th>ride_id</th>\n",
              "      <th>rideable_type</th>\n",
              "      <th>started_at</th>\n",
              "      <th>ended_at</th>\n",
              "      <th>start_station_name</th>\n",
              "      <th>end_station_name</th>\n",
              "      <th>length_ride</th>\n",
              "      <th>hour</th>\n",
              "      <th>day</th>\n",
              "      <th>month</th>\n",
              "      <th>dayofweek</th>\n",
              "      <th>period</th>\n",
              "      <th>price</th>\n",
              "      <th>season</th>\n",
              "    </tr>\n",
              "    <tr>\n",
              "      <th>member_casual</th>\n",
              "      <th></th>\n",
              "      <th></th>\n",
              "      <th></th>\n",
              "      <th></th>\n",
              "      <th></th>\n",
              "      <th></th>\n",
              "      <th></th>\n",
              "      <th></th>\n",
              "      <th></th>\n",
              "      <th></th>\n",
              "      <th></th>\n",
              "      <th></th>\n",
              "      <th></th>\n",
              "      <th></th>\n",
              "    </tr>\n",
              "  </thead>\n",
              "  <tbody>\n",
              "  </tbody>\n",
              "</table>\n",
              "</div>\n",
              "      <button class=\"colab-df-convert\" onclick=\"convertToInteractive('df-fd652f45-9a93-407d-8d07-3c1df2129421')\"\n",
              "              title=\"Convert this dataframe to an interactive table.\"\n",
              "              style=\"display:none;\">\n",
              "        \n",
              "  <svg xmlns=\"http://www.w3.org/2000/svg\" height=\"24px\"viewBox=\"0 0 24 24\"\n",
              "       width=\"24px\">\n",
              "    <path d=\"M0 0h24v24H0V0z\" fill=\"none\"/>\n",
              "    <path d=\"M18.56 5.44l.94 2.06.94-2.06 2.06-.94-2.06-.94-.94-2.06-.94 2.06-2.06.94zm-11 1L8.5 8.5l.94-2.06 2.06-.94-2.06-.94L8.5 2.5l-.94 2.06-2.06.94zm10 10l.94 2.06.94-2.06 2.06-.94-2.06-.94-.94-2.06-.94 2.06-2.06.94z\"/><path d=\"M17.41 7.96l-1.37-1.37c-.4-.4-.92-.59-1.43-.59-.52 0-1.04.2-1.43.59L10.3 9.45l-7.72 7.72c-.78.78-.78 2.05 0 2.83L4 21.41c.39.39.9.59 1.41.59.51 0 1.02-.2 1.41-.59l7.78-7.78 2.81-2.81c.8-.78.8-2.07 0-2.86zM5.41 20L4 18.59l7.72-7.72 1.47 1.35L5.41 20z\"/>\n",
              "  </svg>\n",
              "      </button>\n",
              "      \n",
              "  <style>\n",
              "    .colab-df-container {\n",
              "      display:flex;\n",
              "      flex-wrap:wrap;\n",
              "      gap: 12px;\n",
              "    }\n",
              "\n",
              "    .colab-df-convert {\n",
              "      background-color: #E8F0FE;\n",
              "      border: none;\n",
              "      border-radius: 50%;\n",
              "      cursor: pointer;\n",
              "      display: none;\n",
              "      fill: #1967D2;\n",
              "      height: 32px;\n",
              "      padding: 0 0 0 0;\n",
              "      width: 32px;\n",
              "    }\n",
              "\n",
              "    .colab-df-convert:hover {\n",
              "      background-color: #E2EBFA;\n",
              "      box-shadow: 0px 1px 2px rgba(60, 64, 67, 0.3), 0px 1px 3px 1px rgba(60, 64, 67, 0.15);\n",
              "      fill: #174EA6;\n",
              "    }\n",
              "\n",
              "    [theme=dark] .colab-df-convert {\n",
              "      background-color: #3B4455;\n",
              "      fill: #D2E3FC;\n",
              "    }\n",
              "\n",
              "    [theme=dark] .colab-df-convert:hover {\n",
              "      background-color: #434B5C;\n",
              "      box-shadow: 0px 1px 3px 1px rgba(0, 0, 0, 0.15);\n",
              "      filter: drop-shadow(0px 1px 2px rgba(0, 0, 0, 0.3));\n",
              "      fill: #FFFFFF;\n",
              "    }\n",
              "  </style>\n",
              "\n",
              "      <script>\n",
              "        const buttonEl =\n",
              "          document.querySelector('#df-fd652f45-9a93-407d-8d07-3c1df2129421 button.colab-df-convert');\n",
              "        buttonEl.style.display =\n",
              "          google.colab.kernel.accessAllowed ? 'block' : 'none';\n",
              "\n",
              "        async function convertToInteractive(key) {\n",
              "          const element = document.querySelector('#df-fd652f45-9a93-407d-8d07-3c1df2129421');\n",
              "          const dataTable =\n",
              "            await google.colab.kernel.invokeFunction('convertToInteractive',\n",
              "                                                     [key], {});\n",
              "          if (!dataTable) return;\n",
              "\n",
              "          const docLinkHtml = 'Like what you see? Visit the ' +\n",
              "            '<a target=\"_blank\" href=https://colab.research.google.com/notebooks/data_table.ipynb>data table notebook</a>'\n",
              "            + ' to learn more about interactive tables.';\n",
              "          element.innerHTML = '';\n",
              "          dataTable['output_type'] = 'display_data';\n",
              "          await google.colab.output.renderOutput(dataTable, element);\n",
              "          const docLink = document.createElement('div');\n",
              "          docLink.innerHTML = docLinkHtml;\n",
              "          element.appendChild(docLink);\n",
              "        }\n",
              "      </script>\n",
              "    </div>\n",
              "  </div>\n",
              "  "
            ]
          },
          "metadata": {},
          "execution_count": 61
        }
      ],
      "source": [
        "#check records with length rides equal and more than 1 day.\n",
        "df[df['length_ride']>='1 days 00:00:00'].groupby('member_casual').count()"
      ]
    },
    {
      "cell_type": "markdown",
      "source": [
        "Since the count is minimal, I decided to drop these data."
      ],
      "metadata": {
        "id": "VfMVe1dDSSG9"
      }
    },
    {
      "cell_type": "code",
      "execution_count": null,
      "metadata": {
        "id": "51RzbwZiHTOj"
      },
      "outputs": [],
      "source": [
        "#drop length rides equal and more than 1 day.\n",
        "df.drop(df[df['length_ride']>='1 days 00:00:00'].index,inplace=True)"
      ]
    },
    {
      "cell_type": "code",
      "source": [
        "#convert values to minutes for easier manipulation later.\n",
        "df['length_ride']=df['length_ride'].astype('timedelta64[m]')"
      ],
      "metadata": {
        "id": "TKsuF0TRwtv8"
      },
      "execution_count": null,
      "outputs": []
    },
    {
      "cell_type": "code",
      "execution_count": null,
      "metadata": {
        "colab": {
          "base_uri": "https://localhost:8080/"
        },
        "id": "_7SMms14HmC5",
        "outputId": "ae7d790f-5181-42cd-a932-9052bba94c86"
      },
      "outputs": [
        {
          "output_type": "execute_result",
          "data": {
            "text/plain": [
              "count    4.726785e+06\n",
              "mean     1.193495e+01\n",
              "std      8.654369e+00\n",
              "min      1.000000e+00\n",
              "25%      6.000000e+00\n",
              "50%      1.000000e+01\n",
              "75%      1.600000e+01\n",
              "max      4.800000e+01\n",
              "Name: length_ride, dtype: float64"
            ]
          },
          "metadata": {},
          "execution_count": 64
        }
      ],
      "source": [
        "df['length_ride'].describe()"
      ]
    },
    {
      "cell_type": "code",
      "execution_count": null,
      "metadata": {
        "colab": {
          "base_uri": "https://localhost:8080/",
          "height": 539
        },
        "id": "mjzudOvhIX-N",
        "outputId": "28b8f27c-4990-40b3-da22-347bff987fbb"
      },
      "outputs": [
        {
          "output_type": "stream",
          "name": "stderr",
          "text": [
            "/usr/local/lib/python3.8/dist-packages/matplotlib/cbook/__init__.py:1376: VisibleDeprecationWarning: Creating an ndarray from ragged nested sequences (which is a list-or-tuple of lists-or-tuples-or ndarrays with different lengths or shapes) is deprecated. If you meant to do this, you must specify 'dtype=object' when creating the ndarray.\n",
            "  X = np.atleast_1d(X.T if isinstance(X, np.ndarray) else np.asarray(X))\n"
          ]
        },
        {
          "output_type": "display_data",
          "data": {
            "text/plain": [
              "<Figure size 1008x576 with 1 Axes>"
            ],
            "image/png": "[encoded data removed]"
          },
          "metadata": {
            "needs_background": "light"
          }
        }
      ],
      "source": [
        "#illustrate distribution using box plot\n",
        "member =df[df['member_casual']=='member']\n",
        "casual = df[df['member_casual']=='casual']\n",
        "columns_ride = [member['length_ride'],casual['length_ride']]\n",
        "\n",
        "plt.figure(figsize = (14, 8))\n",
        "plt.boxplot(columns_ride)\n",
        "plt.show()"
      ]
    },
    {
      "cell_type": "markdown",
      "metadata": {
        "id": "vB-IDcl9K2Cd"
      },
      "source": [
        "It looks lot there are a lot of outliers."
      ]
    },
    {
      "cell_type": "code",
      "execution_count": null,
      "metadata": {
        "colab": {
          "base_uri": "https://localhost:8080/"
        },
        "id": "MYiuW7gRWk2r",
        "outputId": "8cac6701-4a1e-4389-b29a-984dc9eca92f"
      },
      "outputs": [
        {
          "output_type": "stream",
          "name": "stdout",
          "text": [
            "(-8.5, 27.5) (-12.5, 39.5)\n"
          ]
        }
      ],
      "source": [
        "def detect_outliers_iqr(data):\n",
        "    data = sorted(data)\n",
        "    q1 = np.percentile(data, 25)\n",
        "    q3 = np.percentile(data, 75)\n",
        "    # print(q1, q3)\n",
        "    IQR = q3-q1\n",
        "    lwr_bound = q1-(1.5*IQR)\n",
        "    upr_bound = q3+(1.5*IQR)\n",
        "    return lwr_bound,upr_bound\n",
        "\n",
        "bounds_member = detect_outliers_iqr(member['length_ride'])\n",
        "bounds_casual = detect_outliers_iqr(casual['length_ride'])\n",
        "print(bounds_member, bounds_casual)"
      ]
    },
    {
      "cell_type": "code",
      "execution_count": null,
      "metadata": {
        "colab": {
          "base_uri": "https://localhost:8080/"
        },
        "id": "9UJxP0AEZii-",
        "outputId": "6cb35dc7-ce6e-4018-d7b3-0d090cc2df6e"
      },
      "outputs": [
        {
          "output_type": "execute_result",
          "data": {
            "text/plain": [
              "0.0"
            ]
          },
          "metadata": {},
          "execution_count": 67
        }
      ],
      "source": [
        "#percentage of outliers for members\n",
        "sum(np.array(member['length_ride'])>30)/len(member['length_ride'])*100"
      ]
    },
    {
      "cell_type": "code",
      "source": [
        "#percentage of outliers for casual\n",
        "sum(np.array(casual['length_ride'])>48)/len(member['length_ride'])*100"
      ],
      "metadata": {
        "colab": {
          "base_uri": "https://localhost:8080/"
        },
        "id": "-mXNEyk3t48i",
        "outputId": "fef8d853-58f2-4737-ce36-bedfb7868846"
      },
      "execution_count": null,
      "outputs": [
        {
          "output_type": "execute_result",
          "data": {
            "text/plain": [
              "0.0"
            ]
          },
          "metadata": {},
          "execution_count": 68
        }
      ]
    },
    {
      "cell_type": "markdown",
      "source": [
        "For the purpose of this study I will be dropping the records with the outliers."
      ],
      "metadata": {
        "id": "_spikE4fS7VW"
      }
    },
    {
      "cell_type": "code",
      "source": [
        "df.drop(df[(df['member_casual'] =='member') & (df['length_ride'] > 30)].index, inplace=True)"
      ],
      "metadata": {
        "id": "s6jHZZ9drElq"
      },
      "execution_count": null,
      "outputs": []
    },
    {
      "cell_type": "code",
      "source": [
        "df.drop(df[(df['member_casual'] =='casual') & (df['length_ride'] > 48)].index, inplace=True)"
      ],
      "metadata": {
        "id": "iXceJffIv5Tj"
      },
      "execution_count": null,
      "outputs": []
    },
    {
      "cell_type": "code",
      "source": [
        "member =df[df['member_casual']=='member']\n",
        "casual = df[df['member_casual']=='casual']"
      ],
      "metadata": {
        "id": "D6cDq-m4uwKd"
      },
      "execution_count": null,
      "outputs": []
    },
    {
      "cell_type": "markdown",
      "metadata": {
        "id": "1c4AC-bhY3kU"
      },
      "source": [
        "#### Month"
      ]
    },
    {
      "cell_type": "code",
      "execution_count": null,
      "metadata": {
        "id": "QtSmEZyCnTBS"
      },
      "outputs": [],
      "source": [
        "df['hour'] = df['started_at'].dt.hour"
      ]
    },
    {
      "cell_type": "code",
      "execution_count": null,
      "metadata": {
        "id": "5gB_ou-jnvC1"
      },
      "outputs": [],
      "source": [
        "df['day'] = df['started_at'].dt.day"
      ]
    },
    {
      "cell_type": "code",
      "execution_count": null,
      "metadata": {
        "id": "G7Y9oDZqnIs5"
      },
      "outputs": [],
      "source": [
        "df['month'] = df['started_at'].dt.month_name()"
      ]
    },
    {
      "cell_type": "code",
      "execution_count": null,
      "metadata": {
        "id": "hUZ67tAzllNP"
      },
      "outputs": [],
      "source": [
        "df['dayofweek'] = df['started_at'].dt.day_name()"
      ]
    },
    {
      "cell_type": "markdown",
      "metadata": {
        "id": "eY271SLTjMgu"
      },
      "source": [
        "#### Time Period"
      ]
    },
    {
      "cell_type": "code",
      "source": [
        "bins = [0,6,12,18,24]\n",
        "bin_labels = ['Early Morning','Morning','Afternoon','Evening']\n",
        "df['period']= pd.cut(df['hour'], bins=bins, labels=bin_labels)"
      ],
      "metadata": {
        "id": "tq_IWF44TQ2S"
      },
      "execution_count": null,
      "outputs": []
    },
    {
      "cell_type": "code",
      "source": [
        "df.head()"
      ],
      "metadata": {
        "colab": {
          "base_uri": "https://localhost:8080/",
          "height": 423
        },
        "id": "cVuRgpVdD_JA",
        "outputId": "f54486b9-0966-48a6-8e0d-4c8211a1174f"
      },
      "execution_count": null,
      "outputs": [
        {
          "output_type": "execute_result",
          "data": {
            "text/plain": [
              "             ride_id  rideable_type          started_at            ended_at  \\\n",
              "10  CBFE6F6DE98B37BC  electric_bike 2021-09-28 21:54:55 2021-09-28 22:02:49   \n",
              "59  E92C804563F261EC   classic_bike 2021-09-05 01:25:08 2021-09-05 01:35:46   \n",
              "61  9ECA91210441E847   classic_bike 2021-09-05 13:33:41 2021-09-05 14:06:08   \n",
              "63  306193784EF03E2D  electric_bike 2021-09-05 10:37:04 2021-09-05 10:56:19   \n",
              "69  7CEA96C0EAF85111  electric_bike 2021-09-30 11:42:33 2021-09-30 12:02:43   \n",
              "\n",
              "            start_station_name           end_station_name member_casual  \\\n",
              "10         Clark St & Grace St        Clark St & Grace St        casual   \n",
              "59        Wells St & Walton St  Desplaines St & Kinzie St        casual   \n",
              "61  Larrabee St & Armitage Ave      Clark St & Leland Ave        casual   \n",
              "63       Michigan Ave & Oak St      Michigan Ave & Oak St        casual   \n",
              "69       Michigan Ave & Oak St      Michigan Ave & Oak St        casual   \n",
              "\n",
              "    length_ride  hour  day      month dayofweek         period  price season  \n",
              "10          7.0    21   28  September   Tuesday        Evening   2.12   Fall  \n",
              "59         10.0     1    5  September    Sunday  Early Morning   2.60   Fall  \n",
              "61         32.0    13    5  September    Sunday      Afternoon   6.12   Fall  \n",
              "63         19.0    10    5  September    Sunday        Morning   4.04   Fall  \n",
              "69         20.0    11   30  September  Thursday        Morning   4.20   Fall  "
            ],
            "text/html": [
              "\n",
              "  <div id=\"df-01e66bd3-296e-48cb-ae14-1648d899b9c0\">\n",
              "    <div class=\"colab-df-container\">\n",
              "      <div>\n",
              "<style scoped>\n",
              "    .dataframe tbody tr th:only-of-type {\n",
              "        vertical-align: middle;\n",
              "    }\n",
              "\n",
              "    .dataframe tbody tr th {\n",
              "        vertical-align: top;\n",
              "    }\n",
              "\n",
              "    .dataframe thead th {\n",
              "        text-align: right;\n",
              "    }\n",
              "</style>\n",
              "<table border=\"1\" class=\"dataframe\">\n",
              "  <thead>\n",
              "    <tr style=\"text-align: right;\">\n",
              "      <th></th>\n",
              "      <th>ride_id</th>\n",
              "      <th>rideable_type</th>\n",
              "      <th>started_at</th>\n",
              "      <th>ended_at</th>\n",
              "      <th>start_station_name</th>\n",
              "      <th>end_station_name</th>\n",
              "      <th>member_casual</th>\n",
              "      <th>length_ride</th>\n",
              "      <th>hour</th>\n",
              "      <th>day</th>\n",
              "      <th>month</th>\n",
              "      <th>dayofweek</th>\n",
              "      <th>period</th>\n",
              "      <th>price</th>\n",
              "      <th>season</th>\n",
              "    </tr>\n",
              "  </thead>\n",
              "  <tbody>\n",
              "    <tr>\n",
              "      <th>10</th>\n",
              "      <td>CBFE6F6DE98B37BC</td>\n",
              "      <td>electric_bike</td>\n",
              "      <td>2021-09-28 21:54:55</td>\n",
              "      <td>2021-09-28 22:02:49</td>\n",
              "      <td>Clark St &amp; Grace St</td>\n",
              "      <td>Clark St &amp; Grace St</td>\n",
              "      <td>casual</td>\n",
              "      <td>7.0</td>\n",
              "      <td>21</td>\n",
              "      <td>28</td>\n",
              "      <td>September</td>\n",
              "      <td>Tuesday</td>\n",
              "      <td>Evening</td>\n",
              "      <td>2.12</td>\n",
              "      <td>Fall</td>\n",
              "    </tr>\n",
              "    <tr>\n",
              "      <th>59</th>\n",
              "      <td>E92C804563F261EC</td>\n",
              "      <td>classic_bike</td>\n",
              "      <td>2021-09-05 01:25:08</td>\n",
              "      <td>2021-09-05 01:35:46</td>\n",
              "      <td>Wells St &amp; Walton St</td>\n",
              "      <td>Desplaines St &amp; Kinzie St</td>\n",
              "      <td>casual</td>\n",
              "      <td>10.0</td>\n",
              "      <td>1</td>\n",
              "      <td>5</td>\n",
              "      <td>September</td>\n",
              "      <td>Sunday</td>\n",
              "      <td>Early Morning</td>\n",
              "      <td>2.60</td>\n",
              "      <td>Fall</td>\n",
              "    </tr>\n",
              "    <tr>\n",
              "      <th>61</th>\n",
              "      <td>9ECA91210441E847</td>\n",
              "      <td>classic_bike</td>\n",
              "      <td>2021-09-05 13:33:41</td>\n",
              "      <td>2021-09-05 14:06:08</td>\n",
              "      <td>Larrabee St &amp; Armitage Ave</td>\n",
              "      <td>Clark St &amp; Leland Ave</td>\n",
              "      <td>casual</td>\n",
              "      <td>32.0</td>\n",
              "      <td>13</td>\n",
              "      <td>5</td>\n",
              "      <td>September</td>\n",
              "      <td>Sunday</td>\n",
              "      <td>Afternoon</td>\n",
              "      <td>6.12</td>\n",
              "      <td>Fall</td>\n",
              "    </tr>\n",
              "    <tr>\n",
              "      <th>63</th>\n",
              "      <td>306193784EF03E2D</td>\n",
              "      <td>electric_bike</td>\n",
              "      <td>2021-09-05 10:37:04</td>\n",
              "      <td>2021-09-05 10:56:19</td>\n",
              "      <td>Michigan Ave &amp; Oak St</td>\n",
              "      <td>Michigan Ave &amp; Oak St</td>\n",
              "      <td>casual</td>\n",
              "      <td>19.0</td>\n",
              "      <td>10</td>\n",
              "      <td>5</td>\n",
              "      <td>September</td>\n",
              "      <td>Sunday</td>\n",
              "      <td>Morning</td>\n",
              "      <td>4.04</td>\n",
              "      <td>Fall</td>\n",
              "    </tr>\n",
              "    <tr>\n",
              "      <th>69</th>\n",
              "      <td>7CEA96C0EAF85111</td>\n",
              "      <td>electric_bike</td>\n",
              "      <td>2021-09-30 11:42:33</td>\n",
              "      <td>2021-09-30 12:02:43</td>\n",
              "      <td>Michigan Ave &amp; Oak St</td>\n",
              "      <td>Michigan Ave &amp; Oak St</td>\n",
              "      <td>casual</td>\n",
              "      <td>20.0</td>\n",
              "      <td>11</td>\n",
              "      <td>30</td>\n",
              "      <td>September</td>\n",
              "      <td>Thursday</td>\n",
              "      <td>Morning</td>\n",
              "      <td>4.20</td>\n",
              "      <td>Fall</td>\n",
              "    </tr>\n",
              "  </tbody>\n",
              "</table>\n",
              "</div>\n",
              "      <button class=\"colab-df-convert\" onclick=\"convertToInteractive('df-01e66bd3-296e-48cb-ae14-1648d899b9c0')\"\n",
              "              title=\"Convert this dataframe to an interactive table.\"\n",
              "              style=\"display:none;\">\n",
              "        \n",
              "  <svg xmlns=\"http://www.w3.org/2000/svg\" height=\"24px\"viewBox=\"0 0 24 24\"\n",
              "       width=\"24px\">\n",
              "    <path d=\"M0 0h24v24H0V0z\" fill=\"none\"/>\n",
              "    <path d=\"M18.56 5.44l.94 2.06.94-2.06 2.06-.94-2.06-.94-.94-2.06-.94 2.06-2.06.94zm-11 1L8.5 8.5l.94-2.06 2.06-.94-2.06-.94L8.5 2.5l-.94 2.06-2.06.94zm10 10l.94 2.06.94-2.06 2.06-.94-2.06-.94-.94-2.06-.94 2.06-2.06.94z\"/><path d=\"M17.41 7.96l-1.37-1.37c-.4-.4-.92-.59-1.43-.59-.52 0-1.04.2-1.43.59L10.3 9.45l-7.72 7.72c-.78.78-.78 2.05 0 2.83L4 21.41c.39.39.9.59 1.41.59.51 0 1.02-.2 1.41-.59l7.78-7.78 2.81-2.81c.8-.78.8-2.07 0-2.86zM5.41 20L4 18.59l7.72-7.72 1.47 1.35L5.41 20z\"/>\n",
              "  </svg>\n",
              "      </button>\n",
              "      \n",
              "  <style>\n",
              "    .colab-df-container {\n",
              "      display:flex;\n",
              "      flex-wrap:wrap;\n",
              "      gap: 12px;\n",
              "    }\n",
              "\n",
              "    .colab-df-convert {\n",
              "      background-color: #E8F0FE;\n",
              "      border: none;\n",
              "      border-radius: 50%;\n",
              "      cursor: pointer;\n",
              "      display: none;\n",
              "      fill: #1967D2;\n",
              "      height: 32px;\n",
              "      padding: 0 0 0 0;\n",
              "      width: 32px;\n",
              "    }\n",
              "\n",
              "    .colab-df-convert:hover {\n",
              "      background-color: #E2EBFA;\n",
              "      box-shadow: 0px 1px 2px rgba(60, 64, 67, 0.3), 0px 1px 3px 1px rgba(60, 64, 67, 0.15);\n",
              "      fill: #174EA6;\n",
              "    }\n",
              "\n",
              "    [theme=dark] .colab-df-convert {\n",
              "      background-color: #3B4455;\n",
              "      fill: #D2E3FC;\n",
              "    }\n",
              "\n",
              "    [theme=dark] .colab-df-convert:hover {\n",
              "      background-color: #434B5C;\n",
              "      box-shadow: 0px 1px 3px 1px rgba(0, 0, 0, 0.15);\n",
              "      filter: drop-shadow(0px 1px 2px rgba(0, 0, 0, 0.3));\n",
              "      fill: #FFFFFF;\n",
              "    }\n",
              "  </style>\n",
              "\n",
              "      <script>\n",
              "        const buttonEl =\n",
              "          document.querySelector('#df-01e66bd3-296e-48cb-ae14-1648d899b9c0 button.colab-df-convert');\n",
              "        buttonEl.style.display =\n",
              "          google.colab.kernel.accessAllowed ? 'block' : 'none';\n",
              "\n",
              "        async function convertToInteractive(key) {\n",
              "          const element = document.querySelector('#df-01e66bd3-296e-48cb-ae14-1648d899b9c0');\n",
              "          const dataTable =\n",
              "            await google.colab.kernel.invokeFunction('convertToInteractive',\n",
              "                                                     [key], {});\n",
              "          if (!dataTable) return;\n",
              "\n",
              "          const docLinkHtml = 'Like what you see? Visit the ' +\n",
              "            '<a target=\"_blank\" href=https://colab.research.google.com/notebooks/data_table.ipynb>data table notebook</a>'\n",
              "            + ' to learn more about interactive tables.';\n",
              "          element.innerHTML = '';\n",
              "          dataTable['output_type'] = 'display_data';\n",
              "          await google.colab.output.renderOutput(dataTable, element);\n",
              "          const docLink = document.createElement('div');\n",
              "          docLink.innerHTML = docLinkHtml;\n",
              "          element.appendChild(docLink);\n",
              "        }\n",
              "      </script>\n",
              "    </div>\n",
              "  </div>\n",
              "  "
            ]
          },
          "metadata": {},
          "execution_count": 77
        }
      ]
    },
    {
      "cell_type": "markdown",
      "metadata": {
        "id": "o_e3zYDVZQZO"
      },
      "source": [
        "#### Ride Price"
      ]
    },
    {
      "cell_type": "code",
      "source": [
        "def price_member(x):\n",
        "    if x>45:\n",
        "       a= 10 + (x-45)*0.16\n",
        "       return a\n",
        "    else:\n",
        "       return 10"
      ],
      "metadata": {
        "id": "DhNtaRAGJfQC"
      },
      "execution_count": null,
      "outputs": []
    },
    {
      "cell_type": "code",
      "source": [
        "df['price'] = 1+(df[df['member_casual']=='casual']['length_ride']*0.16)"
      ],
      "metadata": {
        "id": "KcpvXUJtNbCy"
      },
      "execution_count": null,
      "outputs": []
    },
    {
      "cell_type": "code",
      "source": [
        "df['price']=df['price'].fillna(df['length_ride'].map(lambda x : price_member(x)))"
      ],
      "metadata": {
        "id": "Xm9Vey5KJZQ5"
      },
      "execution_count": null,
      "outputs": []
    },
    {
      "cell_type": "markdown",
      "source": [
        "### Seasons"
      ],
      "metadata": {
        "id": "lY4ymVPIk9g8"
      }
    },
    {
      "cell_type": "code",
      "source": [
        "seasons = {'March':'Spring', 'April':'Spring','May':'Spring',\n",
        "           'June':'Summer', 'July':'Summer','August':'Summer',\n",
        "           'September':'Fall','October':'Fall','November':'Fall',\n",
        "           'December':'Winter','January':'Winter','February':'Winter'}\n",
        "\n",
        "df['season']= df['month'].map(seasons)"
      ],
      "metadata": {
        "id": "pep0mqGRNTV7"
      },
      "execution_count": null,
      "outputs": []
    },
    {
      "cell_type": "markdown",
      "metadata": {
        "id": "Tyj5bOKnY5sN"
      },
      "source": [
        "# Exploratory Data Analysis"
      ]
    },
    {
      "cell_type": "markdown",
      "metadata": {
        "id": "gN4da8_9U3_s"
      },
      "source": [
        "**Questions**\n",
        "\n",
        "*  How many bikes are rented by casual and member?\n",
        "*  What type of bikes are casual and members use?\n",
        "*  What station do they start and end for both casual and member?\n",
        "*  What time of the day is the busiest? Day of the week?\n",
        "*  What month/season are peak and low?\n",
        "*  How long do they ride?\n",
        "*  How much do they spend?"
      ]
    },
    {
      "cell_type": "code",
      "source": [
        "df['member_casual'].value_counts()"
      ],
      "metadata": {
        "colab": {
          "base_uri": "https://localhost:8080/"
        },
        "id": "u8OAJp-RTXY3",
        "outputId": "80374757-dbfc-496e-b102-2f8f35d8b389"
      },
      "execution_count": null,
      "outputs": [
        {
          "output_type": "execute_result",
          "data": {
            "text/plain": [
              "member    2886051\n",
              "casual    1840734\n",
              "Name: member_casual, dtype: int64"
            ]
          },
          "metadata": {},
          "execution_count": 118
        }
      ]
    },
    {
      "cell_type": "markdown",
      "source": [
        "### Type of Bike"
      ],
      "metadata": {
        "id": "Z1dtlsQvwXgG"
      }
    },
    {
      "cell_type": "code",
      "source": [
        "fig,ax = plt.subplots(1,2,figsize=(10,5))\n",
        "ax[0].pie(df[df['member_casual']=='member']['rideable_type'].value_counts(),autopct ='% 1.1f %%',labels=df['rideable_type'].unique())\n",
        "ax[0].set_title('Member', size=(20))\n",
        "ax[1].pie(df[df['member_casual']=='casual']['rideable_type'].value_counts(),autopct ='% 1.1f %%',labels=df['rideable_type'].unique())\n",
        "ax[1].set_title('Casual', size=(20))\n",
        "plt.show() "
      ],
      "metadata": {
        "colab": {
          "base_uri": "https://localhost:8080/",
          "height": 306
        },
        "id": "ioaFeHbaH1pI",
        "outputId": "6378249a-c74f-439b-84be-0ca00af1ff35"
      },
      "execution_count": null,
      "outputs": [
        {
          "output_type": "display_data",
          "data": {
            "text/plain": [
              "<Figure size 720x360 with 2 Axes>"
            ],
            "image/png": "[encoded data removed]"
          },
          "metadata": {}
        }
      ]
    },
    {
      "cell_type": "markdown",
      "source": [
        "### Station"
      ],
      "metadata": {
        "id": "evOgeniPwe1f"
      }
    },
    {
      "cell_type": "code",
      "source": [
        "df_station1 = df.groupby(['start_station_name','member_casual'])['member_casual'].count().sort_values(ascending=False)\n",
        "df_station1=df_station1.to_frame()\n",
        "df_station1.rename(columns={'member_casual':'count'}, inplace=True)\n",
        "df_station1.reset_index(inplace=True)\n",
        "df_station1"
      ],
      "metadata": {
        "colab": {
          "base_uri": "https://localhost:8080/",
          "height": 423
        },
        "id": "gYgttDtSIV9g",
        "outputId": "4fe014c9-9459-4006-ad35-b61c47f01ccb"
      },
      "execution_count": null,
      "outputs": [
        {
          "output_type": "execute_result",
          "data": {
            "text/plain": [
              "                           start_station_name member_casual  count\n",
              "0                     Streeter Dr & Grand Ave        casual  39910\n",
              "1                    Kingsbury St & Kinzie St        member  26696\n",
              "2                           Clark St & Elm St        member  23502\n",
              "3                       Wells St & Concord Ln        member  23435\n",
              "4                         Ellis Ave & 60th St        member  21564\n",
              "...                                       ...           ...    ...\n",
              "2700  Public Rack - Francisco Ave & Touhy Ave        member      1\n",
              "2701   Public Rack - Grand Ave & Lawndale Ave        casual      1\n",
              "2702             Keef Ave & South Chicago Ave        casual      1\n",
              "2703              Western Ave & 111th St - SW        member      1\n",
              "2704                           Zapata Academy        member      1\n",
              "\n",
              "[2705 rows x 3 columns]"
            ],
            "text/html": [
              "\n",
              "  <div id=\"df-42deb61b-b92e-4c89-8b81-d95662231115\">\n",
              "    <div class=\"colab-df-container\">\n",
              "      <div>\n",
              "<style scoped>\n",
              "    .dataframe tbody tr th:only-of-type {\n",
              "        vertical-align: middle;\n",
              "    }\n",
              "\n",
              "    .dataframe tbody tr th {\n",
              "        vertical-align: top;\n",
              "    }\n",
              "\n",
              "    .dataframe thead th {\n",
              "        text-align: right;\n",
              "    }\n",
              "</style>\n",
              "<table border=\"1\" class=\"dataframe\">\n",
              "  <thead>\n",
              "    <tr style=\"text-align: right;\">\n",
              "      <th></th>\n",
              "      <th>start_station_name</th>\n",
              "      <th>member_casual</th>\n",
              "      <th>count</th>\n",
              "    </tr>\n",
              "  </thead>\n",
              "  <tbody>\n",
              "    <tr>\n",
              "      <th>0</th>\n",
              "      <td>Streeter Dr &amp; Grand Ave</td>\n",
              "      <td>casual</td>\n",
              "      <td>39910</td>\n",
              "    </tr>\n",
              "    <tr>\n",
              "      <th>1</th>\n",
              "      <td>Kingsbury St &amp; Kinzie St</td>\n",
              "      <td>member</td>\n",
              "      <td>26696</td>\n",
              "    </tr>\n",
              "    <tr>\n",
              "      <th>2</th>\n",
              "      <td>Clark St &amp; Elm St</td>\n",
              "      <td>member</td>\n",
              "      <td>23502</td>\n",
              "    </tr>\n",
              "    <tr>\n",
              "      <th>3</th>\n",
              "      <td>Wells St &amp; Concord Ln</td>\n",
              "      <td>member</td>\n",
              "      <td>23435</td>\n",
              "    </tr>\n",
              "    <tr>\n",
              "      <th>4</th>\n",
              "      <td>Ellis Ave &amp; 60th St</td>\n",
              "      <td>member</td>\n",
              "      <td>21564</td>\n",
              "    </tr>\n",
              "    <tr>\n",
              "      <th>...</th>\n",
              "      <td>...</td>\n",
              "      <td>...</td>\n",
              "      <td>...</td>\n",
              "    </tr>\n",
              "    <tr>\n",
              "      <th>2700</th>\n",
              "      <td>Public Rack - Francisco Ave &amp; Touhy Ave</td>\n",
              "      <td>member</td>\n",
              "      <td>1</td>\n",
              "    </tr>\n",
              "    <tr>\n",
              "      <th>2701</th>\n",
              "      <td>Public Rack - Grand Ave &amp; Lawndale Ave</td>\n",
              "      <td>casual</td>\n",
              "      <td>1</td>\n",
              "    </tr>\n",
              "    <tr>\n",
              "      <th>2702</th>\n",
              "      <td>Keef Ave &amp; South Chicago Ave</td>\n",
              "      <td>casual</td>\n",
              "      <td>1</td>\n",
              "    </tr>\n",
              "    <tr>\n",
              "      <th>2703</th>\n",
              "      <td>Western Ave &amp; 111th St - SW</td>\n",
              "      <td>member</td>\n",
              "      <td>1</td>\n",
              "    </tr>\n",
              "    <tr>\n",
              "      <th>2704</th>\n",
              "      <td>Zapata Academy</td>\n",
              "      <td>member</td>\n",
              "      <td>1</td>\n",
              "    </tr>\n",
              "  </tbody>\n",
              "</table>\n",
              "<p>2705 rows × 3 columns</p>\n",
              "</div>\n",
              "      <button class=\"colab-df-convert\" onclick=\"convertToInteractive('df-42deb61b-b92e-4c89-8b81-d95662231115')\"\n",
              "              title=\"Convert this dataframe to an interactive table.\"\n",
              "              style=\"display:none;\">\n",
              "        \n",
              "  <svg xmlns=\"http://www.w3.org/2000/svg\" height=\"24px\"viewBox=\"0 0 24 24\"\n",
              "       width=\"24px\">\n",
              "    <path d=\"M0 0h24v24H0V0z\" fill=\"none\"/>\n",
              "    <path d=\"M18.56 5.44l.94 2.06.94-2.06 2.06-.94-2.06-.94-.94-2.06-.94 2.06-2.06.94zm-11 1L8.5 8.5l.94-2.06 2.06-.94-2.06-.94L8.5 2.5l-.94 2.06-2.06.94zm10 10l.94 2.06.94-2.06 2.06-.94-2.06-.94-.94-2.06-.94 2.06-2.06.94z\"/><path d=\"M17.41 7.96l-1.37-1.37c-.4-.4-.92-.59-1.43-.59-.52 0-1.04.2-1.43.59L10.3 9.45l-7.72 7.72c-.78.78-.78 2.05 0 2.83L4 21.41c.39.39.9.59 1.41.59.51 0 1.02-.2 1.41-.59l7.78-7.78 2.81-2.81c.8-.78.8-2.07 0-2.86zM5.41 20L4 18.59l7.72-7.72 1.47 1.35L5.41 20z\"/>\n",
              "  </svg>\n",
              "      </button>\n",
              "      \n",
              "  <style>\n",
              "    .colab-df-container {\n",
              "      display:flex;\n",
              "      flex-wrap:wrap;\n",
              "      gap: 12px;\n",
              "    }\n",
              "\n",
              "    .colab-df-convert {\n",
              "      background-color: #E8F0FE;\n",
              "      border: none;\n",
              "      border-radius: 50%;\n",
              "      cursor: pointer;\n",
              "      display: none;\n",
              "      fill: #1967D2;\n",
              "      height: 32px;\n",
              "      padding: 0 0 0 0;\n",
              "      width: 32px;\n",
              "    }\n",
              "\n",
              "    .colab-df-convert:hover {\n",
              "      background-color: #E2EBFA;\n",
              "      box-shadow: 0px 1px 2px rgba(60, 64, 67, 0.3), 0px 1px 3px 1px rgba(60, 64, 67, 0.15);\n",
              "      fill: #174EA6;\n",
              "    }\n",
              "\n",
              "    [theme=dark] .colab-df-convert {\n",
              "      background-color: #3B4455;\n",
              "      fill: #D2E3FC;\n",
              "    }\n",
              "\n",
              "    [theme=dark] .colab-df-convert:hover {\n",
              "      background-color: #434B5C;\n",
              "      box-shadow: 0px 1px 3px 1px rgba(0, 0, 0, 0.15);\n",
              "      filter: drop-shadow(0px 1px 2px rgba(0, 0, 0, 0.3));\n",
              "      fill: #FFFFFF;\n",
              "    }\n",
              "  </style>\n",
              "\n",
              "      <script>\n",
              "        const buttonEl =\n",
              "          document.querySelector('#df-42deb61b-b92e-4c89-8b81-d95662231115 button.colab-df-convert');\n",
              "        buttonEl.style.display =\n",
              "          google.colab.kernel.accessAllowed ? 'block' : 'none';\n",
              "\n",
              "        async function convertToInteractive(key) {\n",
              "          const element = document.querySelector('#df-42deb61b-b92e-4c89-8b81-d95662231115');\n",
              "          const dataTable =\n",
              "            await google.colab.kernel.invokeFunction('convertToInteractive',\n",
              "                                                     [key], {});\n",
              "          if (!dataTable) return;\n",
              "\n",
              "          const docLinkHtml = 'Like what you see? Visit the ' +\n",
              "            '<a target=\"_blank\" href=https://colab.research.google.com/notebooks/data_table.ipynb>data table notebook</a>'\n",
              "            + ' to learn more about interactive tables.';\n",
              "          element.innerHTML = '';\n",
              "          dataTable['output_type'] = 'display_data';\n",
              "          await google.colab.output.renderOutput(dataTable, element);\n",
              "          const docLink = document.createElement('div');\n",
              "          docLink.innerHTML = docLinkHtml;\n",
              "          element.appendChild(docLink);\n",
              "        }\n",
              "      </script>\n",
              "    </div>\n",
              "  </div>\n",
              "  "
            ]
          },
          "metadata": {},
          "execution_count": 120
        }
      ]
    },
    {
      "cell_type": "code",
      "source": [
        "sns.catplot(x='count',\n",
        "            y='start_station_name',\n",
        "            data=df_station1.head(30),\n",
        "            col=\"member_casual\", kind=\"bar\",sharey=False)"
      ],
      "metadata": {
        "colab": {
          "base_uri": "https://localhost:8080/",
          "height": 441
        },
        "id": "2nyDNNIPGhd-",
        "outputId": "c8ab9e63-6d14-4988-8962-83fbc636d63f"
      },
      "execution_count": null,
      "outputs": [
        {
          "output_type": "stream",
          "name": "stderr",
          "text": [
            "/usr/local/lib/python3.8/dist-packages/seaborn/categorical.py:3808: UserWarning: Setting `sharey=False` with `color=None` may cause different levels of the `y` variable to share colors. This will change in a future version.\n",
            "  warnings.warn(msg.format(\"sharey\", \"y\"), UserWarning)\n"
          ]
        },
        {
          "output_type": "execute_result",
          "data": {
            "text/plain": [
              "<seaborn.axisgrid.FacetGrid at 0x7fc7e33904f0>"
            ]
          },
          "metadata": {},
          "execution_count": 121
        },
        {
          "output_type": "display_data",
          "data": {
            "text/plain": [
              "<Figure size 720x360 with 2 Axes>"
            ],
            "image/png": "[encoded data removed]"
          },
          "metadata": {
            "needs_background": "light"
          }
        }
      ]
    },
    {
      "cell_type": "code",
      "source": [
        "df_station2 = df.groupby(['end_station_name','member_casual'])['member_casual'].count().sort_values(ascending=False)\n",
        "df_station2=df_station2.to_frame()\n",
        "df_station2.rename(columns={'member_casual':'count'}, inplace=True)\n",
        "df_station2.reset_index(inplace=True)\n",
        "df_station2"
      ],
      "metadata": {
        "colab": {
          "base_uri": "https://localhost:8080/",
          "height": 423
        },
        "id": "McjCFaUmhKMe",
        "outputId": "cc1278b5-0433-4cda-fd59-c5e974976c9c"
      },
      "execution_count": null,
      "outputs": [
        {
          "output_type": "execute_result",
          "data": {
            "text/plain": [
              "                                       end_station_name member_casual  count\n",
              "0                               Streeter Dr & Grand Ave        casual  39920\n",
              "1                              Kingsbury St & Kinzie St        member  26440\n",
              "2                                 Wells St & Concord Ln        member  23975\n",
              "3                                     Clark St & Elm St        member  23763\n",
              "4                    DuSable Lake Shore Dr & North Blvd        casual  22865\n",
              "...                                                 ...           ...    ...\n",
              "2716            Public Rack - Eli Whitney Public School        member      1\n",
              "2717         Public Rack - Division St & Christiana Ave        casual      1\n",
              "2718  Public Rack - California Ave & Touhy Ave - mid...        member      1\n",
              "2719  Public Rack - California Ave & Touhy Ave - mid...        casual      1\n",
              "2720                                     Zapata Academy        member      1\n",
              "\n",
              "[2721 rows x 3 columns]"
            ],
            "text/html": [
              "\n",
              "  <div id=\"df-c1302a6b-9443-49e7-b28b-3db80ca2c8c0\">\n",
              "    <div class=\"colab-df-container\">\n",
              "      <div>\n",
              "<style scoped>\n",
              "    .dataframe tbody tr th:only-of-type {\n",
              "        vertical-align: middle;\n",
              "    }\n",
              "\n",
              "    .dataframe tbody tr th {\n",
              "        vertical-align: top;\n",
              "    }\n",
              "\n",
              "    .dataframe thead th {\n",
              "        text-align: right;\n",
              "    }\n",
              "</style>\n",
              "<table border=\"1\" class=\"dataframe\">\n",
              "  <thead>\n",
              "    <tr style=\"text-align: right;\">\n",
              "      <th></th>\n",
              "      <th>end_station_name</th>\n",
              "      <th>member_casual</th>\n",
              "      <th>count</th>\n",
              "    </tr>\n",
              "  </thead>\n",
              "  <tbody>\n",
              "    <tr>\n",
              "      <th>0</th>\n",
              "      <td>Streeter Dr &amp; Grand Ave</td>\n",
              "      <td>casual</td>\n",
              "      <td>39920</td>\n",
              "    </tr>\n",
              "    <tr>\n",
              "      <th>1</th>\n",
              "      <td>Kingsbury St &amp; Kinzie St</td>\n",
              "      <td>member</td>\n",
              "      <td>26440</td>\n",
              "    </tr>\n",
              "    <tr>\n",
              "      <th>2</th>\n",
              "      <td>Wells St &amp; Concord Ln</td>\n",
              "      <td>member</td>\n",
              "      <td>23975</td>\n",
              "    </tr>\n",
              "    <tr>\n",
              "      <th>3</th>\n",
              "      <td>Clark St &amp; Elm St</td>\n",
              "      <td>member</td>\n",
              "      <td>23763</td>\n",
              "    </tr>\n",
              "    <tr>\n",
              "      <th>4</th>\n",
              "      <td>DuSable Lake Shore Dr &amp; North Blvd</td>\n",
              "      <td>casual</td>\n",
              "      <td>22865</td>\n",
              "    </tr>\n",
              "    <tr>\n",
              "      <th>...</th>\n",
              "      <td>...</td>\n",
              "      <td>...</td>\n",
              "      <td>...</td>\n",
              "    </tr>\n",
              "    <tr>\n",
              "      <th>2716</th>\n",
              "      <td>Public Rack - Eli Whitney Public School</td>\n",
              "      <td>member</td>\n",
              "      <td>1</td>\n",
              "    </tr>\n",
              "    <tr>\n",
              "      <th>2717</th>\n",
              "      <td>Public Rack - Division St &amp; Christiana Ave</td>\n",
              "      <td>casual</td>\n",
              "      <td>1</td>\n",
              "    </tr>\n",
              "    <tr>\n",
              "      <th>2718</th>\n",
              "      <td>Public Rack - California Ave &amp; Touhy Ave - mid...</td>\n",
              "      <td>member</td>\n",
              "      <td>1</td>\n",
              "    </tr>\n",
              "    <tr>\n",
              "      <th>2719</th>\n",
              "      <td>Public Rack - California Ave &amp; Touhy Ave - mid...</td>\n",
              "      <td>casual</td>\n",
              "      <td>1</td>\n",
              "    </tr>\n",
              "    <tr>\n",
              "      <th>2720</th>\n",
              "      <td>Zapata Academy</td>\n",
              "      <td>member</td>\n",
              "      <td>1</td>\n",
              "    </tr>\n",
              "  </tbody>\n",
              "</table>\n",
              "<p>2721 rows × 3 columns</p>\n",
              "</div>\n",
              "      <button class=\"colab-df-convert\" onclick=\"convertToInteractive('df-c1302a6b-9443-49e7-b28b-3db80ca2c8c0')\"\n",
              "              title=\"Convert this dataframe to an interactive table.\"\n",
              "              style=\"display:none;\">\n",
              "        \n",
              "  <svg xmlns=\"http://www.w3.org/2000/svg\" height=\"24px\"viewBox=\"0 0 24 24\"\n",
              "       width=\"24px\">\n",
              "    <path d=\"M0 0h24v24H0V0z\" fill=\"none\"/>\n",
              "    <path d=\"M18.56 5.44l.94 2.06.94-2.06 2.06-.94-2.06-.94-.94-2.06-.94 2.06-2.06.94zm-11 1L8.5 8.5l.94-2.06 2.06-.94-2.06-.94L8.5 2.5l-.94 2.06-2.06.94zm10 10l.94 2.06.94-2.06 2.06-.94-2.06-.94-.94-2.06-.94 2.06-2.06.94z\"/><path d=\"M17.41 7.96l-1.37-1.37c-.4-.4-.92-.59-1.43-.59-.52 0-1.04.2-1.43.59L10.3 9.45l-7.72 7.72c-.78.78-.78 2.05 0 2.83L4 21.41c.39.39.9.59 1.41.59.51 0 1.02-.2 1.41-.59l7.78-7.78 2.81-2.81c.8-.78.8-2.07 0-2.86zM5.41 20L4 18.59l7.72-7.72 1.47 1.35L5.41 20z\"/>\n",
              "  </svg>\n",
              "      </button>\n",
              "      \n",
              "  <style>\n",
              "    .colab-df-container {\n",
              "      display:flex;\n",
              "      flex-wrap:wrap;\n",
              "      gap: 12px;\n",
              "    }\n",
              "\n",
              "    .colab-df-convert {\n",
              "      background-color: #E8F0FE;\n",
              "      border: none;\n",
              "      border-radius: 50%;\n",
              "      cursor: pointer;\n",
              "      display: none;\n",
              "      fill: #1967D2;\n",
              "      height: 32px;\n",
              "      padding: 0 0 0 0;\n",
              "      width: 32px;\n",
              "    }\n",
              "\n",
              "    .colab-df-convert:hover {\n",
              "      background-color: #E2EBFA;\n",
              "      box-shadow: 0px 1px 2px rgba(60, 64, 67, 0.3), 0px 1px 3px 1px rgba(60, 64, 67, 0.15);\n",
              "      fill: #174EA6;\n",
              "    }\n",
              "\n",
              "    [theme=dark] .colab-df-convert {\n",
              "      background-color: #3B4455;\n",
              "      fill: #D2E3FC;\n",
              "    }\n",
              "\n",
              "    [theme=dark] .colab-df-convert:hover {\n",
              "      background-color: #434B5C;\n",
              "      box-shadow: 0px 1px 3px 1px rgba(0, 0, 0, 0.15);\n",
              "      filter: drop-shadow(0px 1px 2px rgba(0, 0, 0, 0.3));\n",
              "      fill: #FFFFFF;\n",
              "    }\n",
              "  </style>\n",
              "\n",
              "      <script>\n",
              "        const buttonEl =\n",
              "          document.querySelector('#df-c1302a6b-9443-49e7-b28b-3db80ca2c8c0 button.colab-df-convert');\n",
              "        buttonEl.style.display =\n",
              "          google.colab.kernel.accessAllowed ? 'block' : 'none';\n",
              "\n",
              "        async function convertToInteractive(key) {\n",
              "          const element = document.querySelector('#df-c1302a6b-9443-49e7-b28b-3db80ca2c8c0');\n",
              "          const dataTable =\n",
              "            await google.colab.kernel.invokeFunction('convertToInteractive',\n",
              "                                                     [key], {});\n",
              "          if (!dataTable) return;\n",
              "\n",
              "          const docLinkHtml = 'Like what you see? Visit the ' +\n",
              "            '<a target=\"_blank\" href=https://colab.research.google.com/notebooks/data_table.ipynb>data table notebook</a>'\n",
              "            + ' to learn more about interactive tables.';\n",
              "          element.innerHTML = '';\n",
              "          dataTable['output_type'] = 'display_data';\n",
              "          await google.colab.output.renderOutput(dataTable, element);\n",
              "          const docLink = document.createElement('div');\n",
              "          docLink.innerHTML = docLinkHtml;\n",
              "          element.appendChild(docLink);\n",
              "        }\n",
              "      </script>\n",
              "    </div>\n",
              "  </div>\n",
              "  "
            ]
          },
          "metadata": {},
          "execution_count": 122
        }
      ]
    },
    {
      "cell_type": "code",
      "source": [
        "sns.catplot(x='count',\n",
        "            y='end_station_name',\n",
        "            data=df_station2.head(30),\n",
        "            col=\"member_casual\", kind=\"bar\",sharey=False)"
      ],
      "metadata": {
        "colab": {
          "base_uri": "https://localhost:8080/",
          "height": 441
        },
        "id": "mpAUaX8jhVQC",
        "outputId": "b8fb373c-f228-40f9-bd90-da7d810f9a34"
      },
      "execution_count": null,
      "outputs": [
        {
          "output_type": "stream",
          "name": "stderr",
          "text": [
            "/usr/local/lib/python3.8/dist-packages/seaborn/categorical.py:3808: UserWarning: Setting `sharey=False` with `color=None` may cause different levels of the `y` variable to share colors. This will change in a future version.\n",
            "  warnings.warn(msg.format(\"sharey\", \"y\"), UserWarning)\n"
          ]
        },
        {
          "output_type": "execute_result",
          "data": {
            "text/plain": [
              "<seaborn.axisgrid.FacetGrid at 0x7fc7e334de50>"
            ]
          },
          "metadata": {},
          "execution_count": 123
        },
        {
          "output_type": "display_data",
          "data": {
            "text/plain": [
              "<Figure size 720x360 with 2 Axes>"
            ],
            "image/png": "[encoded data removed]"
          },
          "metadata": {
            "needs_background": "light"
          }
        }
      ]
    },
    {
      "cell_type": "markdown",
      "source": [
        "### Hourly"
      ],
      "metadata": {
        "id": "pqPrpQ_s3HG7"
      }
    },
    {
      "cell_type": "code",
      "source": [
        "hourly=df.groupby(['member_casual','hour'])['ride_id'].count().reset_index()"
      ],
      "metadata": {
        "id": "F_RCeq5w8_4q"
      },
      "execution_count": null,
      "outputs": []
    },
    {
      "cell_type": "code",
      "source": [
        "rcParams['figure.figsize'] = 12,7\n",
        "figure=sns.barplot(data=hourly,x='hour',y='ride_id',hue='member_casual')\n",
        "sns.despine(top=True,right=True)"
      ],
      "metadata": {
        "id": "ojbJHR3u84uD",
        "colab": {
          "base_uri": "https://localhost:8080/",
          "height": 442
        },
        "outputId": "b146c509-65e0-49ef-bebb-8bbfd0bc31b1"
      },
      "execution_count": null,
      "outputs": [
        {
          "output_type": "display_data",
          "data": {
            "text/plain": [
              "<Figure size 864x504 with 1 Axes>"
            ],
            "image/png": "[encoded data removed]"
          },
          "metadata": {
            "needs_background": "light"
          }
        }
      ]
    },
    {
      "cell_type": "markdown",
      "source": [
        "### Daily"
      ],
      "metadata": {
        "id": "QK2KNdcI80ri"
      }
    },
    {
      "cell_type": "code",
      "source": [
        "daily=df.groupby(['member_casual','dayofweek'])['ride_id'].count().reset_index()"
      ],
      "metadata": {
        "id": "gzCJxiTm1d4o"
      },
      "execution_count": null,
      "outputs": []
    },
    {
      "cell_type": "code",
      "source": [
        "ordered_days = [\"Monday\", \"Tuesday\", \"Wednesday\", \"Thursday\", \"Friday\", \"Saturday\", \"Sunday\"]"
      ],
      "metadata": {
        "id": "YEug_nUa11MZ"
      },
      "execution_count": null,
      "outputs": []
    },
    {
      "cell_type": "code",
      "source": [
        "daily['dayofweek']=pd.Categorical(daily['dayofweek'], categories=ordered_days, ordered=True)"
      ],
      "metadata": {
        "id": "RWfh8r5a2Dsv"
      },
      "execution_count": null,
      "outputs": []
    },
    {
      "cell_type": "code",
      "source": [
        "sns.barplot(data=daily,x='dayofweek',y='ride_id',hue='member_casual')"
      ],
      "metadata": {
        "id": "x7ygNe1_1nrQ",
        "colab": {
          "base_uri": "https://localhost:8080/",
          "height": 351
        },
        "outputId": "78c7a4c1-bf28-4ac5-c2f3-72a17b627e49"
      },
      "execution_count": null,
      "outputs": [
        {
          "output_type": "execute_result",
          "data": {
            "text/plain": [
              "<matplotlib.axes._subplots.AxesSubplot at 0x7fc7e2cb4f40>"
            ]
          },
          "metadata": {},
          "execution_count": 156
        },
        {
          "output_type": "display_data",
          "data": {
            "text/plain": [
              "<Figure size 720x360 with 1 Axes>"
            ],
            "image/png": "[encoded data removed]"
          },
          "metadata": {
            "needs_background": "light"
          }
        }
      ]
    },
    {
      "cell_type": "code",
      "source": [
        "casual_hm=df.query(\"member_casual=='casual'\")\n",
        "casual_hm=casual_hm.groupby(['dayofweek','hour'])['ride_id'].count().unstack()\n",
        "sns.heatmap(casual_hm,cmap='winter')"
      ],
      "metadata": {
        "colab": {
          "base_uri": "https://localhost:8080/",
          "height": 353
        },
        "id": "hu3jTBQ_3A21",
        "outputId": "c993be93-d68d-4908-c7d7-c49a6f621c34"
      },
      "execution_count": null,
      "outputs": [
        {
          "output_type": "execute_result",
          "data": {
            "text/plain": [
              "<matplotlib.axes._subplots.AxesSubplot at 0x7fc7e2de7670>"
            ]
          },
          "metadata": {},
          "execution_count": 157
        },
        {
          "output_type": "display_data",
          "data": {
            "text/plain": [
              "<Figure size 720x360 with 2 Axes>"
            ],
            "image/png": "[encoded data removed]"
          },
          "metadata": {
            "needs_background": "light"
          }
        }
      ]
    },
    {
      "cell_type": "code",
      "source": [
        "member_hm=df.query(\"member_casual=='member'\")\n",
        "member_hm=member_hm.groupby(['dayofweek','hour'])['ride_id'].count().unstack()\n",
        "sns.heatmap(member_hm,cmap='Wistia')"
      ],
      "metadata": {
        "colab": {
          "base_uri": "https://localhost:8080/",
          "height": 351
        },
        "id": "kxYHjF87_TKY",
        "outputId": "e260f870-66af-4750-fca5-3bee8ef231b5"
      },
      "execution_count": null,
      "outputs": [
        {
          "output_type": "execute_result",
          "data": {
            "text/plain": [
              "<matplotlib.axes._subplots.AxesSubplot at 0x7fc7e3afde50>"
            ]
          },
          "metadata": {},
          "execution_count": 158
        },
        {
          "output_type": "display_data",
          "data": {
            "text/plain": [
              "<Figure size 720x360 with 2 Axes>"
            ],
            "image/png": "[encoded data removed]"
          },
          "metadata": {
            "needs_background": "light"
          }
        }
      ]
    },
    {
      "cell_type": "markdown",
      "source": [
        "### Per Season"
      ],
      "metadata": {
        "id": "I3ustPRqlGoX"
      }
    },
    {
      "cell_type": "code",
      "source": [
        "ordered_seasons = [\"Spring\", \"Summer\", \"Fall\", \"Winter\"]"
      ],
      "metadata": {
        "id": "wWW1gXdplNDz"
      },
      "execution_count": null,
      "outputs": []
    },
    {
      "cell_type": "code",
      "source": [
        "seasonal=df.groupby(['member_casual','season'])['ride_id'].count().reset_index()"
      ],
      "metadata": {
        "id": "9Tdqg9sYlWpC"
      },
      "execution_count": null,
      "outputs": []
    },
    {
      "cell_type": "code",
      "source": [
        "seasonal['season']=pd.Categorical(seasonal[\"season\"], categories=ordered_seasons, ordered=True)"
      ],
      "metadata": {
        "id": "foldWhqGlb4C"
      },
      "execution_count": null,
      "outputs": []
    },
    {
      "cell_type": "code",
      "source": [
        "sns.barplot(data=seasonal,x='season',y='ride_id',hue='member_casual')"
      ],
      "metadata": {
        "colab": {
          "base_uri": "https://localhost:8080/",
          "height": 362
        },
        "id": "Ly4Z0n9IlfdK",
        "outputId": "3fa7966e-0729-4179-c332-ee41a8f9ca3f"
      },
      "execution_count": null,
      "outputs": [
        {
          "output_type": "execute_result",
          "data": {
            "text/plain": [
              "<matplotlib.axes._subplots.AxesSubplot at 0x7fc7e3b60d90>"
            ]
          },
          "metadata": {},
          "execution_count": 162
        },
        {
          "output_type": "display_data",
          "data": {
            "text/plain": [
              "<Figure size 720x360 with 1 Axes>"
            ],
            "image/png": "[encoded data removed]"
          },
          "metadata": {
            "needs_background": "light"
          }
        }
      ]
    },
    {
      "cell_type": "markdown",
      "source": [
        "### Month per Month"
      ],
      "metadata": {
        "id": "-S2YeUxvgbaD"
      }
    },
    {
      "cell_type": "code",
      "source": [
        "ordered_months = [\"January\", \"February\", \"March\", \"April\", \"May\", \"June\", \n",
        "          \"July\", \"August\", \"September\", \"October\", \"November\", \"December\"]"
      ],
      "metadata": {
        "id": "m94wXxc8gf1n"
      },
      "execution_count": null,
      "outputs": []
    },
    {
      "cell_type": "code",
      "source": [
        "monthly=df.groupby(['member_casual','month'])['ride_id'].count().reset_index()"
      ],
      "metadata": {
        "id": "DdmR9oyqghuU"
      },
      "execution_count": null,
      "outputs": []
    },
    {
      "cell_type": "code",
      "source": [
        "monthly['month']=pd.Categorical(monthly[\"month\"], categories=ordered_months, ordered=True)"
      ],
      "metadata": {
        "id": "KCfLBqz_kJBU"
      },
      "execution_count": null,
      "outputs": []
    },
    {
      "cell_type": "code",
      "source": [
        "sns.lineplot(data=monthly,x='month',y='ride_id',hue='member_casual')"
      ],
      "metadata": {
        "id": "EpGxYZM-hJy3",
        "colab": {
          "base_uri": "https://localhost:8080/",
          "height": 459
        },
        "outputId": "7ab6b450-3ba3-409d-a091-8a4ac9da496b"
      },
      "execution_count": null,
      "outputs": [
        {
          "output_type": "execute_result",
          "data": {
            "text/plain": [
              "<matplotlib.axes._subplots.AxesSubplot at 0x7fc7e2749280>"
            ]
          },
          "metadata": {},
          "execution_count": 182
        },
        {
          "output_type": "display_data",
          "data": {
            "text/plain": [
              "<Figure size 864x504 with 1 Axes>"
            ],
            "image/png": "[encoded data removed]"
          },
          "metadata": {
            "needs_background": "light"
          }
        }
      ]
    },
    {
      "cell_type": "markdown",
      "source": [
        "### Length Ride"
      ],
      "metadata": {
        "id": "EaeAniTMwisA"
      }
    },
    {
      "cell_type": "code",
      "source": [
        "hour_ride= df.groupby(['member_casual','hour'])['length_ride'].agg(['median','count'])\n",
        "hour_ride.reset_index(inplace=True)\n",
        "hour_ride.head()"
      ],
      "metadata": {
        "colab": {
          "base_uri": "https://localhost:8080/",
          "height": 206
        },
        "id": "eJa7x9WieMqH",
        "outputId": "0cab58cb-4e6f-4747-ca03-21de86c6cbf1"
      },
      "execution_count": null,
      "outputs": [
        {
          "output_type": "execute_result",
          "data": {
            "text/plain": [
              "  member_casual  hour  median  count\n",
              "0        casual     0    11.0  38068\n",
              "1        casual     1    11.0  24872\n",
              "2        casual     2    11.0  15608\n",
              "3        casual     3    10.0   8991\n",
              "4        casual     4    10.0   6306"
            ],
            "text/html": [
              "\n",
              "  <div id=\"df-091fdf60-059c-4ec2-80a0-0f8ddf535360\">\n",
              "    <div class=\"colab-df-container\">\n",
              "      <div>\n",
              "<style scoped>\n",
              "    .dataframe tbody tr th:only-of-type {\n",
              "        vertical-align: middle;\n",
              "    }\n",
              "\n",
              "    .dataframe tbody tr th {\n",
              "        vertical-align: top;\n",
              "    }\n",
              "\n",
              "    .dataframe thead th {\n",
              "        text-align: right;\n",
              "    }\n",
              "</style>\n",
              "<table border=\"1\" class=\"dataframe\">\n",
              "  <thead>\n",
              "    <tr style=\"text-align: right;\">\n",
              "      <th></th>\n",
              "      <th>member_casual</th>\n",
              "      <th>hour</th>\n",
              "      <th>median</th>\n",
              "      <th>count</th>\n",
              "    </tr>\n",
              "  </thead>\n",
              "  <tbody>\n",
              "    <tr>\n",
              "      <th>0</th>\n",
              "      <td>casual</td>\n",
              "      <td>0</td>\n",
              "      <td>11.0</td>\n",
              "      <td>38068</td>\n",
              "    </tr>\n",
              "    <tr>\n",
              "      <th>1</th>\n",
              "      <td>casual</td>\n",
              "      <td>1</td>\n",
              "      <td>11.0</td>\n",
              "      <td>24872</td>\n",
              "    </tr>\n",
              "    <tr>\n",
              "      <th>2</th>\n",
              "      <td>casual</td>\n",
              "      <td>2</td>\n",
              "      <td>11.0</td>\n",
              "      <td>15608</td>\n",
              "    </tr>\n",
              "    <tr>\n",
              "      <th>3</th>\n",
              "      <td>casual</td>\n",
              "      <td>3</td>\n",
              "      <td>10.0</td>\n",
              "      <td>8991</td>\n",
              "    </tr>\n",
              "    <tr>\n",
              "      <th>4</th>\n",
              "      <td>casual</td>\n",
              "      <td>4</td>\n",
              "      <td>10.0</td>\n",
              "      <td>6306</td>\n",
              "    </tr>\n",
              "  </tbody>\n",
              "</table>\n",
              "</div>\n",
              "      <button class=\"colab-df-convert\" onclick=\"convertToInteractive('df-091fdf60-059c-4ec2-80a0-0f8ddf535360')\"\n",
              "              title=\"Convert this dataframe to an interactive table.\"\n",
              "              style=\"display:none;\">\n",
              "        \n",
              "  <svg xmlns=\"http://www.w3.org/2000/svg\" height=\"24px\"viewBox=\"0 0 24 24\"\n",
              "       width=\"24px\">\n",
              "    <path d=\"M0 0h24v24H0V0z\" fill=\"none\"/>\n",
              "    <path d=\"M18.56 5.44l.94 2.06.94-2.06 2.06-.94-2.06-.94-.94-2.06-.94 2.06-2.06.94zm-11 1L8.5 8.5l.94-2.06 2.06-.94-2.06-.94L8.5 2.5l-.94 2.06-2.06.94zm10 10l.94 2.06.94-2.06 2.06-.94-2.06-.94-.94-2.06-.94 2.06-2.06.94z\"/><path d=\"M17.41 7.96l-1.37-1.37c-.4-.4-.92-.59-1.43-.59-.52 0-1.04.2-1.43.59L10.3 9.45l-7.72 7.72c-.78.78-.78 2.05 0 2.83L4 21.41c.39.39.9.59 1.41.59.51 0 1.02-.2 1.41-.59l7.78-7.78 2.81-2.81c.8-.78.8-2.07 0-2.86zM5.41 20L4 18.59l7.72-7.72 1.47 1.35L5.41 20z\"/>\n",
              "  </svg>\n",
              "      </button>\n",
              "      \n",
              "  <style>\n",
              "    .colab-df-container {\n",
              "      display:flex;\n",
              "      flex-wrap:wrap;\n",
              "      gap: 12px;\n",
              "    }\n",
              "\n",
              "    .colab-df-convert {\n",
              "      background-color: #E8F0FE;\n",
              "      border: none;\n",
              "      border-radius: 50%;\n",
              "      cursor: pointer;\n",
              "      display: none;\n",
              "      fill: #1967D2;\n",
              "      height: 32px;\n",
              "      padding: 0 0 0 0;\n",
              "      width: 32px;\n",
              "    }\n",
              "\n",
              "    .colab-df-convert:hover {\n",
              "      background-color: #E2EBFA;\n",
              "      box-shadow: 0px 1px 2px rgba(60, 64, 67, 0.3), 0px 1px 3px 1px rgba(60, 64, 67, 0.15);\n",
              "      fill: #174EA6;\n",
              "    }\n",
              "\n",
              "    [theme=dark] .colab-df-convert {\n",
              "      background-color: #3B4455;\n",
              "      fill: #D2E3FC;\n",
              "    }\n",
              "\n",
              "    [theme=dark] .colab-df-convert:hover {\n",
              "      background-color: #434B5C;\n",
              "      box-shadow: 0px 1px 3px 1px rgba(0, 0, 0, 0.15);\n",
              "      filter: drop-shadow(0px 1px 2px rgba(0, 0, 0, 0.3));\n",
              "      fill: #FFFFFF;\n",
              "    }\n",
              "  </style>\n",
              "\n",
              "      <script>\n",
              "        const buttonEl =\n",
              "          document.querySelector('#df-091fdf60-059c-4ec2-80a0-0f8ddf535360 button.colab-df-convert');\n",
              "        buttonEl.style.display =\n",
              "          google.colab.kernel.accessAllowed ? 'block' : 'none';\n",
              "\n",
              "        async function convertToInteractive(key) {\n",
              "          const element = document.querySelector('#df-091fdf60-059c-4ec2-80a0-0f8ddf535360');\n",
              "          const dataTable =\n",
              "            await google.colab.kernel.invokeFunction('convertToInteractive',\n",
              "                                                     [key], {});\n",
              "          if (!dataTable) return;\n",
              "\n",
              "          const docLinkHtml = 'Like what you see? Visit the ' +\n",
              "            '<a target=\"_blank\" href=https://colab.research.google.com/notebooks/data_table.ipynb>data table notebook</a>'\n",
              "            + ' to learn more about interactive tables.';\n",
              "          element.innerHTML = '';\n",
              "          dataTable['output_type'] = 'display_data';\n",
              "          await google.colab.output.renderOutput(dataTable, element);\n",
              "          const docLink = document.createElement('div');\n",
              "          docLink.innerHTML = docLinkHtml;\n",
              "          element.appendChild(docLink);\n",
              "        }\n",
              "      </script>\n",
              "    </div>\n",
              "  </div>\n",
              "  "
            ]
          },
          "metadata": {},
          "execution_count": 167
        }
      ]
    },
    {
      "cell_type": "code",
      "source": [
        "week_ride= df.groupby(['member_casual','dayofweek'])['length_ride'].agg(['median','count'])\n",
        "week_ride.reset_index(inplace=True)\n",
        "week_ride['dayofweek']=pd.Categorical(week_ride['dayofweek'], categories=ordered_days, ordered=True)\n",
        "week_ride.head()"
      ],
      "metadata": {
        "colab": {
          "base_uri": "https://localhost:8080/",
          "height": 206
        },
        "id": "4GSFxVo8nxKy",
        "outputId": "8e444ede-57e3-4ab2-dbb8-49113917d7f2"
      },
      "execution_count": null,
      "outputs": [
        {
          "output_type": "execute_result",
          "data": {
            "text/plain": [
              "  member_casual dayofweek  median   count\n",
              "0        casual    Friday    12.0  261482\n",
              "1        casual    Monday    12.0  214372\n",
              "2        casual  Saturday    14.0  371688\n",
              "3        casual    Sunday    14.0  313773\n",
              "4        casual  Thursday    11.0  240012"
            ],
            "text/html": [
              "\n",
              "  <div id=\"df-02c54e24-cf2b-4a2a-ae11-33a4aeac3c9e\">\n",
              "    <div class=\"colab-df-container\">\n",
              "      <div>\n",
              "<style scoped>\n",
              "    .dataframe tbody tr th:only-of-type {\n",
              "        vertical-align: middle;\n",
              "    }\n",
              "\n",
              "    .dataframe tbody tr th {\n",
              "        vertical-align: top;\n",
              "    }\n",
              "\n",
              "    .dataframe thead th {\n",
              "        text-align: right;\n",
              "    }\n",
              "</style>\n",
              "<table border=\"1\" class=\"dataframe\">\n",
              "  <thead>\n",
              "    <tr style=\"text-align: right;\">\n",
              "      <th></th>\n",
              "      <th>member_casual</th>\n",
              "      <th>dayofweek</th>\n",
              "      <th>median</th>\n",
              "      <th>count</th>\n",
              "    </tr>\n",
              "  </thead>\n",
              "  <tbody>\n",
              "    <tr>\n",
              "      <th>0</th>\n",
              "      <td>casual</td>\n",
              "      <td>Friday</td>\n",
              "      <td>12.0</td>\n",
              "      <td>261482</td>\n",
              "    </tr>\n",
              "    <tr>\n",
              "      <th>1</th>\n",
              "      <td>casual</td>\n",
              "      <td>Monday</td>\n",
              "      <td>12.0</td>\n",
              "      <td>214372</td>\n",
              "    </tr>\n",
              "    <tr>\n",
              "      <th>2</th>\n",
              "      <td>casual</td>\n",
              "      <td>Saturday</td>\n",
              "      <td>14.0</td>\n",
              "      <td>371688</td>\n",
              "    </tr>\n",
              "    <tr>\n",
              "      <th>3</th>\n",
              "      <td>casual</td>\n",
              "      <td>Sunday</td>\n",
              "      <td>14.0</td>\n",
              "      <td>313773</td>\n",
              "    </tr>\n",
              "    <tr>\n",
              "      <th>4</th>\n",
              "      <td>casual</td>\n",
              "      <td>Thursday</td>\n",
              "      <td>11.0</td>\n",
              "      <td>240012</td>\n",
              "    </tr>\n",
              "  </tbody>\n",
              "</table>\n",
              "</div>\n",
              "      <button class=\"colab-df-convert\" onclick=\"convertToInteractive('df-02c54e24-cf2b-4a2a-ae11-33a4aeac3c9e')\"\n",
              "              title=\"Convert this dataframe to an interactive table.\"\n",
              "              style=\"display:none;\">\n",
              "        \n",
              "  <svg xmlns=\"http://www.w3.org/2000/svg\" height=\"24px\"viewBox=\"0 0 24 24\"\n",
              "       width=\"24px\">\n",
              "    <path d=\"M0 0h24v24H0V0z\" fill=\"none\"/>\n",
              "    <path d=\"M18.56 5.44l.94 2.06.94-2.06 2.06-.94-2.06-.94-.94-2.06-.94 2.06-2.06.94zm-11 1L8.5 8.5l.94-2.06 2.06-.94-2.06-.94L8.5 2.5l-.94 2.06-2.06.94zm10 10l.94 2.06.94-2.06 2.06-.94-2.06-.94-.94-2.06-.94 2.06-2.06.94z\"/><path d=\"M17.41 7.96l-1.37-1.37c-.4-.4-.92-.59-1.43-.59-.52 0-1.04.2-1.43.59L10.3 9.45l-7.72 7.72c-.78.78-.78 2.05 0 2.83L4 21.41c.39.39.9.59 1.41.59.51 0 1.02-.2 1.41-.59l7.78-7.78 2.81-2.81c.8-.78.8-2.07 0-2.86zM5.41 20L4 18.59l7.72-7.72 1.47 1.35L5.41 20z\"/>\n",
              "  </svg>\n",
              "      </button>\n",
              "      \n",
              "  <style>\n",
              "    .colab-df-container {\n",
              "      display:flex;\n",
              "      flex-wrap:wrap;\n",
              "      gap: 12px;\n",
              "    }\n",
              "\n",
              "    .colab-df-convert {\n",
              "      background-color: #E8F0FE;\n",
              "      border: none;\n",
              "      border-radius: 50%;\n",
              "      cursor: pointer;\n",
              "      display: none;\n",
              "      fill: #1967D2;\n",
              "      height: 32px;\n",
              "      padding: 0 0 0 0;\n",
              "      width: 32px;\n",
              "    }\n",
              "\n",
              "    .colab-df-convert:hover {\n",
              "      background-color: #E2EBFA;\n",
              "      box-shadow: 0px 1px 2px rgba(60, 64, 67, 0.3), 0px 1px 3px 1px rgba(60, 64, 67, 0.15);\n",
              "      fill: #174EA6;\n",
              "    }\n",
              "\n",
              "    [theme=dark] .colab-df-convert {\n",
              "      background-color: #3B4455;\n",
              "      fill: #D2E3FC;\n",
              "    }\n",
              "\n",
              "    [theme=dark] .colab-df-convert:hover {\n",
              "      background-color: #434B5C;\n",
              "      box-shadow: 0px 1px 3px 1px rgba(0, 0, 0, 0.15);\n",
              "      filter: drop-shadow(0px 1px 2px rgba(0, 0, 0, 0.3));\n",
              "      fill: #FFFFFF;\n",
              "    }\n",
              "  </style>\n",
              "\n",
              "      <script>\n",
              "        const buttonEl =\n",
              "          document.querySelector('#df-02c54e24-cf2b-4a2a-ae11-33a4aeac3c9e button.colab-df-convert');\n",
              "        buttonEl.style.display =\n",
              "          google.colab.kernel.accessAllowed ? 'block' : 'none';\n",
              "\n",
              "        async function convertToInteractive(key) {\n",
              "          const element = document.querySelector('#df-02c54e24-cf2b-4a2a-ae11-33a4aeac3c9e');\n",
              "          const dataTable =\n",
              "            await google.colab.kernel.invokeFunction('convertToInteractive',\n",
              "                                                     [key], {});\n",
              "          if (!dataTable) return;\n",
              "\n",
              "          const docLinkHtml = 'Like what you see? Visit the ' +\n",
              "            '<a target=\"_blank\" href=https://colab.research.google.com/notebooks/data_table.ipynb>data table notebook</a>'\n",
              "            + ' to learn more about interactive tables.';\n",
              "          element.innerHTML = '';\n",
              "          dataTable['output_type'] = 'display_data';\n",
              "          await google.colab.output.renderOutput(dataTable, element);\n",
              "          const docLink = document.createElement('div');\n",
              "          docLink.innerHTML = docLinkHtml;\n",
              "          element.appendChild(docLink);\n",
              "        }\n",
              "      </script>\n",
              "    </div>\n",
              "  </div>\n",
              "  "
            ]
          },
          "metadata": {},
          "execution_count": 168
        }
      ]
    },
    {
      "cell_type": "code",
      "source": [
        "month_ride= df.groupby(['member_casual','month'])['length_ride'].agg(['median','count'])\n",
        "month_ride.reset_index(inplace=True)\n",
        "month_ride['month']=pd.Categorical(month_ride[\"month\"], categories=ordered_months, ordered=True)\n",
        "month_ride.head()"
      ],
      "metadata": {
        "colab": {
          "base_uri": "https://localhost:8080/",
          "height": 206
        },
        "id": "PP0gJaAlnMSg",
        "outputId": "edb0aa6a-4c49-4f49-b38e-82f356219419"
      },
      "execution_count": null,
      "outputs": [
        {
          "output_type": "execute_result",
          "data": {
            "text/plain": [
              "  member_casual     month  median   count\n",
              "0        casual     April    12.0   89056\n",
              "1        casual    August    11.0  277307\n",
              "2        casual  December    10.0   50239\n",
              "3        casual  February    10.0   16076\n",
              "4        casual   January     9.0   14033"
            ],
            "text/html": [
              "\n",
              "  <div id=\"df-ccdadbf0-297a-4a30-a11a-71ce5194ba3a\">\n",
              "    <div class=\"colab-df-container\">\n",
              "      <div>\n",
              "<style scoped>\n",
              "    .dataframe tbody tr th:only-of-type {\n",
              "        vertical-align: middle;\n",
              "    }\n",
              "\n",
              "    .dataframe tbody tr th {\n",
              "        vertical-align: top;\n",
              "    }\n",
              "\n",
              "    .dataframe thead th {\n",
              "        text-align: right;\n",
              "    }\n",
              "</style>\n",
              "<table border=\"1\" class=\"dataframe\">\n",
              "  <thead>\n",
              "    <tr style=\"text-align: right;\">\n",
              "      <th></th>\n",
              "      <th>member_casual</th>\n",
              "      <th>month</th>\n",
              "      <th>median</th>\n",
              "      <th>count</th>\n",
              "    </tr>\n",
              "  </thead>\n",
              "  <tbody>\n",
              "    <tr>\n",
              "      <th>0</th>\n",
              "      <td>casual</td>\n",
              "      <td>April</td>\n",
              "      <td>12.0</td>\n",
              "      <td>89056</td>\n",
              "    </tr>\n",
              "    <tr>\n",
              "      <th>1</th>\n",
              "      <td>casual</td>\n",
              "      <td>August</td>\n",
              "      <td>11.0</td>\n",
              "      <td>277307</td>\n",
              "    </tr>\n",
              "    <tr>\n",
              "      <th>2</th>\n",
              "      <td>casual</td>\n",
              "      <td>December</td>\n",
              "      <td>10.0</td>\n",
              "      <td>50239</td>\n",
              "    </tr>\n",
              "    <tr>\n",
              "      <th>3</th>\n",
              "      <td>casual</td>\n",
              "      <td>February</td>\n",
              "      <td>10.0</td>\n",
              "      <td>16076</td>\n",
              "    </tr>\n",
              "    <tr>\n",
              "      <th>4</th>\n",
              "      <td>casual</td>\n",
              "      <td>January</td>\n",
              "      <td>9.0</td>\n",
              "      <td>14033</td>\n",
              "    </tr>\n",
              "  </tbody>\n",
              "</table>\n",
              "</div>\n",
              "      <button class=\"colab-df-convert\" onclick=\"convertToInteractive('df-ccdadbf0-297a-4a30-a11a-71ce5194ba3a')\"\n",
              "              title=\"Convert this dataframe to an interactive table.\"\n",
              "              style=\"display:none;\">\n",
              "        \n",
              "  <svg xmlns=\"http://www.w3.org/2000/svg\" height=\"24px\"viewBox=\"0 0 24 24\"\n",
              "       width=\"24px\">\n",
              "    <path d=\"M0 0h24v24H0V0z\" fill=\"none\"/>\n",
              "    <path d=\"M18.56 5.44l.94 2.06.94-2.06 2.06-.94-2.06-.94-.94-2.06-.94 2.06-2.06.94zm-11 1L8.5 8.5l.94-2.06 2.06-.94-2.06-.94L8.5 2.5l-.94 2.06-2.06.94zm10 10l.94 2.06.94-2.06 2.06-.94-2.06-.94-.94-2.06-.94 2.06-2.06.94z\"/><path d=\"M17.41 7.96l-1.37-1.37c-.4-.4-.92-.59-1.43-.59-.52 0-1.04.2-1.43.59L10.3 9.45l-7.72 7.72c-.78.78-.78 2.05 0 2.83L4 21.41c.39.39.9.59 1.41.59.51 0 1.02-.2 1.41-.59l7.78-7.78 2.81-2.81c.8-.78.8-2.07 0-2.86zM5.41 20L4 18.59l7.72-7.72 1.47 1.35L5.41 20z\"/>\n",
              "  </svg>\n",
              "      </button>\n",
              "      \n",
              "  <style>\n",
              "    .colab-df-container {\n",
              "      display:flex;\n",
              "      flex-wrap:wrap;\n",
              "      gap: 12px;\n",
              "    }\n",
              "\n",
              "    .colab-df-convert {\n",
              "      background-color: #E8F0FE;\n",
              "      border: none;\n",
              "      border-radius: 50%;\n",
              "      cursor: pointer;\n",
              "      display: none;\n",
              "      fill: #1967D2;\n",
              "      height: 32px;\n",
              "      padding: 0 0 0 0;\n",
              "      width: 32px;\n",
              "    }\n",
              "\n",
              "    .colab-df-convert:hover {\n",
              "      background-color: #E2EBFA;\n",
              "      box-shadow: 0px 1px 2px rgba(60, 64, 67, 0.3), 0px 1px 3px 1px rgba(60, 64, 67, 0.15);\n",
              "      fill: #174EA6;\n",
              "    }\n",
              "\n",
              "    [theme=dark] .colab-df-convert {\n",
              "      background-color: #3B4455;\n",
              "      fill: #D2E3FC;\n",
              "    }\n",
              "\n",
              "    [theme=dark] .colab-df-convert:hover {\n",
              "      background-color: #434B5C;\n",
              "      box-shadow: 0px 1px 3px 1px rgba(0, 0, 0, 0.15);\n",
              "      filter: drop-shadow(0px 1px 2px rgba(0, 0, 0, 0.3));\n",
              "      fill: #FFFFFF;\n",
              "    }\n",
              "  </style>\n",
              "\n",
              "      <script>\n",
              "        const buttonEl =\n",
              "          document.querySelector('#df-ccdadbf0-297a-4a30-a11a-71ce5194ba3a button.colab-df-convert');\n",
              "        buttonEl.style.display =\n",
              "          google.colab.kernel.accessAllowed ? 'block' : 'none';\n",
              "\n",
              "        async function convertToInteractive(key) {\n",
              "          const element = document.querySelector('#df-ccdadbf0-297a-4a30-a11a-71ce5194ba3a');\n",
              "          const dataTable =\n",
              "            await google.colab.kernel.invokeFunction('convertToInteractive',\n",
              "                                                     [key], {});\n",
              "          if (!dataTable) return;\n",
              "\n",
              "          const docLinkHtml = 'Like what you see? Visit the ' +\n",
              "            '<a target=\"_blank\" href=https://colab.research.google.com/notebooks/data_table.ipynb>data table notebook</a>'\n",
              "            + ' to learn more about interactive tables.';\n",
              "          element.innerHTML = '';\n",
              "          dataTable['output_type'] = 'display_data';\n",
              "          await google.colab.output.renderOutput(dataTable, element);\n",
              "          const docLink = document.createElement('div');\n",
              "          docLink.innerHTML = docLinkHtml;\n",
              "          element.appendChild(docLink);\n",
              "        }\n",
              "      </script>\n",
              "    </div>\n",
              "  </div>\n",
              "  "
            ]
          },
          "metadata": {},
          "execution_count": 169
        }
      ]
    },
    {
      "cell_type": "code",
      "source": [
        "fig, ax = plt.subplots()\n",
        "ax=sns.scatterplot(data=hour_ride,x='hour',y='median',hue='member_casual',size='count',sizes=(50, 200))\n",
        "plt.ylabel('Median Length Ride')\n",
        "plt.axhline(y=member['length_ride'].median(),color='orange',alpha=0.5)\n",
        "plt.axhline(y=casual['length_ride'].median(),color='blue',alpha=0.5)\n",
        "plt.legend(loc='upper left', bbox_to_anchor=(1, 1))\n",
        "sns.despine(top=True, right=True)"
      ],
      "metadata": {
        "colab": {
          "base_uri": "https://localhost:8080/",
          "height": 442
        },
        "id": "7Kas6MKaOLv6",
        "outputId": "f7d1178d-aee9-4ccc-ec58-e97ec4f83f82"
      },
      "execution_count": null,
      "outputs": [
        {
          "output_type": "display_data",
          "data": {
            "text/plain": [
              "<Figure size 864x504 with 1 Axes>"
            ],
            "image/png": "[encoded data removed]"
          },
          "metadata": {
            "needs_background": "light"
          }
        }
      ]
    },
    {
      "cell_type": "code",
      "source": [
        "ax = sns.scatterplot(data=week_ride,x='dayofweek',y='median',hue='member_casual',size='count',sizes=(50, 200))\n",
        "plt.ylabel('Median Length Ride')\n",
        "plt.legend(markerscale=2)\n",
        "plt.axhline(y=member['length_ride'].median(),color='orange',alpha=0.5)\n",
        "plt.axhline(y=casual['length_ride'].median(),color='blue',alpha=0.5)\n",
        "plt.legend(loc='upper left', bbox_to_anchor=(1, 1))\n",
        "sns.despine(top=True, right=True)"
      ],
      "metadata": {
        "colab": {
          "base_uri": "https://localhost:8080/",
          "height": 442
        },
        "id": "9kqLqCO-oHxB",
        "outputId": "83953247-cbcb-4ab9-9cb2-cfe49b13c035"
      },
      "execution_count": null,
      "outputs": [
        {
          "output_type": "display_data",
          "data": {
            "text/plain": [
              "<Figure size 864x504 with 1 Axes>"
            ],
            "image/png": "[encoded data removed]"
          },
          "metadata": {
            "needs_background": "light"
          }
        }
      ]
    },
    {
      "cell_type": "code",
      "source": [
        "ax = sns.scatterplot(data=month_ride,x='month',y='median',hue='member_casual',size='count',sizes=(50, 200))\n",
        "plt.ylabel('Median Length Ride')\n",
        "plt.axhline(y=member['length_ride'].median(),color='orange',alpha=0.5)\n",
        "plt.axhline(y=casual['length_ride'].median(),color='blue',alpha=0.5)\n",
        "plt.legend(loc='upper left', bbox_to_anchor=(1, 1))\n",
        "sns.despine(top=True, right=True)"
      ],
      "metadata": {
        "colab": {
          "base_uri": "https://localhost:8080/",
          "height": 442
        },
        "id": "u1cFAsirnRY4",
        "outputId": "c01dfb86-52a0-43f4-c974-396fa3aeec6f"
      },
      "execution_count": null,
      "outputs": [
        {
          "output_type": "display_data",
          "data": {
            "text/plain": [
              "<Figure size 864x504 with 1 Axes>"
            ],
            "image/png": "[encoded data removed]"
          },
          "metadata": {
            "needs_background": "light"
          }
        }
      ]
    },
    {
      "cell_type": "markdown",
      "source": [
        "### Ride Price"
      ],
      "metadata": {
        "id": "8hG7G5Z-wkcN"
      }
    },
    {
      "cell_type": "code",
      "source": [
        "df.query(\"member_casual=='casual'\")['price'].describe()"
      ],
      "metadata": {
        "colab": {
          "base_uri": "https://localhost:8080/"
        },
        "id": "XOgmdfeDNgFu",
        "outputId": "53d5aa11-1af6-4fb9-845c-c05605a9ec80"
      },
      "execution_count": null,
      "outputs": [
        {
          "output_type": "execute_result",
          "data": {
            "text/plain": [
              "count    1.840734e+06\n",
              "mean     3.385892e+00\n",
              "std      1.652197e+00\n",
              "min      1.160000e+00\n",
              "25%      2.120000e+00\n",
              "50%      2.920000e+00\n",
              "75%      4.200000e+00\n",
              "max      8.680000e+00\n",
              "Name: price, dtype: float64"
            ]
          },
          "metadata": {},
          "execution_count": 173
        }
      ]
    },
    {
      "cell_type": "code",
      "source": [
        "df.query(\"member_casual=='casual'\")['price'].median()"
      ],
      "metadata": {
        "colab": {
          "base_uri": "https://localhost:8080/"
        },
        "id": "RsDXsdqukHFy",
        "outputId": "2e7d091a-7c35-4fdb-bac2-376dd986a5e7"
      },
      "execution_count": null,
      "outputs": [
        {
          "output_type": "execute_result",
          "data": {
            "text/plain": [
              "2.92"
            ]
          },
          "metadata": {},
          "execution_count": 174
        }
      ]
    },
    {
      "cell_type": "code",
      "source": [
        "df.query(\"member_casual=='member'\")['price'].describe()"
      ],
      "metadata": {
        "colab": {
          "base_uri": "https://localhost:8080/"
        },
        "id": "V98qFoypN50s",
        "outputId": "13220686-b6b9-489c-af04-cb9eb2cbb6ce"
      },
      "execution_count": null,
      "outputs": [
        {
          "output_type": "execute_result",
          "data": {
            "text/plain": [
              "count    2886051.0\n",
              "mean          10.0\n",
              "std            0.0\n",
              "min           10.0\n",
              "25%           10.0\n",
              "50%           10.0\n",
              "75%           10.0\n",
              "max           10.0\n",
              "Name: price, dtype: float64"
            ]
          },
          "metadata": {},
          "execution_count": 175
        }
      ]
    },
    {
      "cell_type": "code",
      "source": [
        "df.query(\"member_casual=='member'\")['price'].median()"
      ],
      "metadata": {
        "colab": {
          "base_uri": "https://localhost:8080/"
        },
        "id": "z9W2BTRYkDqa",
        "outputId": "d6cd48c2-027a-4fe1-efb2-9485117a36ee"
      },
      "execution_count": null,
      "outputs": [
        {
          "output_type": "execute_result",
          "data": {
            "text/plain": [
              "10.0"
            ]
          },
          "metadata": {},
          "execution_count": 176
        }
      ]
    },
    {
      "cell_type": "code",
      "source": [
        "#illustrate price distribution using boxplot\n",
        "plt.figure(figsize = (12, 7))\n",
        "sns.boxplot(data=df,x='member_casual',y='price')\n",
        "plt.show()"
      ],
      "metadata": {
        "colab": {
          "base_uri": "https://localhost:8080/",
          "height": 443
        },
        "id": "qOsClfdcK-RU",
        "outputId": "777778c5-379b-4317-9e89-50b8b47c3cd7"
      },
      "execution_count": null,
      "outputs": [
        {
          "output_type": "display_data",
          "data": {
            "text/plain": [
              "<Figure size 864x504 with 1 Axes>"
            ],
            "image/png": "[encoded data removed]"
          },
          "metadata": {
            "needs_background": "light"
          }
        }
      ]
    },
    {
      "cell_type": "markdown",
      "source": [
        "# Analysis and Recommendations"
      ],
      "metadata": {
        "id": "7P_JXiu_St3q"
      }
    },
    {
      "cell_type": "markdown",
      "source": [
        "**Analysis:**\n",
        "\n",
        "*   There are more rides made by members than casual riders.(3131122, 2036164 respectively)\n",
        "*   Members choose more electric bikes than classic bikes. Casual riders doesn't seem to prefer one bike type over another.\n",
        "*   Busiest stations for casual riders are concentrated into the following:\n",
        "\n",
        "    Start Station\n",
        "    1. Streeter Dr & Grand Ave\n",
        "    2. DuSable Lake SHore Dr & Monroe St\n",
        "    3. DuSable Lake Shore Dr & North Blvd\n",
        "    4. Michigan Ave & Oak St\n",
        "    5. Wells St & Concord Ln\n",
        "    6. Millenium Park\n",
        "\n",
        "    End\n",
        "    1.  Streeter Dr & Grand Ave\n",
        "    2.   DuSable Lake Shore Dr & North Blvd\n",
        "    3.   Michigan Ave & Oak St\n",
        "    4.  DuSable Lake SHore Dr & Monroe St\n",
        "    5.   Millenium Park\n",
        "    6.  Wells St & Concord Ln\n",
        "    7.   Theater on the Lake\n",
        "\n",
        "  With Streeter Dr & Grand Ave having much greater count of casual rides than the others.\n",
        "\n",
        "*   On the other hand, stations for members vary greatly. The only commonality betweeen casual and member rides station is Wells St & Concord Ln.\n",
        "*  There are almost twice the rides by members on weekdays than casual riders. While on weekends the count of rides are almost the same for both.\n",
        "*  There are high volume of member riders on 6-7 am and 5-6pm on Weekdays. Casual riders on 5-6pm Weekdays and 11am-4pm on Weekends. \n",
        "*   Busiest season is Summer (June, July, August), and lowest season is Winter.\n",
        "*   Casual rides are longer (12 minutes) than member rides (8 minutes) but the cost per ride is much lower (2.92 dollars) than the monthly subsciption (10 dollars).\n",
        "\n"
      ],
      "metadata": {
        "id": "eNTS-edgWhaO"
      }
    },
    {
      "cell_type": "markdown",
      "source": [
        "**Recommendations:**\n",
        "\n",
        "*   Place promotions strategically on stations used most by casual riders, especially on Streeter Dr & Grand Ave (have most rides) and Wells St & Concord Ln (may have the riders that have higher chance to be converted since other members use this station often). Also these stations are located in crowded area where museum, parks, pier/beach, restaurants and shopping centers are present.\n",
        "\n",
        "*   There is a median of 2.92 dollars per ride done by casual riders. Given this, we can say that for the price of less than 4 rides, casual riders can ride the bikes longer and more in a month if they became members, plus with other benefits too. Making the promotion in terms of number of rides makes it easier to understand and compare than using dollar/ mins, where people still need to compute it. \n",
        "\n",
        "*  Make use of peak times where ride lengths are longest for casual rides: 11 am- 5pm, Weekends, May and September. Longer ride lengths may mean they are enjoying the service. Offer a discounted membership subscription or trial plan around these times.\n"
      ],
      "metadata": {
        "id": "9KXdZESddYqw"
      }
    },
    {
      "cell_type": "markdown",
      "source": [
        "**For further study:**\n",
        "\n",
        "*   Investigate the reason for negative length rides and missing station ids and names.\n",
        "*   Explore further the outliers in the length rides.\n",
        "*   Study the casual members who rents the bike more than 56 mins per ride and also those who accumulate more than 10$ of use per month. \n",
        "\n",
        "\n"
      ],
      "metadata": {
        "id": "ZHJk68KMP3sz"
      }
    }
  ],
  "metadata": {
    "colab": {
      "provenance": [],
      "collapsed_sections": [
        "zfp4XCooZYFs",
        "wGhF6le7aDCe",
        "ZwQKbfxrbLWz",
        "QUvojNwdLYB9",
        "wCeZkBiOl9J8",
        "Qm1RZatcO3xK",
        "jbJCG_-vPWiE",
        "-q_afLsf2JYj",
        "1c4AC-bhY3kU",
        "lY4ymVPIk9g8",
        "Z1dtlsQvwXgG",
        "evOgeniPwe1f"
      ],
      "mount_file_id": "1FLAU1LSLzpzxqSYYmYt0onWwGCaX88JA",
      "authorship_tag": "ABX9TyNBTF4EnoihOg0ofaq+pYP+",
      "include_colab_link": true
    },
    "kernelspec": {
      "display_name": "Python 3",
      "name": "python3"
    },
    "language_info": {
      "name": "python"
    }
  },
  "nbformat": 4,
  "nbformat_minor": 0
}